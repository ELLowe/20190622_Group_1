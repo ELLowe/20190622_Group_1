{
 "cells": [
  {
   "cell_type": "code",
   "execution_count": null,
   "metadata": {},
   "outputs": [],
   "source": [
    "##################################################################\n",
    "# Rob Mowry, Heena Waichulis, Esther Lowe, and Kevin Stradinger  #\n",
    "# Analysis of Chicago Crime                                      #\n",
    "# 06/22/2019                                                     #\n",
    "##################################################################"
   ]
  },
  {
   "cell_type": "code",
   "execution_count": null,
   "metadata": {},
   "outputs": [],
   "source": [
    "# Dependencies\n",
    "import numpy as np\n",
    "import pandas as pd\n",
    "import matplotlib.pyplot as plt\n",
    "import requests\n",
    "from sodapy import Socrata"
   ]
  },
  {
   "cell_type": "code",
   "execution_count": 4,
   "metadata": {},
   "outputs": [],
   "source": [
    "#Creating base URL and inserting Key\n",
    "copa = Socrata('data.cityofchicago.org', 'thHdbKC6b0gXkzsjHByVYU8qf')"
   ]
  },
  {
   "cell_type": "code",
   "execution_count": null,
   "metadata": {},
   "outputs": [],
   "source": [
    "#Calling the COPA dataset from Chicago Open Data\n",
    "copa_data = copa.get(\"mft5-nfa8\", limit=81600)"
   ]
  },
  {
   "cell_type": "code",
   "execution_count": null,
   "metadata": {},
   "outputs": [],
   "source": [
    "#Creating Dataframe, veiwing length & head\n",
    "copa_df = pd.DataFrame.from_records(copa_data)\n",
    "print(len(copa_df))\n",
    "copa_df.head()"
   ]
  },
  {
   "cell_type": "markdown",
   "metadata": {},
   "source": [
    "# What organizations are complaints being investigated by?\n",
    "Complaints filed against CPD are investigated by one of three organizations\n",
    "Bureau of Internal Affaairs: an internal organism of CPD intended to investigate offenses such as: Criminal misconduct, Operational violations, Theft of money or property, Planting of drugs, Substance abuse, Residency violations, and Medical roll abuse. COPA and its predeccesor IPRA: Both COPA and IPRA are independent of CPD and investigate what are generlly more major offenses including: Bias-based verbal abuse, Coercion, Death or serious bodily injury in custody, Domestic violence, Excessive force, Improper search and seizure, Firearm discharge, Taser discharge that results in death or serious bodily injury, Pattern or practices of misconduct, Unlawful denial or access to counsel."
   ]
  },
  {
   "cell_type": "code",
   "execution_count": null,
   "metadata": {},
   "outputs": [],
   "source": [
    "# Sorting complaints by investigating organization\n",
    "complaint_assignments =copa_df['assignment'].value_counts()\n",
    "assignment_labels = ['BIA','IPRA',\"COPA\"]\n",
    "assignment_colors = ['White','skyblue','coral']\n",
    "plt.title('Percent of Cases assigned by Oversight office')\n",
    "\n",
    "plt.pie(complaint_assignments, labels = assignment_labels, colors = assignment_colors, shadow =True, startangle = 90, autopct='%.1f%%')\n",
    "\n",
    "plt.savefig(\"Resources/Investigating organization Pie\")"
   ]
  },
  {
   "cell_type": "markdown",
   "metadata": {},
   "source": [
    "# What does this tell us?\n",
    "Just over 71 percent of complaints made against CPD are handled internally by BIA. These cases are handled internally and as such generally stay out of public view. This is evident from the head of our data, where we see that every case assigned to BIA has no more than a complaint date and a log number. While it is possible to get more information on these cases individually, it isn't feasible to do so on the scale which we are working at. While no abuse of power by those tasked with law enforcment should be considered minor the cases that fall under BIA jurisdiction tend to be less severe than those assigned to IPRA and COPA. The significant gap in cases assigned to COPA and IPRA can be explained by COPA's relative youth. While both organizations operated at the same time for a short period COPA has since replaced IPRA completely. An increase in scrutiny of police abuses of power came following the release of a dashcam footage of the shooting of LaQuan McDonald in 2014. IPRA came under fire not just specifically for thatcase but for failing to keep police accountable and was later replaced by COPA."
   ]
  },
  {
   "cell_type": "code",
   "execution_count": null,
   "metadata": {},
   "outputs": [],
   "source": [
    "# Remove BIA complaints from the set, to analyze IPRA and COPA\n",
    "copa_df = copa_df[copa_df.assignment != 'BIA']"
   ]
  },
  {
   "cell_type": "code",
   "execution_count": null,
   "metadata": {},
   "outputs": [],
   "source": [
    "complaint_assignments_lessBIA =copa_df['assignment'].value_counts()\n",
    "complaint_assignments_lessBIA"
   ]
  },
  {
   "cell_type": "code",
   "execution_count": null,
   "metadata": {},
   "outputs": [],
   "source": [
    "copa_df['current_category'].value_counts()"
   ]
  },
  {
   "cell_type": "code",
   "execution_count": null,
   "metadata": {},
   "outputs": [],
   "source": [
    "excessive_force = len(copa_df[copa_df[\"current_category\"] == \"Excessive Force\"])\n",
    "taser_notification = len(copa_df[copa_df[\"current_category\"] == \"Taser Notification\"])\n",
    "miscellaneous = len(copa_df[copa_df[\"current_category\"] == \"Miscellaneous\"])\n",
    "verbal_abuse = len(copa_df[copa_df[\"current_category\"] == \"Verbal Abuse\"])\n",
    "unnecessary_display_of_weapon = len(copa_df[copa_df[\"current_category\"] == \"Unnecessary Display of Weapon\"])\n",
    "firearm_discharge_at_animal = len(copa_df[copa_df[\"current_category\"] == \"Firearm Discharge at Animal\"])\n",
    "civil_suits = len(copa_df[copa_df[\"current_category\"] == \"Civil Suits\"])\n",
    "domestic_violence = len(copa_df[copa_df[\"current_category\"] == \"Domestic Violence\"])\n",
    "search_or_seizure = len(copa_df[copa_df[\"current_category\"] == \"Search or Seizure\"])\n",
    "firearm_discharge_hits = len(copa_df[copa_df[\"current_category\"] == \"Firearm Discharge - Hits\"])\n",
    "death_or_injury_in_custody = len(copa_df[copa_df[\"current_category\"] == \"Death or Injury In Custody\"])\n",
    "oc_discharge = len(copa_df[copa_df[\"current_category\"] == \"OC Discharge\"])\n",
    "firearm_discharge_no_hits = len(copa_df[copa_df[\"current_category\"] == \"Firearm Discharge - No Hits\"])\n",
    "coercion = len(copa_df[copa_df[\"current_category\"] == \"Coercion\"])\n",
    "operational_violation = len(copa_df[copa_df[\"current_category\"] == \"Operational Violation\"])\n",
    "taser_discharge = len(copa_df[copa_df[\"current_category\"] == \"Taser Discharge\"])\n",
    "motor_vehicle_death = len(copa_df[copa_df[\"current_category\"] == \"Motor Vehicle Related Death\"])\n",
    "legal_violation = len(copa_df[copa_df[\"current_category\"] == \"Legal Violation\"])\n",
    "bias = len(copa_df[copa_df[\"current_category\"] == \"Bias\"])\n",
    "unlawful_denial_of_counsel = len(copa_df[copa_df[\"current_category\"] == \"Unlawful Denial of Counsel\"])"
   ]
  },
  {
   "cell_type": "code",
   "execution_count": null,
   "metadata": {},
   "outputs": [],
   "source": [
    "# All complaints by category\n",
    "complaint_df=({'Excessive Force': excessive_force,\n",
    "              'Taser Notification': taser_notification,\n",
    "              'Miscellaneous':miscellaneous,\n",
    "              'Verbal Abuse':verbal_abuse,\n",
    "              'Unnecessary Display of Weapon':unnecessary_display_of_weapon,\n",
    "              'Firearm Discharge at Animal':firearm_discharge_at_animal,\n",
    "              'Civil Suit': civil_suits,\n",
    "              'Domestic Violence': domestic_violence,\n",
    "              'Search or Seizure': search_or_seizure,\n",
    "              'Firearm Discharge -- Hits':firearm_discharge_hits,\n",
    "              'Death or Injusry in Custody':death_or_injury_in_custody,\n",
    "              'OC Discharge(Chemical Agent)': oc_discharge,\n",
    "              'Firearm Dischagre -- No Hits': firearm_discharge_no_hits,\n",
    "              'Coercion': coercion,\n",
    "              'Operational Violation': operational_violation,\n",
    "              'Taser Discharge': taser_discharge,\n",
    "              'Motor Vehicle Death': motor_vehicle_death,\n",
    "              'Legal Violation': legal_violation,\n",
    "              'Bias': bias,\n",
    "              'Unlawful Denial of counsel':unlawful_denial_of_counsel})\n",
    "complaint_df = pd.DataFrame(complaint_df, index=[0])\n",
    "complaint_df=complaint_df.rename(columns ={0: \"Complaint Count\"}) \n",
    "complaint_df=complaint_df.transpose()\n",
    "complaint_df"
   ]
  },
  {
   "cell_type": "code",
   "execution_count": null,
   "metadata": {},
   "outputs": [],
   "source": [
    "# Complaint counts Bar Graph\n",
    "complaint_bar = complaint_df.iloc[0].plot.bar()\n",
    "plt.xlabel('Complaint Type')\n",
    "plt.ylabel('Complaint Count')\n",
    "plt.title('Counts for COPA and IPRA Complaint Types')\n",
    "\n",
    "plt.savefig(\"Resources/Complaint types Bar\")"
   ]
  },
  {
   "cell_type": "code",
   "execution_count": null,
   "metadata": {},
   "outputs": [],
   "source": [
    "#violent complaints\n",
    "violent_complaint_df=({'Excessive Force': excessive_force,\n",
    "              'Taser Notification': taser_notification,\n",
    "              'Firearm Discharge at Animal':firearm_discharge_at_animal,\n",
    "              'Domestic Violence': domestic_violence,\n",
    "              'Firearm Discharge -- Hits':firearm_discharge_hits,\n",
    "              'Death or Injusry in Custody':death_or_injury_in_custody,\n",
    "              'OC Discharge(Chemical Agent)': oc_discharge,\n",
    "              'Firearm Dischagre -- No Hits': firearm_discharge_no_hits,\n",
    "              'Taser Discharge': taser_discharge,\n",
    "              'Motor Vehicle Death': motor_vehicle_death})\n",
    "violent_complaint_df = pd.DataFrame(violent_complaint_df, index=[0])\n",
    "violent_complaint_df.transpose()"
   ]
  },
  {
   "cell_type": "code",
   "execution_count": null,
   "metadata": {},
   "outputs": [],
   "source": [
    "# Bar graph for violent complaints\n",
    "Violent_complaint_bar = violent_complaint_df.iloc[0].plot.bar()\n",
    "plt.xlabel('Complaint Type')\n",
    "plt.ylabel('Complaint Count')\n",
    "plt.title('Counts for COPA and IPRA Complaint Types (Violent Complaints Only)')\n",
    "\n",
    "plt.savefig(\"Resources/Violent complaint types Bar\")"
   ]
  },
  {
   "cell_type": "markdown",
   "metadata": {},
   "source": [
    "# Are Violent cases more likely to be reported?\n",
    "We can't determine whether or not violent cases are more likely to be reported, because we obviously don't have any information on cases that aren't reported. However, we can observe that of the complaints those whose category is inherently violent make up 69.5% of all complaints handled by COPA and IPRA. This also discounts every complaints like miscellaneous and coercion, which while not inherently violent certainly could be.\n",
    "\n",
    "While we can't ultimately determine if violent cases are more likely to be reported we can determine that case reported are more likely than not violent."
   ]
  },
  {
   "cell_type": "markdown",
   "metadata": {},
   "source": [
    "# What are the outcomes of these investigation?\n",
    "Investigation findings are divided into one of six categories in the dataset\n",
    "No Finding: The investigation is either waiting to begin, still underway or has been closed No Affidavit: According to COPA's website state law stipulates that \"in most instances, an affidavit be signed where an allegation of misconduct is made against a police officer.\" In certain cases Copa will pursue an affadavit override to pursue the case but if they cannot aquire an affadavit or and override the case will be closed. Not Sustained: The allegation is not supported by sufficient evidence which could be used to prove or disprove the allegation. Sustained: The allegation was supported by sufficient evidence to justify disciplinary action. Recommendations of disciplinary action may range from violation noted to separation from the Department. Unfounded: The complaint was not based on facts as shown by the investigation, or the reported incident did not occur. Exonerated: The incident occurred, but the action taken by the officer(s) was deemed lawful and proper."
   ]
  },
  {
   "cell_type": "code",
   "execution_count": null,
   "metadata": {},
   "outputs": [],
   "source": [
    "# variable for investigation outcome\n",
    "investigation_finding=copa_df['finding_code'].value_counts()\n",
    "investigation_finding"
   ]
  },
  {
   "cell_type": "code",
   "execution_count": null,
   "metadata": {},
   "outputs": [],
   "source": [
    "no_finding = len(copa_df[copa_df[\"finding_code\"] == \"No Finding\"])\n",
    "no_affadavit = len(copa_df[copa_df[\"finding_code\"] == \"NO AFFIDAVIT\"])\n",
    "not_sustained = len(copa_df[copa_df[\"finding_code\"] == \"NOT SUSTAINED\"])\n",
    "unfounded = len(copa_df[copa_df[\"finding_code\"] == \"UNFOUNDED\"])\n",
    "sustained = len(copa_df[copa_df[\"finding_code\"] == \"SUSTAINED\"])\n",
    "exonerated = len(copa_df[copa_df[\"finding_code\"] == \"EXONERATED\"])"
   ]
  },
  {
   "cell_type": "code",
   "execution_count": null,
   "metadata": {},
   "outputs": [],
   "source": [
    "finding_df = ({'No Finding': no_finding,\n",
    "              'No Affadavit': no_affadavit,\n",
    "              'Not Sustained': not_sustained,\n",
    "              'Unfounded': unfounded,\n",
    "              'Sustained':sustained,\n",
    "              'Exonerated': exonerated\n",
    "              })\n",
    "finding_df = pd.DataFrame(finding_df, index=[0])\n",
    "finding_df.transpose()"
   ]
  },
  {
   "cell_type": "code",
   "execution_count": null,
   "metadata": {},
   "outputs": [],
   "source": [
    "# Finding DF\n",
    "investigation_status = finding_df.iloc[0].plot.bar()\n",
    "plt.xlabel('Investigation Status or Outcome')\n",
    "plt.ylabel('Investigation status or Outcome Count')\n",
    "plt.title('Count for all investigations Outcome and Status')\n",
    "\n",
    "plt.savefig(\"Resources/All Investigation Findings Bar\")"
   ]
  },
  {
   "cell_type": "markdown",
   "metadata": {},
   "source": [
    "Are cases handled by COPA more likely to be sustained than those handled by IPRA?\n",
    "Since COPA was formed due to the failure of IPRA to maintain accountabilty, I would expect that cases handled by COPA would be more likely to result in some sort of discipline than those handled by IPRA."
   ]
  },
  {
   "cell_type": "code",
   "execution_count": null,
   "metadata": {},
   "outputs": [],
   "source": [
    "# New DF containing only IPRA cases\n",
    "ipra_df = copa_df[copa_df.assignment == 'IPRA']\n",
    "ipra_df.head()"
   ]
  },
  {
   "cell_type": "code",
   "execution_count": null,
   "metadata": {},
   "outputs": [],
   "source": [
    "# IPRA investigation findings\n",
    "ipra_investigation_finding=ipra_df['finding_code'].value_counts()\n",
    "ipra_investigation_finding\n",
    "\n",
    "ipra_no_finding = len(ipra_df[ipra_df[\"finding_code\"] == \"No Finding\"])\n",
    "ipra_no_affadavit = len(ipra_df[ipra_df[\"finding_code\"] == \"NO AFFIDAVIT\"])\n",
    "ipra_not_sustained = len(ipra_df[ipra_df[\"finding_code\"] == \"NOT SUSTAINED\"])\n",
    "ipra_unfounded = len(ipra_df[ipra_df[\"finding_code\"] == \"UNFOUNDED\"])\n",
    "ipra_sustained = len(ipra_df[ipra_df[\"finding_code\"] == \"SUSTAINED\"])\n",
    "ipra_exonerated = len(ipra_df[ipra_df[\"finding_code\"] == \"EXONERATED\"])"
   ]
  },
  {
   "cell_type": "code",
   "execution_count": null,
   "metadata": {},
   "outputs": [],
   "source": [
    "ipra_finding_df = ({'No Finding': ipra_no_finding,\n",
    "              'No Affadavit': ipra_no_affadavit,\n",
    "              'Not Sustained': ipra_not_sustained,\n",
    "              'Unfounded': ipra_unfounded,\n",
    "              'Sustained':ipra_sustained,\n",
    "              'Exonerated': ipra_exonerated\n",
    "              })\n",
    "ipra_finding_df = pd.DataFrame(ipra_finding_df, index=[0])\n",
    "ipra_finding_df.transpose()"
   ]
  },
  {
   "cell_type": "code",
   "execution_count": null,
   "metadata": {},
   "outputs": [],
   "source": [
    "# IPRA finding DF\n",
    "ipra_investigation_status = ipra_finding_df.iloc[0].plot.bar()\n",
    "plt.xlabel('Investigation Status or Outcome')\n",
    "plt.ylabel('Investigation status or Outcome Count')\n",
    "plt.title('Count for IPRA investigation Outcome and Status')\n",
    "\n",
    "plt.savefig(\"Resources/IPRA Investigation Findings Bar\")\n",
    "\n",
    "# Sustained, cases in which some officer discipline occured make up just 4.3% of cases handled by IPRA"
   ]
  },
  {
   "cell_type": "code",
   "execution_count": null,
   "metadata": {},
   "outputs": [],
   "source": [
    "# New DF containing only COPA cases\n",
    "copa_only_df = copa_df[copa_df.assignment == 'COPA']\n",
    "copa_only_df.head()"
   ]
  },
  {
   "cell_type": "code",
   "execution_count": null,
   "metadata": {},
   "outputs": [],
   "source": [
    "#COPA investigation findings\n",
    "copa_investigation_finding=copa_only_df['finding_code'].value_counts()\n",
    "copa_investigation_finding"
   ]
  },
  {
   "cell_type": "code",
   "execution_count": null,
   "metadata": {},
   "outputs": [],
   "source": [
    "# Counts for investigation findings\n",
    "copa_no_finding = len(copa_only_df[copa_only_df[\"finding_code\"] == \"No Finding\"])\n",
    "copa_no_affadavit = len(copa_only_df[copa_only_df[\"finding_code\"] == \"NO AFFIDAVIT\"])\n",
    "copa_not_sustained = len(copa_only_df[copa_only_df[\"finding_code\"] == \"NOT SUSTAINED\"])\n",
    "copa_unfounded = len(copa_only_df[copa_only_df[\"finding_code\"] == \"UNFOUNDED\"])\n",
    "copa_sustained = len(copa_only_df[copa_only_df[\"finding_code\"] == \"SUSTAINED\"])\n",
    "copa_exonerated = len(copa_only_df[copa_only_df[\"finding_code\"] == \"EXONERATED\"])"
   ]
  },
  {
   "cell_type": "code",
   "execution_count": null,
   "metadata": {},
   "outputs": [],
   "source": [
    "copa_finding_df = ({'No Finding': copa_no_finding,\n",
    "              'No Affadavit': copa_no_affadavit,\n",
    "              'Not Sustained': copa_not_sustained,\n",
    "              'Unfounded': copa_unfounded,\n",
    "              'Sustained':copa_sustained,\n",
    "              'Exonerated': copa_exonerated\n",
    "              })\n",
    "copa_finding_df = pd.DataFrame(copa_finding_df, index=[0])\n",
    "copa_finding_df.transpose()"
   ]
  },
  {
   "cell_type": "code",
   "execution_count": null,
   "metadata": {},
   "outputs": [],
   "source": [
    "# COPA finding DF\n",
    "count_labels=['283','253','35','102','52','24']\n",
    "copa_investigation_status = copa_finding_df.iloc[0].plot.bar(tick_label= count_labels)\n",
    "plt.xlabel('Investigation Status or Outcome')\n",
    "plt.ylabel('Investigation status or Outcome Count')\n",
    "plt.title('Count for COPA investigation Outcome and Status')\n",
    "\n",
    "\n",
    "plt.savefig(\"Resources/COPA Investigation Findings Bar\")"
   ]
  },
  {
   "cell_type": "markdown",
   "metadata": {},
   "source": [
    "IPRA, largely considered to be failing it mandate to investigate complaints to ensure police accountability found that only 4.3% of complaints resulted in a sustained verdit, meaning the officer was found to be acting outside of their powers, resulting in discipline of some manor. COPA the successor to IPRA after its failure has reached sustained verdicts in 6.9% of its cases. It is important to note that the sample sizes vary due to COPA's relative youth, with COPA cases making up only about 6.8% of cases given to one of the two independent review organiztions. In addition the cases are obviously different and as such are hard to compare exactly. With those limitations accounted for, COPA is a more effective organiztion when measuring the prectentage of cases sustained."
   ]
  },
  {
   "cell_type": "code",
   "execution_count": null,
   "metadata": {},
   "outputs": [],
   "source": []
  },
  {
   "cell_type": "code",
   "execution_count": null,
   "metadata": {},
   "outputs": [],
   "source": []
  }
 ],
 "metadata": {
  "kernelspec": {
   "display_name": "Python 3",
   "language": "python",
   "name": "python3"
  },
  "language_info": {
   "codemirror_mode": {
    "name": "ipython",
    "version": 3
   },
   "file_extension": ".py",
   "mimetype": "text/x-python",
   "name": "python",
   "nbconvert_exporter": "python",
   "pygments_lexer": "ipython3",
   "version": "3.7.3"
  }
 },
 "nbformat": 4,
 "nbformat_minor": 2
}
