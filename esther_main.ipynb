{
 "cells": [
  {
   "cell_type": "code",
   "execution_count": 1,
   "metadata": {},
   "outputs": [],
   "source": [
    "######################################################\n",
    "# Group Project Work - Esther Lowe                   #\n",
    "# Analysis of 6 months worth of crime, 2019 vs. 2018 #\n",
    "# 06/22/2019                                         #\n",
    "######################################################"
   ]
  },
  {
   "cell_type": "code",
   "execution_count": 2,
   "metadata": {},
   "outputs": [],
   "source": [
    "# Import Dependencies, configuring any API keys and grabbing csv files:\n",
    "import warnings\n",
    "warnings.filterwarnings('ignore')\n",
    "\n",
    "# If using API Requests import Socrata api token and login imports:\n",
    "#from mswl_config import userid, pw, estherToken\n",
    "\n",
    "# Dependencies\n",
    "import os\n",
    "import csv\n",
    "import matplotlib.pyplot as plt\n",
    "from matplotlib.pyplot import figure\n",
    "import requests\n",
    "import pandas as pd\n",
    "import numpy as np\n",
    "import scipy.stats as stats\n"
   ]
  },
  {
   "cell_type": "code",
   "execution_count": 3,
   "metadata": {},
   "outputs": [],
   "source": [
    "# Load in 2018 and 2019 crime csvs previously created:\n",
    "crimes_6mo_2018_csv = \"csvs/chicago_crime_6mo_2018.csv\"\n",
    "crimes_6mo_2019_csv = \"csvs/chicago_crime_6mo_2019.csv\"\n",
    "#crimes_2018_csv = \"chicago_crime_2018.csv\"\n",
    "\n",
    "df_6mo_2018 = pd.read_csv(crimes_6mo_2018_csv)\n",
    "df_6mo_2019 = pd.read_csv(crimes_6mo_2019_csv)\n",
    "#df_2018 = pd.read_csv(crimes_2018_csv)"
   ]
  },
  {
   "cell_type": "code",
   "execution_count": 4,
   "metadata": {},
   "outputs": [
    {
     "data": {
      "text/plain": [
       "Index(['Case Number', 'Month', 'Day', 'Year', 'Time', 'Beat',\n",
       "       'Location Description', 'Primary Description', 'Secondary Description',\n",
       "       'Arrest', 'Domestic', 'Latitude', 'Longitude'],\n",
       "      dtype='object')"
      ]
     },
     "execution_count": 4,
     "metadata": {},
     "output_type": "execute_result"
    }
   ],
   "source": [
    "df_6mo_2018.columns"
   ]
  },
  {
   "cell_type": "code",
   "execution_count": null,
   "metadata": {},
   "outputs": [],
   "source": []
  },
  {
   "cell_type": "markdown",
   "metadata": {},
   "source": [
    "ANALYSIS OF FIRST 6 MONTHS CHICAGO CRIME 2018 & 2019\n",
    "\n",
    "The purpose of this analysis is to consider whether trends could be observed in an \"at a glance\" 6 month view of Chicago crime. For the sake of this analysis, the first 6 months of crime in 2018 and 2019 were analyzed."
   ]
  },
  {
   "cell_type": "code",
   "execution_count": 5,
   "metadata": {},
   "outputs": [],
   "source": [
    "# Alternative option: use socrata API calls to get a dataframe... this method requires a lot of computation time:\n",
    "\n",
    "# socrata_domain = \"data.cityofchicago.org\"\n",
    "# socrata_dataset_identifier = \"x2n5-8w5q\"\n",
    "# socrata_token = estherToken\n",
    "# client = Socrata(socrata_domain, socrata_token)\n",
    "# print(\"Domain: {domain:}\\nSession: {session:}\\nURI Prefix: {uri_prefix:}\".format(**client.__dict__))\n",
    "# results = client.get(socrata_dataset_identifier, limit = 400000)\n",
    "# df = pd.DataFrame.from_dict(results)\n",
    "# df.head()"
   ]
  },
  {
   "cell_type": "code",
   "execution_count": 6,
   "metadata": {},
   "outputs": [
    {
     "name": "stdout",
     "output_type": "stream",
     "text": [
      "31\n"
     ]
    },
    {
     "data": {
      "text/plain": [
       "array(['BATTERY', 'SEX OFFENSE', 'CRIM SEXUAL ASSAULT', 'OTHER OFFENSE',\n",
       "       'OFFENSE INVOLVING CHILDREN', 'THEFT', 'DECEPTIVE PRACTICE',\n",
       "       'MOTOR VEHICLE THEFT', 'ASSAULT', 'BURGLARY', 'CRIMINAL DAMAGE',\n",
       "       'WEAPONS VIOLATION', 'CRIMINAL TRESPASS', 'NARCOTICS', 'ROBBERY',\n",
       "       'LIQUOR LAW VIOLATION', 'HOMICIDE', 'PUBLIC PEACE VIOLATION',\n",
       "       'INTERFERENCE WITH PUBLIC OFFICER', 'STALKING', 'INTIMIDATION',\n",
       "       'ARSON', 'HUMAN TRAFFICKING', 'GAMBLING', 'KIDNAPPING',\n",
       "       'PROSTITUTION', 'NON-CRIMINAL', 'OBSCENITY',\n",
       "       'CONCEALED CARRY LICENSE VIOLATION', 'PUBLIC INDECENCY',\n",
       "       'NON-CRIMINAL (SUBJECT SPECIFIED)'], dtype=object)"
      ]
     },
     "execution_count": 6,
     "metadata": {},
     "output_type": "execute_result"
    }
   ],
   "source": [
    "#Verify the Primary Crime Types In the CSV files overlap:\n",
    "primary_6mo_2018 = df_6mo_2018[\"Primary Description\"].unique()\n",
    "print(len(primary_6mo_2018))\n",
    "primary_6mo_2018"
   ]
  },
  {
   "cell_type": "code",
   "execution_count": 7,
   "metadata": {},
   "outputs": [
    {
     "name": "stdout",
     "output_type": "stream",
     "text": [
      "31\n"
     ]
    },
    {
     "data": {
      "text/plain": [
       "array(['OFFENSE INVOLVING CHILDREN', 'OTHER OFFENSE',\n",
       "       'MOTOR VEHICLE THEFT', 'SEX OFFENSE', 'DECEPTIVE PRACTICE',\n",
       "       'CRIM SEXUAL ASSAULT', 'THEFT', 'CRIMINAL DAMAGE', 'BATTERY',\n",
       "       'ROBBERY', 'BURGLARY', 'WEAPONS VIOLATION', 'CRIMINAL TRESPASS',\n",
       "       'NARCOTICS', 'ASSAULT', 'PUBLIC PEACE VIOLATION',\n",
       "       'LIQUOR LAW VIOLATION', 'INTERFERENCE WITH PUBLIC OFFICER',\n",
       "       'KIDNAPPING', 'HOMICIDE', 'INTIMIDATION', 'STALKING', 'ARSON',\n",
       "       'CONCEALED CARRY LICENSE VIOLATION', 'PROSTITUTION',\n",
       "       'HUMAN TRAFFICKING', 'GAMBLING', 'OBSCENITY', 'NON-CRIMINAL',\n",
       "       'OTHER NARCOTIC VIOLATION', 'PUBLIC INDECENCY'], dtype=object)"
      ]
     },
     "execution_count": 7,
     "metadata": {},
     "output_type": "execute_result"
    }
   ],
   "source": [
    "primary_6mo_2019 = df_6mo_2019[\"Primary Description\"].unique()\n",
    "print(len(primary_6mo_2019))\n",
    "primary_6mo_2019"
   ]
  },
  {
   "cell_type": "markdown",
   "metadata": {},
   "source": [
    "ARE THERE NOTABLE TRENDS IN THE DATA BASED ON THE \"PRIMARY DESCRIPTION\" OVER TIME?"
   ]
  },
  {
   "cell_type": "code",
   "execution_count": 8,
   "metadata": {},
   "outputs": [],
   "source": [
    "# Create dataframes by crime type and find the amount of that crime committed 01012019-06292019 and 01012018-06292019:\n",
    "# Clean up the 6month data sets by merging narcotic related categories and non-criminal related categories to create overlapping\n",
    "# Primary descriptions between 2018 and 2019:\n",
    "\n",
    "arson_6mo_2018_df = df_6mo_2018.loc[df_6mo_2018[\"Primary Description\"] == \"ARSON\"]\n",
    "arson_6mo_2018 = len(arson_6mo_2018_df)\n",
    "\n",
    "arson_6mo_2019_df = df_6mo_2019.loc[df_6mo_2019[\"Primary Description\"] == \"ARSON\"]\n",
    "arson_6mo_2019 = len(arson_6mo_2019_df)\n",
    "\n",
    "motor_vehicle_theft_6mo_2018_df = df_6mo_2018.loc[df_6mo_2018[\"Primary Description\"] == \"MOTOR VEHICLE THEFT\"]\n",
    "motor_vehicle_theft_6mo_2018 = len(motor_vehicle_theft_6mo_2018_df)\n",
    "\n",
    "motor_vehicle_theft_6mo_2019_df = df_6mo_2019.loc[df_6mo_2019[\"Primary Description\"] == \"MOTOR VEHICLE THEFT\"]\n",
    "motor_vehicle_theft_6mo_2019 = len(motor_vehicle_theft_6mo_2019_df)\n",
    "\n",
    "theft_6mo_2018_df = df_6mo_2018.loc[df_6mo_2018[\"Primary Description\"] == \"THEFT\"]\n",
    "theft_6mo_2018 = len(theft_6mo_2018_df)\n",
    "\n",
    "theft_6mo_2019_df = df_6mo_2019.loc[df_6mo_2019[\"Primary Description\"] == \"THEFT\"]\n",
    "theft_6mo_2019 = len(theft_6mo_2019_df)\n",
    "\n",
    "battery_6mo_2018_df = df_6mo_2018.loc[df_6mo_2018[\"Primary Description\"] == \"BATTERY\"]\n",
    "battery_6mo_2018 = len(battery_6mo_2018_df)\n",
    "\n",
    "battery_6mo_2019_df = df_6mo_2019.loc[df_6mo_2019[\"Primary Description\"] == \"BATTERY\"]\n",
    "battery_6mo_2019 = len(battery_6mo_2019_df)\n",
    "\n",
    "criminal_damage_6mo_2018_df = df_6mo_2018.loc[df_6mo_2018[\"Primary Description\"] == \"CRIMINAL DAMAGE\"]\n",
    "criminal_damage_6mo_2018 = len(criminal_damage_6mo_2018_df)\n",
    "\n",
    "criminal_damage_6mo_2019_df = df_6mo_2019.loc[df_6mo_2019[\"Primary Description\"] == \"CRIMINAL DAMAGE\"]\n",
    "criminal_damage_6mo_2019 = len(criminal_damage_6mo_2019_df)\n",
    "\n",
    "burglary_6mo_2018_df = df_6mo_2018.loc[df_6mo_2018[\"Primary Description\"] == \"BURGLARY\"]\n",
    "burglary_6mo_2018 = len(burglary_6mo_2018_df)\n",
    "\n",
    "burglary_6mo_2019_df = df_6mo_2019.loc[df_6mo_2019[\"Primary Description\"] == \"BURGLARY\"]\n",
    "burglary_6mo_2019 = len(burglary_6mo_2019_df)\n",
    "\n",
    "weapons_violation_6mo_2018_df = df_6mo_2018.loc[df_6mo_2018[\"Primary Description\"] == \"WEAPONS VIOLATION\"]\n",
    "weapons_violation_6mo_2018 = len(weapons_violation_6mo_2018_df)\n",
    "\n",
    "weapons_violation_6mo_2019_df = df_6mo_2019.loc[df_6mo_2019[\"Primary Description\"] == \"WEAPONS VIOLATION\"]\n",
    "weapons_violation_6mo_2019 = len(weapons_violation_6mo_2019_df)\n",
    "\n",
    "other_offense_6mo_2018_df = df_6mo_2018.loc[df_6mo_2018[\"Primary Description\"] == \"OTHER OFFENSE\"]\n",
    "other_offense_6mo_2018 = len(other_offense_6mo_2018_df)\n",
    "\n",
    "other_offense_6mo_2019_df = df_6mo_2019.loc[df_6mo_2019[\"Primary Description\"] == \"OTHER OFFENSE\"]\n",
    "other_offense_6mo_2019 = len(other_offense_6mo_2019_df)\n",
    "\n",
    "deceptive_practice_6mo_2018_df = df_6mo_2018.loc[df_6mo_2018[\"Primary Description\"] == \"DECEPTIVE PRACTICE\"]\n",
    "deceptive_practice_6mo_2018 = len(deceptive_practice_6mo_2018_df)\n",
    "\n",
    "deceptive_practice_6mo_2019_df = df_6mo_2019.loc[df_6mo_2019[\"Primary Description\"] == \"DECEPTIVE PRACTICE\"]\n",
    "deceptive_practice_6mo_2019 = len(deceptive_practice_6mo_2019_df)\n",
    "\n",
    "robbery_6mo_2018_df = df_6mo_2018.loc[df_6mo_2018[\"Primary Description\"] == \"ROBBERY\"]\n",
    "robbery_6mo_2018 = len(robbery_6mo_2018_df)\n",
    "\n",
    "robbery_6mo_2019_df = df_6mo_2019.loc[df_6mo_2019[\"Primary Description\"] == \"ROBBERY\"]\n",
    "robbery_6mo_2019 = len(robbery_6mo_2019_df)\n",
    "\n",
    "assault_6mo_2018_df = df_6mo_2018.loc[df_6mo_2018[\"Primary Description\"] == \"ASSAULT\"]\n",
    "assault_6mo_2018 = len(assault_6mo_2018_df)\n",
    "\n",
    "assault_6mo_2019_df = df_6mo_2019.loc[df_6mo_2019[\"Primary Description\"] == \"ASSAULT\"]\n",
    "assault_6mo_2019 = len(assault_6mo_2019_df)\n",
    "\n",
    "concealed_carry_license_violation_6mo_2018_df = df_6mo_2018.loc[df_6mo_2018[\"Primary Description\"] == \"CONCEALED CARRY LICENSE VIOLATION\"]\n",
    "concealed_carry_license_violation_6mo_2018 = len(concealed_carry_license_violation_6mo_2018_df)\n",
    "\n",
    "concealed_carry_license_violation_6mo_2019_df = df_6mo_2019.loc[df_6mo_2019[\"Primary Description\"] == \"CONCEALED CARRY LICENSE VIOLATION\"]\n",
    "concealed_carry_license_violation_6mo_2019 = len(concealed_carry_license_violation_6mo_2019_df)\n",
    "\n",
    "offense_involving_children_6mo_2018_df = df_6mo_2018.loc[df_6mo_2018[\"Primary Description\"] == \"OFFENSE INVOLVING CHILDREN\"]\n",
    "offense_involving_children_6mo_2018 = len(offense_involving_children_6mo_2018_df)\n",
    "\n",
    "offense_involving_children_6mo_2019_df = df_6mo_2019.loc[df_6mo_2019[\"Primary Description\"] == \"OFFENSE INVOLVING CHILDREN\"]\n",
    "offense_involving_children_6mo_2019 = len(offense_involving_children_6mo_2019_df)\n",
    "\n",
    "crim_sexual_assault_6mo_2018_df = df_6mo_2018.loc[df_6mo_2018[\"Primary Description\"] == \"CRIM SEXUAL ASSAULT\"]\n",
    "crim_sexual_assault_6mo_2018 = len(crim_sexual_assault_6mo_2018_df)\n",
    "\n",
    "crim_sexual_assault_6mo_2019_df = df_6mo_2019.loc[df_6mo_2019[\"Primary Description\"] == \"CRIM SEXUAL ASSAULT\"]\n",
    "crim_sexual_assault_6mo_2019 = len(crim_sexual_assault_6mo_2019_df)\n",
    "\n",
    "narcotics_6mo_2018_df = df_6mo_2018.loc[df_6mo_2018[\"Primary Description\"] == \"NARCOTICS\"]\n",
    "narcotics_6mo_2018 = len(narcotics_6mo_2018_df)\n",
    "\n",
    "narcotics_6mo_2019_df = df_6mo_2019.loc[df_6mo_2019[\"Primary Description\"] == \"NARCOTICS\"]\n",
    "other_narcotic_violation_6mo_2019_df = df_6mo_2019.loc[df_6mo_2019[\"Primary Description\"] == \"OTHER NARCOTIC VIOLATION\"]\n",
    "other_narcotic_violation_6mo_2019_df = other_narcotic_violation_6mo_2019_df.replace(\"OTHER NARCOTIC VIOLATION\", \"NARCOTICS\")\n",
    "narcotics_6mo_2019_df.append(other_narcotic_violation_6mo_2019_df).reset_index(drop=True)\n",
    "narcotics_6mo_2019 = len(narcotics_6mo_2019_df)\n",
    "\n",
    "sex_offense_6mo_2018_df = df_6mo_2018.loc[df_6mo_2018[\"Primary Description\"] == \"SEX OFFENSE\"]\n",
    "sex_offense_6mo_2018 = len(sex_offense_6mo_2018_df)\n",
    "\n",
    "sex_offense_6mo_2019_df = df_6mo_2019.loc[df_6mo_2019[\"Primary Description\"] == \"SEX OFFENSE\"]\n",
    "sex_offense_6mo_2019 = len(sex_offense_6mo_2019_df)\n",
    "\n",
    "prostitution_6mo_2018_df = df_6mo_2018.loc[df_6mo_2018[\"Primary Description\"] == \"PROSTITUTION\"]\n",
    "prostitution_6mo_2018 = len(prostitution_6mo_2018_df)\n",
    "\n",
    "prostitution_6mo_2019_df = df_6mo_2019.loc[df_6mo_2019[\"Primary Description\"] == \"PROSTITUTION\"]\n",
    "prostitution_6mo_2019 = len(prostitution_6mo_2019_df)\n",
    "\n",
    "criminal_trespass_6mo_2018_df = df_6mo_2018.loc[df_6mo_2018[\"Primary Description\"] == \"CRIMINAL TRESPASS\"]\n",
    "criminal_trespass_6mo_2018 = len(criminal_trespass_6mo_2018_df)\n",
    "\n",
    "criminal_trespass_6mo_2019_df = df_6mo_2019.loc[df_6mo_2019[\"Primary Description\"] == \"CRIMINAL TRESPASS\"]\n",
    "criminal_trespass_6mo_2019 = len(criminal_trespass_6mo_2019_df)\n",
    "\n",
    "public_peace_violation_6mo_2018_df = df_6mo_2018.loc[df_6mo_2018[\"Primary Description\"] == \"PUBLIC PEACE VIOLATION\"]\n",
    "public_peace_violation_6mo_2018 = len(public_peace_violation_6mo_2018_df)\n",
    "\n",
    "public_peace_violation_6mo_2019_df = df_6mo_2019.loc[df_6mo_2019[\"Primary Description\"] == \"PUBLIC PEACE VIOLATION\"]\n",
    "public_peace_violation_6mo_2019 = len(public_peace_violation_6mo_2019_df)\n",
    "\n",
    "interference_with_public_officer_6mo_2018_df = df_6mo_2018.loc[df_6mo_2018[\"Primary Description\"] == \"INTERFERENCE WITH PUBLIC OFFICER\"]\n",
    "interference_with_public_officer_6mo_2018 = len(interference_with_public_officer_6mo_2018_df)\n",
    "\n",
    "interference_with_public_officer_6mo_2019_df = df_6mo_2019.loc[df_6mo_2019[\"Primary Description\"] == \"INTERFERENCE WITH PUBLIC OFFICER\"]\n",
    "interference_with_public_officer_6mo_2019 = len(interference_with_public_officer_6mo_2019_df)\n",
    "\n",
    "liquor_law_violation_6mo_2018_df = df_6mo_2018.loc[df_6mo_2018[\"Primary Description\"] == \"LIQUOR LAW VIOLATION\"]\n",
    "liquor_law_violation_6mo_2018 = len(liquor_law_violation_6mo_2018_df)\n",
    "\n",
    "liquor_law_violation_6mo_2019_df = df_6mo_2019.loc[df_6mo_2019[\"Primary Description\"] == \"LIQUOR LAW VIOLATION\"]\n",
    "liquor_law_violation_6mo_2019 = len(liquor_law_violation_6mo_2019_df)\n",
    "\n",
    "homicide_6mo_2018_df = df_6mo_2018.loc[df_6mo_2018[\"Primary Description\"] == \"HOMICIDE\"]\n",
    "homicide_6mo_2018 = len(homicide_6mo_2018_df)\n",
    "\n",
    "homicide_6mo_2019_df = df_6mo_2019.loc[df_6mo_2019[\"Primary Description\"] == \"HOMICIDE\"]\n",
    "homicide_6mo_2019 = len(homicide_6mo_2019_df)\n",
    "\n",
    "stalking_6mo_2018_df = df_6mo_2018.loc[df_6mo_2018[\"Primary Description\"] == \"STALKING\"]\n",
    "stalking_6mo_2018 = len(stalking_6mo_2018_df)\n",
    "\n",
    "stalking_6mo_2019_df = df_6mo_2019.loc[df_6mo_2019[\"Primary Description\"] == \"STALKING\"]\n",
    "stalking_6mo_2019 = len(stalking_6mo_2019_df)\n",
    "\n",
    "gambling_6mo_2018_df = df_6mo_2018.loc[df_6mo_2018[\"Primary Description\"] == \"GAMBLING\"]\n",
    "gambling_6mo_2018 = len(gambling_6mo_2018_df)\n",
    "\n",
    "gambling_6mo_2019_df = df_6mo_2019.loc[df_6mo_2019[\"Primary Description\"] == \"GAMBLING\"]\n",
    "gambling_6mo_2019 = len(gambling_6mo_2019_df)\n",
    "\n",
    "kidnapping_6mo_2018_df = df_6mo_2018.loc[df_6mo_2018[\"Primary Description\"] == \"KIDNAPPING\"]\n",
    "kidnapping_6mo_2018 = len(kidnapping_6mo_2018_df)\n",
    "\n",
    "kidnapping_6mo_2019_df = df_6mo_2019.loc[df_6mo_2019[\"Primary Description\"] == \"KIDNAPPING\"]\n",
    "kidnapping_6mo_2019 = len(kidnapping_6mo_2019_df)\n",
    "\n",
    "non_criminal_6mo_2018_df = df_6mo_2018.loc[df_6mo_2018[\"Primary Description\"] == \"NON-CRIMINAL\"]\n",
    "non_criminal_subject_specified_6mo_2018_df = df_6mo_2018.loc[df_6mo_2018[\"Primary Description\"] ==\"NON-CRIMINAL (SUBJECT SPECIFIED)\"]\n",
    "non_criminal_subject_specified_6mo_2018_df = non_criminal_subject_specified_6mo_2018_df.replace(\"NON-CRIMINAL (SUBJECT SPECIFIED)\", \"NON-CRIMINAL\")\n",
    "non_criminal_6mo_2018_df.append(non_criminal_subject_specified_6mo_2018_df).reset_index(drop=True)\n",
    "non_criminal_6mo_2018 = len(non_criminal_6mo_2018_df)\n",
    "\n",
    "non_criminal_6mo_2019_df = df_6mo_2019.loc[df_6mo_2019[\"Primary Description\"] == \"NON-CRIMINAL\"]\n",
    "non_criminal_6mo_2019 = len(non_criminal_6mo_2019_df)\n",
    "\n",
    "intimidation_6mo_2018_df = df_6mo_2018.loc[df_6mo_2018[\"Primary Description\"] == \"INTIMIDATION\"]\n",
    "intimidation_6mo_2018 = len(intimidation_6mo_2018_df)\n",
    "\n",
    "intimidation_6mo_2019_df = df_6mo_2019.loc[df_6mo_2019[\"Primary Description\"] == \"INTIMIDATION\"]\n",
    "intimidation_6mo_2019 = len(intimidation_6mo_2019_df)\n",
    "\n",
    "obscenity_6mo_2018_df = df_6mo_2018.loc[df_6mo_2018[\"Primary Description\"] == \"OBSCENITY\"]\n",
    "obscenity_6mo_2018 = len(obscenity_6mo_2018_df)\n",
    "\n",
    "obscenity_6mo_2019_df = df_6mo_2019.loc[df_6mo_2019[\"Primary Description\"] == \"OBSCENITY\"]\n",
    "obscenity_6mo_2019 = len(obscenity_6mo_2019_df)\n",
    "\n",
    "public_indecency_6mo_2018_df = df_6mo_2018.loc[df_6mo_2018[\"Primary Description\"] == \"PUBLIC INDECENCY\"]\n",
    "public_indecency_6mo_2018 = len(public_indecency_6mo_2018_df)\n",
    "\n",
    "public_indecency_6mo_2019_df = df_6mo_2019.loc[df_6mo_2019[\"Primary Description\"] == \"PUBLIC INDECENCY\"]\n",
    "public_indecency_6mo_2019 = len(public_indecency_6mo_2019_df)\n",
    "\n",
    "human_trafficking_6mo_2018_df = df_6mo_2018.loc[df_6mo_2018[\"Primary Description\"] == \"HUMAN TRAFFICKING\"]\n",
    "human_trafficking_6mo_2018 = len(human_trafficking_6mo_2018_df)\n",
    "\n",
    "human_trafficking_6mo_2019_df = df_6mo_2019.loc[df_6mo_2019[\"Primary Description\"] == \"HUMAN TRAFFICKING\"]\n",
    "human_trafficking_6mo_2019 = len(human_trafficking_6mo_2019_df)\n"
   ]
  },
  {
   "cell_type": "code",
   "execution_count": 9,
   "metadata": {},
   "outputs": [],
   "source": [
    "#Dictionary of all the amounts of crime committed by month to create a DataFrame for 6mo crime in 2019:\n",
    "crime_6mo_2019_dict = {\n",
    "    'ARSON' : arson_6mo_2019,\n",
    "    'MOTOR VEHICLE THEFT' : motor_vehicle_theft_6mo_2019,\n",
    "    'THEFT' : theft_6mo_2019,\n",
    "    'BATTERY' : battery_6mo_2019,\n",
    "    'CRIMINAL DAMAGE' : criminal_damage_6mo_2019,\n",
    "    'BURGLARY' : burglary_6mo_2019,\n",
    "    'WEAPONS VIOLATION' : weapons_violation_6mo_2019,\n",
    "    'OTHER OFFENSE' : other_offense_6mo_2019,\n",
    "    'DECEPTIVE PRACTICE' : deceptive_practice_6mo_2019,\n",
    "    'ROBBERY' : robbery_6mo_2019,\n",
    "    'ASSAULT' : assault_6mo_2019,\n",
    "    'CONCEALED CARRY LICENSE VIOLATION' : concealed_carry_license_violation_6mo_2019,\n",
    "    'OFFENSE INVOLVING CHILDREN' : offense_involving_children_6mo_2019,\n",
    "    'CRIM SEXUAL ASSAULT' : crim_sexual_assault_6mo_2019,\n",
    "    'NARCOTICS' : narcotics_6mo_2019,\n",
    "    'SEX OFFENSE' : sex_offense_6mo_2019,\n",
    "    'PROSTITUTION' : prostitution_6mo_2019,\n",
    "    'CRIMINAL TRESPASS' : criminal_trespass_6mo_2019,\n",
    "    'PUBLIC PEACE VIOLATION' : public_peace_violation_6mo_2019,\n",
    "    'INTERFERENCE WITH PUBLIC OFFICER' : interference_with_public_officer_6mo_2019,\n",
    "    'LIQUOR LAW VIOLATION' : liquor_law_violation_6mo_2019,\n",
    "    'HOMICIDE' : homicide_6mo_2019,\n",
    "    'STALKING' : stalking_6mo_2019,\n",
    "    'GAMBLING' : gambling_6mo_2019,\n",
    "    'KIDNAPPING' : kidnapping_6mo_2019,\n",
    "    'NON-CRIMINAL' : non_criminal_6mo_2019,\n",
    "    'INTIMIDATION' : intimidation_6mo_2019,\n",
    "    'OBSCENITY' : obscenity_6mo_2019,\n",
    "    'PUBLIC INDECENCY' : public_indecency_6mo_2019,\n",
    "    'HUMAN TRAFFICKING' : human_trafficking_6mo_2019   \n",
    "}\n",
    "\n",
    "amounts_by_type_6mo_2019_df = pd.DataFrame(crime_6mo_2019_dict, index=[0])\n",
    "\n",
    "primary_categories_6mo = amounts_by_type_6mo_2019_df.keys()\n"
   ]
  },
  {
   "cell_type": "code",
   "execution_count": 10,
   "metadata": {},
   "outputs": [
    {
     "data": {
      "text/html": [
       "<div>\n",
       "<style scoped>\n",
       "    .dataframe tbody tr th:only-of-type {\n",
       "        vertical-align: middle;\n",
       "    }\n",
       "\n",
       "    .dataframe tbody tr th {\n",
       "        vertical-align: top;\n",
       "    }\n",
       "\n",
       "    .dataframe thead th {\n",
       "        text-align: right;\n",
       "    }\n",
       "</style>\n",
       "<table border=\"1\" class=\"dataframe\">\n",
       "  <thead>\n",
       "    <tr style=\"text-align: right;\">\n",
       "      <th></th>\n",
       "      <th>ARSON</th>\n",
       "      <th>MOTOR VEHICLE THEFT</th>\n",
       "      <th>THEFT</th>\n",
       "      <th>BATTERY</th>\n",
       "      <th>CRIMINAL DAMAGE</th>\n",
       "      <th>BURGLARY</th>\n",
       "      <th>WEAPONS VIOLATION</th>\n",
       "      <th>OTHER OFFENSE</th>\n",
       "      <th>DECEPTIVE PRACTICE</th>\n",
       "      <th>ROBBERY</th>\n",
       "      <th>...</th>\n",
       "      <th>LIQUOR LAW VIOLATION</th>\n",
       "      <th>HOMICIDE</th>\n",
       "      <th>STALKING</th>\n",
       "      <th>GAMBLING</th>\n",
       "      <th>KIDNAPPING</th>\n",
       "      <th>NON-CRIMINAL</th>\n",
       "      <th>INTIMIDATION</th>\n",
       "      <th>OBSCENITY</th>\n",
       "      <th>PUBLIC INDECENCY</th>\n",
       "      <th>HUMAN TRAFFICKING</th>\n",
       "    </tr>\n",
       "  </thead>\n",
       "  <tbody>\n",
       "    <tr>\n",
       "      <th>0</th>\n",
       "      <td>160</td>\n",
       "      <td>4282</td>\n",
       "      <td>28104</td>\n",
       "      <td>23736</td>\n",
       "      <td>12503</td>\n",
       "      <td>4321</td>\n",
       "      <td>2944</td>\n",
       "      <td>8430</td>\n",
       "      <td>8043</td>\n",
       "      <td>3558</td>\n",
       "      <td>...</td>\n",
       "      <td>85</td>\n",
       "      <td>238</td>\n",
       "      <td>110</td>\n",
       "      <td>52</td>\n",
       "      <td>84</td>\n",
       "      <td>2</td>\n",
       "      <td>78</td>\n",
       "      <td>23</td>\n",
       "      <td>3</td>\n",
       "      <td>7</td>\n",
       "    </tr>\n",
       "  </tbody>\n",
       "</table>\n",
       "<p>1 rows × 30 columns</p>\n",
       "</div>"
      ],
      "text/plain": [
       "   ARSON  MOTOR VEHICLE THEFT  THEFT  BATTERY  CRIMINAL DAMAGE  BURGLARY  \\\n",
       "0    160                 4282  28104    23736            12503      4321   \n",
       "\n",
       "   WEAPONS VIOLATION  OTHER OFFENSE  DECEPTIVE PRACTICE  ROBBERY  \\\n",
       "0               2944           8430                8043     3558   \n",
       "\n",
       "         ...          LIQUOR LAW VIOLATION  HOMICIDE  STALKING  GAMBLING  \\\n",
       "0        ...                            85       238       110        52   \n",
       "\n",
       "   KIDNAPPING  NON-CRIMINAL  INTIMIDATION  OBSCENITY  PUBLIC INDECENCY  \\\n",
       "0          84             2            78         23                 3   \n",
       "\n",
       "   HUMAN TRAFFICKING  \n",
       "0                  7  \n",
       "\n",
       "[1 rows x 30 columns]"
      ]
     },
     "execution_count": 10,
     "metadata": {},
     "output_type": "execute_result"
    }
   ],
   "source": [
    "amounts_by_type_6mo_2019_df.head()"
   ]
  },
  {
   "cell_type": "code",
   "execution_count": 11,
   "metadata": {},
   "outputs": [],
   "source": [
    "crime_6mo_2018_dict = {\n",
    "    'ARSON' : arson_6mo_2018,\n",
    "    'MOTOR VEHICLE THEFT' : motor_vehicle_theft_6mo_2018,\n",
    "    'THEFT' : theft_6mo_2018,\n",
    "    'BATTERY' : battery_6mo_2018,\n",
    "    'CRIMINAL DAMAGE' : criminal_damage_6mo_2018,\n",
    "    'BURGLARY' : burglary_6mo_2018,\n",
    "    'WEAPONS VIOLATION' : weapons_violation_6mo_2018,\n",
    "    'OTHER OFFENSE' : other_offense_6mo_2018,\n",
    "    'DECEPTIVE PRACTICE' : deceptive_practice_6mo_2018,\n",
    "    'ROBBERY' : robbery_6mo_2018,\n",
    "    'ASSAULT' : assault_6mo_2018,\n",
    "    'CONCEALED CARRY LICENSE VIOLATION' : concealed_carry_license_violation_6mo_2018,\n",
    "    'OFFENSE INVOLVING CHILDREN' : offense_involving_children_6mo_2018,\n",
    "    'CRIM SEXUAL ASSAULT' : crim_sexual_assault_6mo_2018,\n",
    "    'NARCOTICS' : narcotics_6mo_2018,\n",
    "    'SEX OFFENSE' : sex_offense_6mo_2018,\n",
    "    'PROSTITUTION' : prostitution_6mo_2018,\n",
    "    'CRIMINAL TRESPASS' : criminal_trespass_6mo_2018,\n",
    "    'PUBLIC PEACE VIOLATION' : public_peace_violation_6mo_2018,\n",
    "    'INTERFERENCE WITH PUBLIC OFFICER' : interference_with_public_officer_6mo_2018,\n",
    "    'LIQUOR LAW VIOLATION' : liquor_law_violation_6mo_2018,\n",
    "    'HOMICIDE' : homicide_6mo_2018,\n",
    "    'STALKING' : stalking_6mo_2018,\n",
    "    'GAMBLING' : gambling_6mo_2018,\n",
    "    'KIDNAPPING' : kidnapping_6mo_2018,\n",
    "    'NON-CRIMINAL' : non_criminal_6mo_2018,\n",
    "    'INTIMIDATION' : intimidation_6mo_2018,\n",
    "    'OBSCENITY' : obscenity_6mo_2018,\n",
    "    'PUBLIC INDECENCY' : public_indecency_6mo_2018,\n",
    "    'HUMAN TRAFFICKING' : human_trafficking_6mo_2018   \n",
    "}\n",
    "\n",
    "amounts_by_type_6mo_2018_df = pd.DataFrame(crime_6mo_2018_dict, index=[0])"
   ]
  },
  {
   "cell_type": "code",
   "execution_count": 12,
   "metadata": {},
   "outputs": [
    {
     "data": {
      "text/html": [
       "<div>\n",
       "<style scoped>\n",
       "    .dataframe tbody tr th:only-of-type {\n",
       "        vertical-align: middle;\n",
       "    }\n",
       "\n",
       "    .dataframe tbody tr th {\n",
       "        vertical-align: top;\n",
       "    }\n",
       "\n",
       "    .dataframe thead th {\n",
       "        text-align: right;\n",
       "    }\n",
       "</style>\n",
       "<table border=\"1\" class=\"dataframe\">\n",
       "  <thead>\n",
       "    <tr style=\"text-align: right;\">\n",
       "      <th></th>\n",
       "      <th>ARSON</th>\n",
       "      <th>MOTOR VEHICLE THEFT</th>\n",
       "      <th>THEFT</th>\n",
       "      <th>BATTERY</th>\n",
       "      <th>CRIMINAL DAMAGE</th>\n",
       "      <th>BURGLARY</th>\n",
       "      <th>WEAPONS VIOLATION</th>\n",
       "      <th>OTHER OFFENSE</th>\n",
       "      <th>DECEPTIVE PRACTICE</th>\n",
       "      <th>ROBBERY</th>\n",
       "      <th>...</th>\n",
       "      <th>LIQUOR LAW VIOLATION</th>\n",
       "      <th>HOMICIDE</th>\n",
       "      <th>STALKING</th>\n",
       "      <th>GAMBLING</th>\n",
       "      <th>KIDNAPPING</th>\n",
       "      <th>NON-CRIMINAL</th>\n",
       "      <th>INTIMIDATION</th>\n",
       "      <th>OBSCENITY</th>\n",
       "      <th>PUBLIC INDECENCY</th>\n",
       "      <th>HUMAN TRAFFICKING</th>\n",
       "    </tr>\n",
       "  </thead>\n",
       "  <tbody>\n",
       "    <tr>\n",
       "      <th>0</th>\n",
       "      <td>168</td>\n",
       "      <td>4763</td>\n",
       "      <td>30245</td>\n",
       "      <td>24158</td>\n",
       "      <td>13436</td>\n",
       "      <td>5448</td>\n",
       "      <td>2549</td>\n",
       "      <td>8666</td>\n",
       "      <td>9472</td>\n",
       "      <td>4625</td>\n",
       "      <td>...</td>\n",
       "      <td>133</td>\n",
       "      <td>271</td>\n",
       "      <td>103</td>\n",
       "      <td>81</td>\n",
       "      <td>91</td>\n",
       "      <td>17</td>\n",
       "      <td>63</td>\n",
       "      <td>42</td>\n",
       "      <td>7</td>\n",
       "      <td>5</td>\n",
       "    </tr>\n",
       "  </tbody>\n",
       "</table>\n",
       "<p>1 rows × 30 columns</p>\n",
       "</div>"
      ],
      "text/plain": [
       "   ARSON  MOTOR VEHICLE THEFT  THEFT  BATTERY  CRIMINAL DAMAGE  BURGLARY  \\\n",
       "0    168                 4763  30245    24158            13436      5448   \n",
       "\n",
       "   WEAPONS VIOLATION  OTHER OFFENSE  DECEPTIVE PRACTICE  ROBBERY  \\\n",
       "0               2549           8666                9472     4625   \n",
       "\n",
       "         ...          LIQUOR LAW VIOLATION  HOMICIDE  STALKING  GAMBLING  \\\n",
       "0        ...                           133       271       103        81   \n",
       "\n",
       "   KIDNAPPING  NON-CRIMINAL  INTIMIDATION  OBSCENITY  PUBLIC INDECENCY  \\\n",
       "0          91            17            63         42                 7   \n",
       "\n",
       "   HUMAN TRAFFICKING  \n",
       "0                  5  \n",
       "\n",
       "[1 rows x 30 columns]"
      ]
     },
     "execution_count": 12,
     "metadata": {},
     "output_type": "execute_result"
    }
   ],
   "source": [
    "amounts_by_type_6mo_2018_df.head()"
   ]
  },
  {
   "cell_type": "code",
   "execution_count": 13,
   "metadata": {},
   "outputs": [
    {
     "data": {
      "text/html": [
       "<div>\n",
       "<style scoped>\n",
       "    .dataframe tbody tr th:only-of-type {\n",
       "        vertical-align: middle;\n",
       "    }\n",
       "\n",
       "    .dataframe tbody tr th {\n",
       "        vertical-align: top;\n",
       "    }\n",
       "\n",
       "    .dataframe thead th {\n",
       "        text-align: right;\n",
       "    }\n",
       "</style>\n",
       "<table border=\"1\" class=\"dataframe\">\n",
       "  <thead>\n",
       "    <tr style=\"text-align: right;\">\n",
       "      <th></th>\n",
       "      <th>Crime Cases First 6 Months of 2018</th>\n",
       "      <th>Crime Cases First 6 Months of 2019</th>\n",
       "    </tr>\n",
       "  </thead>\n",
       "  <tbody>\n",
       "    <tr>\n",
       "      <th>ARSON</th>\n",
       "      <td>168</td>\n",
       "      <td>160</td>\n",
       "    </tr>\n",
       "    <tr>\n",
       "      <th>MOTOR VEHICLE THEFT</th>\n",
       "      <td>4763</td>\n",
       "      <td>4282</td>\n",
       "    </tr>\n",
       "    <tr>\n",
       "      <th>THEFT</th>\n",
       "      <td>30245</td>\n",
       "      <td>28104</td>\n",
       "    </tr>\n",
       "    <tr>\n",
       "      <th>BATTERY</th>\n",
       "      <td>24158</td>\n",
       "      <td>23736</td>\n",
       "    </tr>\n",
       "    <tr>\n",
       "      <th>CRIMINAL DAMAGE</th>\n",
       "      <td>13436</td>\n",
       "      <td>12503</td>\n",
       "    </tr>\n",
       "    <tr>\n",
       "      <th>BURGLARY</th>\n",
       "      <td>5448</td>\n",
       "      <td>4321</td>\n",
       "    </tr>\n",
       "    <tr>\n",
       "      <th>WEAPONS VIOLATION</th>\n",
       "      <td>2549</td>\n",
       "      <td>2944</td>\n",
       "    </tr>\n",
       "    <tr>\n",
       "      <th>OTHER OFFENSE</th>\n",
       "      <td>8666</td>\n",
       "      <td>8430</td>\n",
       "    </tr>\n",
       "    <tr>\n",
       "      <th>DECEPTIVE PRACTICE</th>\n",
       "      <td>9472</td>\n",
       "      <td>8043</td>\n",
       "    </tr>\n",
       "    <tr>\n",
       "      <th>ROBBERY</th>\n",
       "      <td>4625</td>\n",
       "      <td>3558</td>\n",
       "    </tr>\n",
       "    <tr>\n",
       "      <th>ASSAULT</th>\n",
       "      <td>9942</td>\n",
       "      <td>10075</td>\n",
       "    </tr>\n",
       "    <tr>\n",
       "      <th>CONCEALED CARRY LICENSE VIOLATION</th>\n",
       "      <td>59</td>\n",
       "      <td>93</td>\n",
       "    </tr>\n",
       "    <tr>\n",
       "      <th>OFFENSE INVOLVING CHILDREN</th>\n",
       "      <td>1170</td>\n",
       "      <td>1199</td>\n",
       "    </tr>\n",
       "    <tr>\n",
       "      <th>CRIM SEXUAL ASSAULT</th>\n",
       "      <td>762</td>\n",
       "      <td>769</td>\n",
       "    </tr>\n",
       "    <tr>\n",
       "      <th>NARCOTICS</th>\n",
       "      <td>6704</td>\n",
       "      <td>6777</td>\n",
       "    </tr>\n",
       "    <tr>\n",
       "      <th>SEX OFFENSE</th>\n",
       "      <td>513</td>\n",
       "      <td>591</td>\n",
       "    </tr>\n",
       "    <tr>\n",
       "      <th>PROSTITUTION</th>\n",
       "      <td>350</td>\n",
       "      <td>304</td>\n",
       "    </tr>\n",
       "    <tr>\n",
       "      <th>CRIMINAL TRESPASS</th>\n",
       "      <td>3487</td>\n",
       "      <td>3296</td>\n",
       "    </tr>\n",
       "    <tr>\n",
       "      <th>PUBLIC PEACE VIOLATION</th>\n",
       "      <td>662</td>\n",
       "      <td>763</td>\n",
       "    </tr>\n",
       "    <tr>\n",
       "      <th>INTERFERENCE WITH PUBLIC OFFICER</th>\n",
       "      <td>642</td>\n",
       "      <td>713</td>\n",
       "    </tr>\n",
       "    <tr>\n",
       "      <th>LIQUOR LAW VIOLATION</th>\n",
       "      <td>133</td>\n",
       "      <td>85</td>\n",
       "    </tr>\n",
       "    <tr>\n",
       "      <th>HOMICIDE</th>\n",
       "      <td>271</td>\n",
       "      <td>238</td>\n",
       "    </tr>\n",
       "    <tr>\n",
       "      <th>STALKING</th>\n",
       "      <td>103</td>\n",
       "      <td>110</td>\n",
       "    </tr>\n",
       "    <tr>\n",
       "      <th>GAMBLING</th>\n",
       "      <td>81</td>\n",
       "      <td>52</td>\n",
       "    </tr>\n",
       "    <tr>\n",
       "      <th>KIDNAPPING</th>\n",
       "      <td>91</td>\n",
       "      <td>84</td>\n",
       "    </tr>\n",
       "    <tr>\n",
       "      <th>NON-CRIMINAL</th>\n",
       "      <td>17</td>\n",
       "      <td>2</td>\n",
       "    </tr>\n",
       "    <tr>\n",
       "      <th>INTIMIDATION</th>\n",
       "      <td>63</td>\n",
       "      <td>78</td>\n",
       "    </tr>\n",
       "    <tr>\n",
       "      <th>OBSCENITY</th>\n",
       "      <td>42</td>\n",
       "      <td>23</td>\n",
       "    </tr>\n",
       "    <tr>\n",
       "      <th>PUBLIC INDECENCY</th>\n",
       "      <td>7</td>\n",
       "      <td>3</td>\n",
       "    </tr>\n",
       "    <tr>\n",
       "      <th>HUMAN TRAFFICKING</th>\n",
       "      <td>5</td>\n",
       "      <td>7</td>\n",
       "    </tr>\n",
       "  </tbody>\n",
       "</table>\n",
       "</div>"
      ],
      "text/plain": [
       "                                   Crime Cases First 6 Months of 2018  \\\n",
       "ARSON                                                             168   \n",
       "MOTOR VEHICLE THEFT                                              4763   \n",
       "THEFT                                                           30245   \n",
       "BATTERY                                                         24158   \n",
       "CRIMINAL DAMAGE                                                 13436   \n",
       "BURGLARY                                                         5448   \n",
       "WEAPONS VIOLATION                                                2549   \n",
       "OTHER OFFENSE                                                    8666   \n",
       "DECEPTIVE PRACTICE                                               9472   \n",
       "ROBBERY                                                          4625   \n",
       "ASSAULT                                                          9942   \n",
       "CONCEALED CARRY LICENSE VIOLATION                                  59   \n",
       "OFFENSE INVOLVING CHILDREN                                       1170   \n",
       "CRIM SEXUAL ASSAULT                                               762   \n",
       "NARCOTICS                                                        6704   \n",
       "SEX OFFENSE                                                       513   \n",
       "PROSTITUTION                                                      350   \n",
       "CRIMINAL TRESPASS                                                3487   \n",
       "PUBLIC PEACE VIOLATION                                            662   \n",
       "INTERFERENCE WITH PUBLIC OFFICER                                  642   \n",
       "LIQUOR LAW VIOLATION                                              133   \n",
       "HOMICIDE                                                          271   \n",
       "STALKING                                                          103   \n",
       "GAMBLING                                                           81   \n",
       "KIDNAPPING                                                         91   \n",
       "NON-CRIMINAL                                                       17   \n",
       "INTIMIDATION                                                       63   \n",
       "OBSCENITY                                                          42   \n",
       "PUBLIC INDECENCY                                                    7   \n",
       "HUMAN TRAFFICKING                                                   5   \n",
       "\n",
       "                                   Crime Cases First 6 Months of 2019  \n",
       "ARSON                                                             160  \n",
       "MOTOR VEHICLE THEFT                                              4282  \n",
       "THEFT                                                           28104  \n",
       "BATTERY                                                         23736  \n",
       "CRIMINAL DAMAGE                                                 12503  \n",
       "BURGLARY                                                         4321  \n",
       "WEAPONS VIOLATION                                                2944  \n",
       "OTHER OFFENSE                                                    8430  \n",
       "DECEPTIVE PRACTICE                                               8043  \n",
       "ROBBERY                                                          3558  \n",
       "ASSAULT                                                         10075  \n",
       "CONCEALED CARRY LICENSE VIOLATION                                  93  \n",
       "OFFENSE INVOLVING CHILDREN                                       1199  \n",
       "CRIM SEXUAL ASSAULT                                               769  \n",
       "NARCOTICS                                                        6777  \n",
       "SEX OFFENSE                                                       591  \n",
       "PROSTITUTION                                                      304  \n",
       "CRIMINAL TRESPASS                                                3296  \n",
       "PUBLIC PEACE VIOLATION                                            763  \n",
       "INTERFERENCE WITH PUBLIC OFFICER                                  713  \n",
       "LIQUOR LAW VIOLATION                                               85  \n",
       "HOMICIDE                                                          238  \n",
       "STALKING                                                          110  \n",
       "GAMBLING                                                           52  \n",
       "KIDNAPPING                                                         84  \n",
       "NON-CRIMINAL                                                        2  \n",
       "INTIMIDATION                                                       78  \n",
       "OBSCENITY                                                          23  \n",
       "PUBLIC INDECENCY                                                    3  \n",
       "HUMAN TRAFFICKING                                                   7  "
      ]
     },
     "execution_count": 13,
     "metadata": {},
     "output_type": "execute_result"
    }
   ],
   "source": [
    "abt6mo18_df = amounts_by_type_6mo_2018_df.transpose()\n",
    "abt6mo_df = abt6mo18_df.rename(columns={0: \"Crime Cases First 6 Months of 2018\"})\n",
    "abt6mo_df[\"Crime Cases First 6 Months of 2019\"] = amounts_by_type_6mo_2019_df.transpose()\n",
    "abt6mo_df"
   ]
  },
  {
   "cell_type": "code",
   "execution_count": 14,
   "metadata": {},
   "outputs": [
    {
     "name": "stdout",
     "output_type": "stream",
     "text": [
      "The total crime committed in the first 6 months of 2018 was: 128634\n",
      "The total crime committed in the first 6 months of 2019 was: 121343\n"
     ]
    }
   ],
   "source": [
    "sixmo_total_2018 = abt6mo_df[\"Crime Cases First 6 Months of 2018\"].sum()\n",
    "sixmo_total_2019 = abt6mo_df[\"Crime Cases First 6 Months of 2019\"].sum()\n",
    "print(f\"The total crime committed in the first 6 months of 2018 was: {sixmo_total_2018}\")\n",
    "print(f\"The total crime committed in the first 6 months of 2019 was: {sixmo_total_2019}\")"
   ]
  },
  {
   "cell_type": "markdown",
   "metadata": {},
   "source": [
    "After adding up the crimes commited in the first 6 months of 2018 and 2019 there was a noteable difference in the amount of crime. This however, may be caused by data missing from the 2019 dataset. (Not all the data for June 2019 has been uploaded to the chicago crime website as of Saturday 07/06/2019. Beyond the total crime, are there noteable trends in crime committed in Chicago? What are the most common crimes?"
   ]
  },
  {
   "cell_type": "code",
   "execution_count": 15,
   "metadata": {},
   "outputs": [
    {
     "data": {
      "image/png": "[encoded data removed]",
      "text/plain": [
       "<Figure size 720x1800 with 1 Axes>"
      ]
     },
     "metadata": {
      "needs_background": "light"
     },
     "output_type": "display_data"
    }
   ],
   "source": [
    "# Breakdown of crimes by type for first 6 months:\n",
    "\n",
    "ax = abt6mo_df.plot.bar(rot=90)\n",
    "# Incorporate the other graph properties\n",
    "plt.title(\"Breakdown Chicago Crimes Committed - First 6 Months '18 vs. '19\")\n",
    "plt.ylabel(\"Number of Crime Cases\")\n",
    "plt.xlabel(\"Type of Crime Cases\")\n",
    "plt.grid(alpha = 0.25)\n",
    "plt.xticks(rotation=90)\n",
    "fig = plt.gcf()\n",
    "fig.set_size_inches(10, 25)\n",
    "\n",
    "# Save the figure\n",
    "#plt.savefig(\"Images/Breakdown of Chicago Crimes Committed in First Six Months 2018 vs 2019.png\")\n",
    "\n",
    "# Show plot\n",
    "plt.show()"
   ]
  },
  {
   "cell_type": "markdown",
   "metadata": {},
   "source": [
    "From the graph of total crimes by primary description, three categories of crime stand out with over 10,000 crimes committed in just the first 6 months of each year: Theft, Battery, and Criminal Damage! How many of those cases result in arrest?\n",
    "    "
   ]
  },
  {
   "cell_type": "code",
   "execution_count": 16,
   "metadata": {},
   "outputs": [
    {
     "data": {
      "text/plain": [
       "[(1, 20358), (2, 17274), (3, 21163), (4, 21073), (5, 24640), (6, 24127)]"
      ]
     },
     "execution_count": 16,
     "metadata": {},
     "output_type": "execute_result"
    }
   ],
   "source": [
    "abm6mo18 = df_6mo_2018['Month'].value_counts(sort=False)\n",
    "abm6mo19 = df_6mo_2019['Month'].value_counts(sort=False)\n",
    "abm6mo18_tuples = [tuple((x, y)) for x, y in abm6mo18.items()]\n",
    "abm6mo19_tuples = [tuple((x, y)) for x, y in abm6mo19.items()]\n",
    "abm6mo18_tuples"
   ]
  },
  {
   "cell_type": "code",
   "execution_count": 17,
   "metadata": {},
   "outputs": [
    {
     "data": {
      "text/html": [
       "<div>\n",
       "<style scoped>\n",
       "    .dataframe tbody tr th:only-of-type {\n",
       "        vertical-align: middle;\n",
       "    }\n",
       "\n",
       "    .dataframe tbody tr th {\n",
       "        vertical-align: top;\n",
       "    }\n",
       "\n",
       "    .dataframe thead th {\n",
       "        text-align: right;\n",
       "    }\n",
       "</style>\n",
       "<table border=\"1\" class=\"dataframe\">\n",
       "  <thead>\n",
       "    <tr style=\"text-align: right;\">\n",
       "      <th></th>\n",
       "      <th>2018</th>\n",
       "      <th>2019</th>\n",
       "    </tr>\n",
       "    <tr>\n",
       "      <th>First 6 Months of:</th>\n",
       "      <th></th>\n",
       "      <th></th>\n",
       "    </tr>\n",
       "  </thead>\n",
       "  <tbody>\n",
       "    <tr>\n",
       "      <th>January</th>\n",
       "      <td>20358</td>\n",
       "      <td>19262</td>\n",
       "    </tr>\n",
       "    <tr>\n",
       "      <th>February</th>\n",
       "      <td>17274</td>\n",
       "      <td>18089</td>\n",
       "    </tr>\n",
       "    <tr>\n",
       "      <th>March</th>\n",
       "      <td>21163</td>\n",
       "      <td>20089</td>\n",
       "    </tr>\n",
       "    <tr>\n",
       "      <th>April</th>\n",
       "      <td>21073</td>\n",
       "      <td>20589</td>\n",
       "    </tr>\n",
       "    <tr>\n",
       "      <th>May</th>\n",
       "      <td>24640</td>\n",
       "      <td>23164</td>\n",
       "    </tr>\n",
       "    <tr>\n",
       "      <th>June</th>\n",
       "      <td>24127</td>\n",
       "      <td>20153</td>\n",
       "    </tr>\n",
       "  </tbody>\n",
       "</table>\n",
       "</div>"
      ],
      "text/plain": [
       "                     2018   2019\n",
       "First 6 Months of:              \n",
       "January             20358  19262\n",
       "February            17274  18089\n",
       "March               21163  20089\n",
       "April               21073  20589\n",
       "May                 24640  23164\n",
       "June                24127  20153"
      ]
     },
     "execution_count": 17,
     "metadata": {},
     "output_type": "execute_result"
    }
   ],
   "source": [
    "# Summing Crime By Month For Each Year, Merging into one dataframe:\n",
    "monthly_sum_6mo_2018_crime_df = pd.DataFrame(abm6mo18_tuples)\n",
    "monthly_sum_6mo_2019_crime_df = pd.DataFrame(abm6mo19_tuples)\n",
    "\n",
    "monthly_sum_6mo_2018_crime_df = monthly_sum_6mo_2018_crime_df.rename(columns={0: \"First 6 Months of:\", 1: \"2018\"})\n",
    "monthly_sum_6mo_2019_crime_df = monthly_sum_6mo_2019_crime_df.rename(columns={0: \"First 6 Months of:\", 1: \"2019\"})\n",
    "monthly_sum_6mo_2018_crime_df[\"First 6 Months of:\"] = [\"January\",\"February\",\"March\",\"April\",\"May\",\"June\"]\n",
    "monthly_sum_6mo_2019_crime_df[\"First 6 Months of:\"] = [\"January\",\"February\",\"March\",\"April\",\"May\",\"June\"]\n",
    "\n",
    "monthly_sum_6mo_df = pd.merge(monthly_sum_6mo_2018_crime_df, monthly_sum_6mo_2019_crime_df, how='outer', on = \"First 6 Months of:\")\n",
    "monthly_sum_6mo_df = monthly_sum_6mo_df.set_index('First 6 Months of:')\n",
    "monthly_sum_6mo_df"
   ]
  },
  {
   "cell_type": "markdown",
   "metadata": {},
   "source": [
    "Aside from the huge amounts of theft, battery, and criminal damage, is there anything else significant about the data? Is there more crime in warmer weather?"
   ]
  },
  {
   "cell_type": "code",
   "execution_count": 18,
   "metadata": {},
   "outputs": [
    {
     "data": {
      "image/png": "[encoded data removed]",
      "text/plain": [
       "<Figure size 720x864 with 1 Axes>"
      ]
     },
     "metadata": {
      "needs_background": "light"
     },
     "output_type": "display_data"
    }
   ],
   "source": [
    "# Graphing monthly sums for first 6 months 2018 & 2019:\n",
    "ay = monthly_sum_6mo_df.plot.bar(rot=90)\n",
    "# Incorporate the other graph properties\n",
    "plt.title(\"Monthly Total Chicago Crimes Committed - First 6 Months '18 vs. '19\")\n",
    "plt.ylabel(\"Number of Crime Cases\")\n",
    "plt.xlabel(\"Month\")\n",
    "plt.grid(alpha = 0.25)\n",
    "plt.xticks(rotation=90)\n",
    "fig = plt.gcf()\n",
    "fig.set_size_inches(10, 12)\n",
    "\n",
    "# Save the figure\n",
    "#plt.savefig(\"Images/Monthly Total Chicago Crimes Committed - First 6 Months '18 vs '19.png\")\n",
    "\n",
    "# Show plot\n",
    "plt.show()"
   ]
  },
  {
   "cell_type": "markdown",
   "metadata": {},
   "source": [
    "The breakdown of crime over a 6 month period seems to indicate that in both 2018 and 2019 fewer crimes were committed in the coldest months analyzed. (JUNE CRIME IN 2019 is anticipated to rise as data is uploaded to the chicago crime website.)"
   ]
  },
  {
   "cell_type": "code",
   "execution_count": 19,
   "metadata": {},
   "outputs": [
    {
     "data": {
      "image/png": "[encoded data removed]",
      "text/plain": [
       "<Figure size 720x864 with 1 Axes>"
      ]
     },
     "metadata": {
      "needs_background": "light"
     },
     "output_type": "display_data"
    }
   ],
   "source": [
    "#Bar Chart of 6 Months Crime Totals 2018 vs. 2019:\n",
    "sixmo_crimes = [sixmo_total_2018, sixmo_total_2019]\n",
    "x_axis = np.arange(len(sixmo_crimes))\n",
    "plt.bar(x_axis, sixmo_crimes, color=['b','orange'], align=\"center\")\n",
    "tick_locations = [value for value in x_axis]\n",
    "plt.xticks(tick_locations, [\"2018\", \"2019\"])\n",
    "# Sets the y limits of the current chart\n",
    "plt.ylim(0, max(sixmo_crimes)+15000)\n",
    "\n",
    "plt.text(x = -1/6 , y = 2500, s = str(sixmo_total_2018), size = 20, color=\"white\")\n",
    "plt.text(x = 1-1/6 , y = 2500, s = str(sixmo_total_2019), size = 20, color=\"white\")\n",
    "\n",
    "# Give our chart some labels and a tile\n",
    "plt.title(\"Total Chicago Crime In First 6 Months 2018 vs. 2019\")\n",
    "plt.xlabel(\"First 6 Months of Each Year\")\n",
    "plt.ylabel(\"Amount of Crime Committed\")\n",
    "fig = plt.gcf()\n",
    "fig.set_size_inches(10, 12)\n",
    "\n",
    "# Save the figure\n",
    "#plt.savefig(\"Images/6 Months of Total Chicago Crime 2018 vs 2019.png\")\n",
    "\n",
    "# Show plot\n",
    "plt.show()"
   ]
  },
  {
   "cell_type": "code",
   "execution_count": 20,
   "metadata": {},
   "outputs": [
    {
     "data": {
      "text/plain": [
       "3.841458820694124"
      ]
     },
     "execution_count": 20,
     "metadata": {},
     "output_type": "execute_result"
    }
   ],
   "source": [
    "# Was there a statistically significant amount of crime committed in 2018 and 2019?\n",
    "# The degree of freedom is 2-1 = 1\n",
    "# With a p-value of 0.05, the confidence level is 1.00-0.05 = 0.95.\n",
    "critical_value = stats.chi2.ppf(q = 0.95, df = 1)\n",
    "# The critical value\n",
    "critical_value\n"
   ]
  },
  {
   "cell_type": "code",
   "execution_count": 21,
   "metadata": {},
   "outputs": [
    {
     "data": {
      "text/plain": [
       "Power_divergenceResult(statistic=906.0583549733819, pvalue=1.299925043341196e-193)"
      ]
     },
     "execution_count": 21,
     "metadata": {},
     "output_type": "execute_result"
    }
   ],
   "source": [
    "# Run the chi square test with stats.chisquare() to see if 2019 data is within an expected range or not:\n",
    "stats.chisquare(monthly_sum_6mo_df[\"2019\"], monthly_sum_6mo_df[\"2018\"])"
   ]
  },
  {
   "cell_type": "markdown",
   "metadata": {},
   "source": [
    "From the monthly breakdown and breakdown by primary type, it seems that fewer crime has been committed over the first six months of 2019 than 2018. Perhaps chicago crime rates are currently going down? The chi squre critical value of 3.841 is far lower than the chi square value, indicating statistical significance in the data. To eliminate anything misleading, I will re-run the test discluding June so there is a complete dataset for 2018 and 2019. Aditionally, an analysis of crime in previous years would help more definitively predict the anticipated crime levels for the rest of 2019 but at a glance, it seems overall crimes are going down in 2019. Are there other monthly graphs of the data on hand that might help support this claim?"
   ]
  },
  {
   "cell_type": "code",
   "execution_count": 22,
   "metadata": {},
   "outputs": [
    {
     "data": {
      "text/plain": [
       "Power_divergenceResult(statistic=251.49392508155955, pvalue=3.1025987473732546e-53)"
      ]
     },
     "execution_count": 22,
     "metadata": {},
     "output_type": "execute_result"
    }
   ],
   "source": [
    "# Dropped June Data and reran Chi Square test:\n",
    "monthly_sum_6mo_df.drop(monthly_sum_6mo_df.tail(1).index,inplace=True)\n",
    "stats.chisquare(monthly_sum_6mo_df[\"2019\"], monthly_sum_6mo_df[\"2018\"])"
   ]
  },
  {
   "cell_type": "markdown",
   "metadata": {},
   "source": [
    "The chi square value is still well above the critical value seemingly supporting the claim that the overall crime rate is different in 2018 and 2019."
   ]
  },
  {
   "cell_type": "code",
   "execution_count": 23,
   "metadata": {},
   "outputs": [
    {
     "data": {
      "text/plain": [
       "Ttest_indResult(statistic=0.45857389719670477, pvalue=0.6587411170172341)"
      ]
     },
     "execution_count": 23,
     "metadata": {},
     "output_type": "execute_result"
    }
   ],
   "source": [
    "# Assuming equal population variance\n",
    "stats.ttest_ind(monthly_sum_6mo_df[\"2018\"], monthly_sum_6mo_df[\"2019\"], equal_var=True)"
   ]
  },
  {
   "cell_type": "markdown",
   "metadata": {},
   "source": [
    "While the chi square test seemed to indicate statistical significance, a student's ttest seems to indicate insignificance in the data  differences between 2018 and 2019. Perhaps running a comparrison of 2017 and 2019 would produce a pvalue less than 0.05."
   ]
  },
  {
   "cell_type": "markdown",
   "metadata": {},
   "source": [
    "TOTAL MONTHLY ARSON CRIMES: (Perhaps it would be interesting to look at the crime for one of the non-major categories (10000 crimes committed or more)"
   ]
  },
  {
   "cell_type": "code",
   "execution_count": 24,
   "metadata": {},
   "outputs": [
    {
     "data": {
      "text/html": [
       "<div>\n",
       "<style scoped>\n",
       "    .dataframe tbody tr th:only-of-type {\n",
       "        vertical-align: middle;\n",
       "    }\n",
       "\n",
       "    .dataframe tbody tr th {\n",
       "        vertical-align: top;\n",
       "    }\n",
       "\n",
       "    .dataframe thead th {\n",
       "        text-align: right;\n",
       "    }\n",
       "</style>\n",
       "<table border=\"1\" class=\"dataframe\">\n",
       "  <thead>\n",
       "    <tr style=\"text-align: right;\">\n",
       "      <th></th>\n",
       "      <th>2018</th>\n",
       "      <th>2019</th>\n",
       "    </tr>\n",
       "    <tr>\n",
       "      <th>First 6 Months of:</th>\n",
       "      <th></th>\n",
       "      <th></th>\n",
       "    </tr>\n",
       "  </thead>\n",
       "  <tbody>\n",
       "    <tr>\n",
       "      <th>January</th>\n",
       "      <td>26</td>\n",
       "      <td>22</td>\n",
       "    </tr>\n",
       "    <tr>\n",
       "      <th>February</th>\n",
       "      <td>14</td>\n",
       "      <td>29</td>\n",
       "    </tr>\n",
       "    <tr>\n",
       "      <th>March</th>\n",
       "      <td>32</td>\n",
       "      <td>27</td>\n",
       "    </tr>\n",
       "    <tr>\n",
       "      <th>April</th>\n",
       "      <td>27</td>\n",
       "      <td>32</td>\n",
       "    </tr>\n",
       "    <tr>\n",
       "      <th>May</th>\n",
       "      <td>33</td>\n",
       "      <td>25</td>\n",
       "    </tr>\n",
       "    <tr>\n",
       "      <th>June</th>\n",
       "      <td>36</td>\n",
       "      <td>25</td>\n",
       "    </tr>\n",
       "  </tbody>\n",
       "</table>\n",
       "</div>"
      ],
      "text/plain": [
       "                    2018  2019\n",
       "First 6 Months of:            \n",
       "January               26    22\n",
       "February              14    29\n",
       "March                 32    27\n",
       "April                 27    32\n",
       "May                   33    25\n",
       "June                  36    25"
      ]
     },
     "execution_count": 24,
     "metadata": {},
     "output_type": "execute_result"
    }
   ],
   "source": [
    "# Chose a category other than the main categories to look at more of the data than just the most prevelant crimes\n",
    "#Monthly Arson Crimes:\n",
    "arson_6mo_18 = arson_6mo_2018_df['Month'].value_counts(sort=False)\n",
    "arson_6mo_19 = arson_6mo_2019_df['Month'].value_counts(sort=False)\n",
    "arson_18_tuples = [tuple((x, y)) for x, y in arson_6mo_18.items()]\n",
    "arson_19_tuples = [tuple((x, y)) for x, y in arson_6mo_19.items()]\n",
    "\n",
    "# Summing Crime By Month For Each Year, Merging into one dataframe:\n",
    "monthly_sum_6mo_18_arson_df = pd.DataFrame(arson_18_tuples)\n",
    "monthly_sum_6mo_19_arson_df = pd.DataFrame(arson_19_tuples)\n",
    "\n",
    "\n",
    "monthly_sum_6mo_18_arson_df = monthly_sum_6mo_18_arson_df.rename(columns={0: \"First 6 Months of:\", 1: \"2018\"})\n",
    "monthly_sum_6mo_19_arson_df = monthly_sum_6mo_19_arson_df.rename(columns={0: \"First 6 Months of:\", 1: \"2019\"})\n",
    "monthly_sum_6mo_18_arson_df[\"First 6 Months of:\"] = [\"January\",\"February\",\"March\",\"April\",\"May\",\"June\"]\n",
    "monthly_sum_6mo_19_arson_df[\"First 6 Months of:\"] = [\"January\",\"February\",\"March\",\"April\",\"May\",\"June\"]\n",
    "\n",
    "monthly_sum_arson_6mo_df = pd.merge(monthly_sum_6mo_18_arson_df, monthly_sum_6mo_19_arson_df, how='outer', on = \"First 6 Months of:\")\n",
    "monthly_sum_arson_6mo_df = monthly_sum_arson_6mo_df.set_index('First 6 Months of:')\n",
    "monthly_sum_arson_6mo_df"
   ]
  },
  {
   "cell_type": "code",
   "execution_count": 25,
   "metadata": {},
   "outputs": [
    {
     "data": {
      "image/png": "[encoded data removed]",
      "text/plain": [
       "<Figure size 720x864 with 1 Axes>"
      ]
     },
     "metadata": {
      "needs_background": "light"
     },
     "output_type": "display_data"
    }
   ],
   "source": [
    "# USED AS AN EXAMPLE OF OTHER PLOTS THAT CAN BE GENERATED!\n",
    "# Graphing monthly sums for Arson in first 6 months 2018 & 2019:\n",
    "ay = monthly_sum_arson_6mo_df.plot.bar(rot=90)\n",
    "# Incorporate the other graph properties\n",
    "plt.title(\"Monthly Total Chicago Arson Crimes Committed - First 6 Months '18 vs. '19\")\n",
    "plt.ylabel(\"Number of Arson Crime Cases\")\n",
    "plt.xlabel(\"Month\")\n",
    "plt.grid(alpha = 0.25)\n",
    "plt.xticks(rotation=90)\n",
    "fig = plt.gcf()\n",
    "fig.set_size_inches(10, 12)\n",
    "\n",
    "# Save the figure\n",
    "#plt.savefig(\"Images/Monthly Total Chicago Arson Crimes Committed - First 6 Months '18 vs '19.png\")\n",
    "\n",
    "# Show plot\n",
    "plt.show()"
   ]
  },
  {
   "cell_type": "markdown",
   "metadata": {},
   "source": [
    "It is interesting to note that arson crimes broke the typical trend (fewer crimes committed in the first 6 months of 2019 than 2018). In 2019, more than double the arson crimes were committed in February and the records also showed more arson crimes committed in April, 2019, although by a smaller margin before following the general trend observed for the overal crime data, that crime rates appeared to be going down in 2019. But how did the major crime categories fare? Was there a more clear trend in the major categories of theft, criminal damage, and battery?"
   ]
  },
  {
   "cell_type": "markdown",
   "metadata": {},
   "source": [
    "TOTAL MONTHLY THEFT CRIMES:"
   ]
  },
  {
   "cell_type": "code",
   "execution_count": 26,
   "metadata": {},
   "outputs": [
    {
     "data": {
      "image/png": "[encoded data removed]",
      "text/plain": [
       "<Figure size 720x864 with 1 Axes>"
      ]
     },
     "metadata": {
      "needs_background": "light"
     },
     "output_type": "display_data"
    }
   ],
   "source": [
    "#Monthly Theft Crimes:\n",
    "theft_6mo_18 = theft_6mo_2018_df['Month'].value_counts(sort=False)\n",
    "theft_6mo_19 = theft_6mo_2019_df['Month'].value_counts(sort=False)\n",
    "theft_18_tuples = [tuple((x, y)) for x, y in theft_6mo_18.items()]\n",
    "theft_19_tuples = [tuple((x, y)) for x, y in theft_6mo_19.items()]\n",
    "\n",
    "# Summing Crime By Month For Each Year, Merging into one dataframe:\n",
    "monthly_sum_6mo_18_theft_df = pd.DataFrame(theft_18_tuples)\n",
    "monthly_sum_6mo_19_theft_df = pd.DataFrame(theft_19_tuples)\n",
    "\n",
    "\n",
    "monthly_sum_6mo_18_theft_df = monthly_sum_6mo_18_theft_df.rename(columns={0: \"First 6 Months of:\", 1: \"2018\"})\n",
    "monthly_sum_6mo_19_theft_df = monthly_sum_6mo_19_theft_df.rename(columns={0: \"First 6 Months of:\", 1: \"2019\"})\n",
    "monthly_sum_6mo_18_theft_df[\"First 6 Months of:\"] = [\"January\",\"February\",\"March\",\"April\",\"May\",\"June\"]\n",
    "monthly_sum_6mo_19_theft_df[\"First 6 Months of:\"] = [\"January\",\"February\",\"March\",\"April\",\"May\",\"June\"]\n",
    "\n",
    "monthly_sum_theft_6mo_df = pd.merge(monthly_sum_6mo_18_theft_df, monthly_sum_6mo_19_theft_df, how='outer', on = \"First 6 Months of:\")\n",
    "monthly_sum_theft_6mo_df = monthly_sum_theft_6mo_df.set_index('First 6 Months of:')\n",
    "monthly_sum_theft_6mo_df\n",
    "\n",
    "# USED AS AN EXAMPLE OF OTHER PLOTS THAT CAN BE GENERATED!\n",
    "# Graphing monthly sums for Theft in first 6 months 2018 & 2019:\n",
    "ay = monthly_sum_theft_6mo_df.plot.bar(rot=90)\n",
    "# Incorporate the other graph properties\n",
    "plt.title(\"Monthly Total Chicago Theft Crimes Committed - First 6 Months '18 vs. '19\")\n",
    "plt.ylabel(\"Number of Theft Crime Cases\")\n",
    "plt.xlabel(\"Month\")\n",
    "plt.grid(alpha = 0.25)\n",
    "plt.xticks(rotation=90)\n",
    "fig = plt.gcf()\n",
    "fig.set_size_inches(10, 12)\n",
    "\n",
    "# Save the figure\n",
    "#plt.savefig(\"Images/Monthly Total Chicago Theft Crimes Committed - First 6 Months '18 vs '19.png\")\n",
    "\n",
    "# Show plot\n",
    "plt.show()\n"
   ]
  },
  {
   "cell_type": "markdown",
   "metadata": {},
   "source": [
    "In general, there were fewer theft crimes per month in 2019 than 2018, accept for april. What about battery?"
   ]
  },
  {
   "cell_type": "markdown",
   "metadata": {},
   "source": [
    "TOTAL MONTHLY BATTERY CRIMES:"
   ]
  },
  {
   "cell_type": "code",
   "execution_count": 27,
   "metadata": {},
   "outputs": [
    {
     "data": {
      "image/png": "[encoded data removed]",
      "text/plain": [
       "<Figure size 720x864 with 1 Axes>"
      ]
     },
     "metadata": {
      "needs_background": "light"
     },
     "output_type": "display_data"
    }
   ],
   "source": [
    "#Monthly Battery Crimes:\n",
    "battery_6mo_18 = battery_6mo_2018_df['Month'].value_counts(sort=False)\n",
    "battery_6mo_19 = battery_6mo_2019_df['Month'].value_counts(sort=False)\n",
    "battery_18_tuples = [tuple((x, y)) for x, y in battery_6mo_18.items()]\n",
    "battery_19_tuples = [tuple((x, y)) for x, y in battery_6mo_19.items()]\n",
    "\n",
    "# Summing Crime By Month For Each Year, Merging into one dataframe:\n",
    "monthly_sum_6mo_18_battery_df = pd.DataFrame(battery_18_tuples)\n",
    "monthly_sum_6mo_19_battery_df = pd.DataFrame(battery_19_tuples)\n",
    "\n",
    "\n",
    "monthly_sum_6mo_18_battery_df = monthly_sum_6mo_18_battery_df.rename(columns={0: \"First 6 Months of:\", 1: \"2018\"})\n",
    "monthly_sum_6mo_19_battery_df = monthly_sum_6mo_19_battery_df.rename(columns={0: \"First 6 Months of:\", 1: \"2019\"})\n",
    "monthly_sum_6mo_18_battery_df[\"First 6 Months of:\"] = [\"January\",\"February\",\"March\",\"April\",\"May\",\"June\"]\n",
    "monthly_sum_6mo_19_battery_df[\"First 6 Months of:\"] = [\"January\",\"February\",\"March\",\"April\",\"May\",\"June\"]\n",
    "\n",
    "monthly_sum_battery_6mo_df = pd.merge(monthly_sum_6mo_18_battery_df, monthly_sum_6mo_19_battery_df, how='outer', on = \"First 6 Months of:\")\n",
    "monthly_sum_battery_6mo_df = monthly_sum_battery_6mo_df.set_index('First 6 Months of:')\n",
    "monthly_sum_battery_6mo_df\n",
    "\n",
    "# USED AS AN EXAMPLE OF OTHER PLOTS THAT CAN BE GENERATED!\n",
    "# Graphing monthly sums for Battery in first 6 months 2018 & 2019:\n",
    "ay = monthly_sum_battery_6mo_df.plot.bar(rot=90)\n",
    "# Incorporate the other graph properties\n",
    "plt.title(\"Monthly Total Chicago Battery Crimes Committed - First 6 Months '18 vs. '19\")\n",
    "plt.ylabel(\"Number of Battery Crime Cases\")\n",
    "plt.xlabel(\"Month\")\n",
    "plt.grid(alpha = 0.25)\n",
    "plt.xticks(rotation=90)\n",
    "fig = plt.gcf()\n",
    "fig.set_size_inches(10, 12)\n",
    "\n",
    "# Save the figure\n",
    "#plt.savefig(\"Images/Monthly Total Chicago Battery Crimes Committed - First 6 Months '18 vs '19.png\")\n",
    "\n",
    "# Show plot\n",
    "plt.show()\n"
   ]
  },
  {
   "cell_type": "markdown",
   "metadata": {},
   "source": [
    "Battery crimes appear to have gone up in the beginning of 2019 resulting in more battery crimes on a monthly basis in 2019 than 2018 until May."
   ]
  },
  {
   "cell_type": "markdown",
   "metadata": {},
   "source": [
    "TOTAL MONTHLY CRIMINAL DAMAGE CRIMES:"
   ]
  },
  {
   "cell_type": "code",
   "execution_count": 28,
   "metadata": {},
   "outputs": [
    {
     "data": {
      "image/png": "[encoded data removed]",
      "text/plain": [
       "<Figure size 720x864 with 1 Axes>"
      ]
     },
     "metadata": {
      "needs_background": "light"
     },
     "output_type": "display_data"
    }
   ],
   "source": [
    "#Monthly Criminal_damage Crimes:\n",
    "criminal_damage_6mo_18 = criminal_damage_6mo_2018_df['Month'].value_counts(sort=False)\n",
    "criminal_damage_6mo_19 = criminal_damage_6mo_2019_df['Month'].value_counts(sort=False)\n",
    "criminal_damage_18_tuples = [tuple((x, y)) for x, y in criminal_damage_6mo_18.items()]\n",
    "criminal_damage_19_tuples = [tuple((x, y)) for x, y in criminal_damage_6mo_19.items()]\n",
    "\n",
    "# Summing Crime By Month For Each Year, Merging into one dataframe:\n",
    "monthly_sum_6mo_18_criminal_damage_df = pd.DataFrame(criminal_damage_18_tuples)\n",
    "monthly_sum_6mo_19_criminal_damage_df = pd.DataFrame(criminal_damage_19_tuples)\n",
    "\n",
    "\n",
    "monthly_sum_6mo_18_criminal_damage_df = monthly_sum_6mo_18_criminal_damage_df.rename(columns={0: \"First 6 Months of:\", 1: \"2018\"})\n",
    "monthly_sum_6mo_19_criminal_damage_df = monthly_sum_6mo_19_criminal_damage_df.rename(columns={0: \"First 6 Months of:\", 1: \"2019\"})\n",
    "monthly_sum_6mo_18_criminal_damage_df[\"First 6 Months of:\"] = [\"January\",\"February\",\"March\",\"April\",\"May\",\"June\"]\n",
    "monthly_sum_6mo_19_criminal_damage_df[\"First 6 Months of:\"] = [\"January\",\"February\",\"March\",\"April\",\"May\",\"June\"]\n",
    "\n",
    "monthly_sum_criminal_damage_6mo_df = pd.merge(monthly_sum_6mo_18_criminal_damage_df, monthly_sum_6mo_19_criminal_damage_df, how='outer', on = \"First 6 Months of:\")\n",
    "monthly_sum_criminal_damage_6mo_df = monthly_sum_criminal_damage_6mo_df.set_index('First 6 Months of:')\n",
    "monthly_sum_criminal_damage_6mo_df\n",
    "\n",
    "# USED AS AN EXAMPLE OF OTHER PLOTS THAT CAN BE GENERATED!\n",
    "# Graphing monthly sums for Criminal_damage in first 6 months 2018 & 2019:\n",
    "ay = monthly_sum_criminal_damage_6mo_df.plot.bar(rot=90)\n",
    "# Incorporate the other graph properties\n",
    "plt.title(\"Monthly Total Chicago Criminal Damage Crimes Committed - First 6 Months '18 vs. '19\")\n",
    "plt.ylabel(\"Number of Criminal Damage Crime Cases\")\n",
    "plt.xlabel(\"Month\")\n",
    "plt.grid(alpha = 0.25)\n",
    "plt.xticks(rotation=90)\n",
    "fig = plt.gcf()\n",
    "fig.set_size_inches(10, 12)\n",
    "\n",
    "# Save the figure\n",
    "#plt.savefig(\"Images/Monthly Total Chicago Criminal Damage Crimes Committed - First 6 Months '18 vs '19.png\")\n",
    "\n",
    "# Show plot\n",
    "plt.show()\n"
   ]
  },
  {
   "cell_type": "markdown",
   "metadata": {},
   "source": [
    "Criminal damage crimes appear fewer in 2019 than 2018 accept in February and April. The data may be indicating that crime in February and April may be on the rise. What about arrests? How do arrest rates compare?"
   ]
  },
  {
   "cell_type": "code",
   "execution_count": 29,
   "metadata": {},
   "outputs": [
    {
     "name": "stdout",
     "output_type": "stream",
     "text": [
      "26407 25820\n"
     ]
    }
   ],
   "source": [
    "# Counting the total number of arrests first 6 months 2018 and 2019:\n",
    "arrest_count_18 = df_6mo_2018['Arrest'].value_counts()\n",
    "arrest_18_tuples = [tuple((x, y)) for x, y in arrest_count_18.items()]\n",
    "arrests_18_df = pd.DataFrame(arrest_18_tuples)\n",
    "arrests_18_df['2']=['N','Y']\n",
    "arrests_18_df = arrests_18_df.rename(columns={0: \"R\"})\n",
    "arrests_18_df = arrests_18_df.drop(columns=\"R\")\n",
    "\n",
    "arr_18_df = arrests_18_df.set_index([\"2\"])\n",
    "arr_18_df = arr_18_df.transpose()\n",
    "count_arrest_6mo_18 = round(arr_18_df[\"Y\"].mean())\n",
    "\n",
    "arrest_6mo_19_df = df_6mo_2019.loc[df_6mo_2019[\"Arrest\"] == \"Y\"]\n",
    "count_arrest_6mo_19 = len(arrest_6mo_19_df)\n",
    "print(count_arrest_6mo_18, count_arrest_6mo_19)"
   ]
  },
  {
   "cell_type": "code",
   "execution_count": 30,
   "metadata": {},
   "outputs": [
    {
     "data": {
      "image/png": "[encoded data removed]",
      "text/plain": [
       "<Figure size 720x864 with 1 Axes>"
      ]
     },
     "metadata": {
      "needs_background": "light"
     },
     "output_type": "display_data"
    }
   ],
   "source": [
    "# Bar Chart of 6 Month Arrest Totals 2018 vs. 2019:\n",
    "sixmo_arrests = [count_arrest_6mo_18, count_arrest_6mo_19]\n",
    "x_axis = np.arange(len(sixmo_arrests))\n",
    "plt.bar(x_axis, sixmo_arrests, color=['b','orange'], align=\"center\")\n",
    "tick_locations = [value for value in x_axis]\n",
    "plt.xticks(tick_locations, [\"2018\", \"2019\"])\n",
    "# Sets the y limits of the current chart\n",
    "plt.ylim(0, max(sixmo_arrests)+5000)\n",
    "\n",
    "plt.text(x = -1/6 , y = 500, s = str(count_arrest_6mo_18), size = 20, color=\"white\")\n",
    "plt.text(x = 1-1/6 , y = 500, s = str(count_arrest_6mo_19), size = 20, color=\"white\")\n",
    "\n",
    "# Give our chart some labels and a tile\n",
    "plt.title(\"6 Months of Chicago Arrests 2018 vs. 2019\")\n",
    "plt.xlabel(\"First 6 Months of Each Year\")\n",
    "plt.ylabel(\"Number of Arrests Made\")\n",
    "fig = plt.gcf()\n",
    "fig.set_size_inches(10, 12)\n",
    "\n",
    "# Save the figure\n",
    "#plt.savefig(\"Images/6 Months of Chicago Arrests 2018 vs 2019.png\")\n",
    "\n",
    "# Show plot\n",
    "plt.show()"
   ]
  },
  {
   "cell_type": "markdown",
   "metadata": {},
   "source": [
    "Of the total crime cases in the first 6 months of 2018 (128634), 26407 resulted in arrest (21%). Of the total crime cases in the first 6 months of 2019 (119024), 25264 resulted in arrest (21%). (These figures need to be recalculated for 2019 when the full dataset for June is available... It is interesting to note that although the crime rate may be going down, the percent of  arrests relative to crimes committted is not going down. Maybe a monthly view would indicate something more specific..."
   ]
  },
  {
   "cell_type": "code",
   "execution_count": 31,
   "metadata": {},
   "outputs": [],
   "source": [
    "jan_2018_df = df_6mo_2018.loc[df_6mo_2018[\"Month\"] == 1]\n",
    "feb_2018_df = df_6mo_2018.loc[df_6mo_2018[\"Month\"] == 2]\n",
    "mar_2018_df = df_6mo_2018.loc[df_6mo_2018[\"Month\"] == 3]\n",
    "apr_2018_df = df_6mo_2018.loc[df_6mo_2018[\"Month\"] == 4]\n",
    "may_2018_df = df_6mo_2018.loc[df_6mo_2018[\"Month\"] == 5]\n",
    "jun_2018_df = df_6mo_2018.loc[df_6mo_2018[\"Month\"] == 6]\n",
    "\n",
    "jan_2019_df = df_6mo_2019.loc[df_6mo_2019[\"Month\"] == 1]\n",
    "feb_2019_df = df_6mo_2019.loc[df_6mo_2019[\"Month\"] == 2]\n",
    "mar_2019_df = df_6mo_2019.loc[df_6mo_2019[\"Month\"] == 3]\n",
    "apr_2019_df = df_6mo_2019.loc[df_6mo_2019[\"Month\"] == 4]\n",
    "may_2019_df = df_6mo_2019.loc[df_6mo_2019[\"Month\"] == 5]\n",
    "jun_2019_df = df_6mo_2019.loc[df_6mo_2019[\"Month\"] == 6]\n"
   ]
  },
  {
   "cell_type": "code",
   "execution_count": 32,
   "metadata": {},
   "outputs": [
    {
     "name": "stdout",
     "output_type": "stream",
     "text": [
      "4193 4295\n"
     ]
    }
   ],
   "source": [
    "# Counting the number of arrests for January 2018 and 2019:\n",
    "jan_arrest_count_18 = jan_2018_df['Arrest'].value_counts()\n",
    "jan_arrest_18_tuples = [tuple((x, y)) for x, y in jan_arrest_count_18.items()]\n",
    "jan_arrests_18_df = pd.DataFrame(jan_arrest_18_tuples)\n",
    "jan_arrests_18_df['2']=['N','Y']\n",
    "jan_arrests_18_df = jan_arrests_18_df.rename(columns={0: \"R\"})\n",
    "jan_arrests_18_df = jan_arrests_18_df.drop(columns=\"R\")\n",
    "\n",
    "jan_arr_18_df = jan_arrests_18_df.set_index([\"2\"])\n",
    "jan_arr_18_df = jan_arr_18_df.transpose()\n",
    "count_jan_arrest_6mo_18 = round(jan_arr_18_df[\"Y\"].mean())\n",
    "\n",
    "jan_arrest_6mo_19_df = jan_2019_df.loc[jan_2019_df[\"Arrest\"] == \"Y\"]\n",
    "count_jan_arrest_6mo_19 = len(jan_arrest_6mo_19_df)\n",
    "print(count_jan_arrest_6mo_18, count_jan_arrest_6mo_19)"
   ]
  },
  {
   "cell_type": "code",
   "execution_count": 33,
   "metadata": {},
   "outputs": [
    {
     "name": "stdout",
     "output_type": "stream",
     "text": [
      "3868 3980\n"
     ]
    }
   ],
   "source": [
    "# Counting the number of arrests for February 2018 and 2019:\n",
    "feb_arrest_count_18 = feb_2018_df['Arrest'].value_counts()\n",
    "feb_arrest_18_tuples = [tuple((x, y)) for x, y in feb_arrest_count_18.items()]\n",
    "feb_arrests_18_df = pd.DataFrame(feb_arrest_18_tuples)\n",
    "feb_arrests_18_df['2']=['N','Y']\n",
    "feb_arrests_18_df = feb_arrests_18_df.rename(columns={0: \"R\"})\n",
    "feb_arrests_18_df = feb_arrests_18_df.drop(columns=\"R\")\n",
    "\n",
    "feb_arr_18_df = feb_arrests_18_df.set_index([\"2\"])\n",
    "feb_arr_18_df = feb_arr_18_df.transpose()\n",
    "count_feb_arrest_6mo_18 = round(feb_arr_18_df[\"Y\"].mean())\n",
    "\n",
    "feb_arrest_6mo_19_df = feb_2019_df.loc[feb_2019_df[\"Arrest\"] == \"Y\"]\n",
    "count_feb_arrest_6mo_19 = len(feb_arrest_6mo_19_df)\n",
    "print(count_feb_arrest_6mo_18, count_feb_arrest_6mo_19)"
   ]
  },
  {
   "cell_type": "code",
   "execution_count": 34,
   "metadata": {},
   "outputs": [
    {
     "name": "stdout",
     "output_type": "stream",
     "text": [
      "4585 4564\n"
     ]
    }
   ],
   "source": [
    "# Counting the number of arrests for March 2018 and 2019:\n",
    "mar_arrest_count_18 = mar_2018_df['Arrest'].value_counts()\n",
    "mar_arrest_18_tuples = [tuple((x, y)) for x, y in mar_arrest_count_18.items()]\n",
    "mar_arrests_18_df = pd.DataFrame(mar_arrest_18_tuples)\n",
    "mar_arrests_18_df['2']=['N','Y']\n",
    "mar_arrests_18_df = mar_arrests_18_df.rename(columns={0: \"R\"})\n",
    "mar_arrests_18_df = mar_arrests_18_df.drop(columns=\"R\")\n",
    "\n",
    "mar_arr_18_df = mar_arrests_18_df.set_index([\"2\"])\n",
    "mar_arr_18_df = mar_arr_18_df.transpose()\n",
    "count_mar_arrest_6mo_18 = round(mar_arr_18_df[\"Y\"].mean())\n",
    "\n",
    "mar_arrest_6mo_19_df = mar_2019_df.loc[mar_2019_df[\"Arrest\"] == \"Y\"]\n",
    "count_mar_arrest_6mo_19 = len(mar_arrest_6mo_19_df)\n",
    "print(count_mar_arrest_6mo_18, count_mar_arrest_6mo_19)"
   ]
  },
  {
   "cell_type": "code",
   "execution_count": 35,
   "metadata": {},
   "outputs": [
    {
     "name": "stdout",
     "output_type": "stream",
     "text": [
      "4250 4326\n"
     ]
    }
   ],
   "source": [
    "# Counting the number of arrests for April 2018 and 2019:\n",
    "apr_arrest_count_18 = apr_2018_df['Arrest'].value_counts()\n",
    "apr_arrest_18_tuples = [tuple((x, y)) for x, y in apr_arrest_count_18.items()]\n",
    "apr_arrests_18_df = pd.DataFrame(apr_arrest_18_tuples)\n",
    "apr_arrests_18_df['2']=['N','Y']\n",
    "apr_arrests_18_df = apr_arrests_18_df.rename(columns={0: \"R\"})\n",
    "apr_arrests_18_df = apr_arrests_18_df.drop(columns=\"R\")\n",
    "\n",
    "apr_arr_18_df = apr_arrests_18_df.set_index([\"2\"])\n",
    "apr_arr_18_df = apr_arr_18_df.transpose()\n",
    "count_apr_arrest_6mo_18 = round(apr_arr_18_df[\"Y\"].mean())\n",
    "\n",
    "apr_arrest_6mo_19_df = apr_2019_df.loc[apr_2019_df[\"Arrest\"] == \"Y\"]\n",
    "count_apr_arrest_6mo_19 = len(apr_arrest_6mo_19_df)\n",
    "print(count_apr_arrest_6mo_18, count_apr_arrest_6mo_19)"
   ]
  },
  {
   "cell_type": "code",
   "execution_count": 36,
   "metadata": {},
   "outputs": [
    {
     "name": "stdout",
     "output_type": "stream",
     "text": [
      "4949 4792\n"
     ]
    }
   ],
   "source": [
    "# Counting the number of arrests for May 2018 and 2019:\n",
    "may_arrest_count_18 = may_2018_df['Arrest'].value_counts()\n",
    "may_arrest_18_tuples = [tuple((x, y)) for x, y in may_arrest_count_18.items()]\n",
    "may_arrests_18_df = pd.DataFrame(may_arrest_18_tuples)\n",
    "may_arrests_18_df['2']=['N','Y']\n",
    "may_arrests_18_df = may_arrests_18_df.rename(columns={0: \"R\"})\n",
    "may_arrests_18_df = may_arrests_18_df.drop(columns=\"R\")\n",
    "\n",
    "may_arr_18_df = may_arrests_18_df.set_index([\"2\"])\n",
    "may_arr_18_df = may_arr_18_df.transpose()\n",
    "count_may_arrest_6mo_18 = round(may_arr_18_df[\"Y\"].mean())\n",
    "\n",
    "may_arrest_6mo_19_df = may_2019_df.loc[may_2019_df[\"Arrest\"] == \"Y\"]\n",
    "count_may_arrest_6mo_19 = len(may_arrest_6mo_19_df)\n",
    "print(count_may_arrest_6mo_18, count_may_arrest_6mo_19)"
   ]
  },
  {
   "cell_type": "code",
   "execution_count": 37,
   "metadata": {},
   "outputs": [
    {
     "name": "stdout",
     "output_type": "stream",
     "text": [
      "4562 3863\n"
     ]
    }
   ],
   "source": [
    "# Counting the number of arrests for June 2018 and 2019:\n",
    "jun_arrest_count_18 = jun_2018_df['Arrest'].value_counts()\n",
    "jun_arrest_18_tuples = [tuple((x, y)) for x, y in jun_arrest_count_18.items()]\n",
    "jun_arrests_18_df = pd.DataFrame(jun_arrest_18_tuples)\n",
    "jun_arrests_18_df['2']=['N','Y']\n",
    "jun_arrests_18_df = jun_arrests_18_df.rename(columns={0: \"R\"})\n",
    "jun_arrests_18_df = jun_arrests_18_df.drop(columns=\"R\")\n",
    "\n",
    "jun_arr_18_df = jun_arrests_18_df.set_index([\"2\"])\n",
    "jun_arr_18_df = jun_arr_18_df.transpose()\n",
    "count_jun_arrest_6mo_18 = round(jun_arr_18_df[\"Y\"].mean())\n",
    "\n",
    "jun_arrest_6mo_19_df = jun_2019_df.loc[jun_2019_df[\"Arrest\"] == \"Y\"]\n",
    "count_jun_arrest_6mo_19 = len(jun_arrest_6mo_19_df)\n",
    "print(count_jun_arrest_6mo_18, count_jun_arrest_6mo_19)"
   ]
  },
  {
   "cell_type": "code",
   "execution_count": 38,
   "metadata": {},
   "outputs": [],
   "source": [
    "arrests_6mo_2018_dict = {\n",
    "    'January' : count_jan_arrest_6mo_18,\n",
    "    'February' : count_feb_arrest_6mo_18,\n",
    "    'March' : count_mar_arrest_6mo_18,\n",
    "    'April' : count_apr_arrest_6mo_18,\n",
    "    'May' : count_may_arrest_6mo_18,\n",
    "    'June' : count_jun_arrest_6mo_18,\n",
    "}\n",
    "\n",
    "arrests_6mo_2019_dict = {\n",
    "    'January' : count_jan_arrest_6mo_19,\n",
    "    'February' : count_feb_arrest_6mo_19,\n",
    "    'March' : count_mar_arrest_6mo_19,\n",
    "    'April' : count_apr_arrest_6mo_19,\n",
    "    'May' : count_may_arrest_6mo_19,\n",
    "    'June' : count_jun_arrest_6mo_19,\n",
    "}"
   ]
  },
  {
   "cell_type": "code",
   "execution_count": 39,
   "metadata": {},
   "outputs": [
    {
     "data": {
      "text/html": [
       "<div>\n",
       "<style scoped>\n",
       "    .dataframe tbody tr th:only-of-type {\n",
       "        vertical-align: middle;\n",
       "    }\n",
       "\n",
       "    .dataframe tbody tr th {\n",
       "        vertical-align: top;\n",
       "    }\n",
       "\n",
       "    .dataframe thead th {\n",
       "        text-align: right;\n",
       "    }\n",
       "</style>\n",
       "<table border=\"1\" class=\"dataframe\">\n",
       "  <thead>\n",
       "    <tr style=\"text-align: right;\">\n",
       "      <th></th>\n",
       "      <th>Arrests First 6 Months of 2018</th>\n",
       "      <th>Arrests First 6 Months of 2019</th>\n",
       "    </tr>\n",
       "  </thead>\n",
       "  <tbody>\n",
       "    <tr>\n",
       "      <th>January</th>\n",
       "      <td>4193</td>\n",
       "      <td>4295</td>\n",
       "    </tr>\n",
       "    <tr>\n",
       "      <th>February</th>\n",
       "      <td>3868</td>\n",
       "      <td>3980</td>\n",
       "    </tr>\n",
       "    <tr>\n",
       "      <th>March</th>\n",
       "      <td>4585</td>\n",
       "      <td>4564</td>\n",
       "    </tr>\n",
       "    <tr>\n",
       "      <th>April</th>\n",
       "      <td>4250</td>\n",
       "      <td>4326</td>\n",
       "    </tr>\n",
       "    <tr>\n",
       "      <th>May</th>\n",
       "      <td>4949</td>\n",
       "      <td>4792</td>\n",
       "    </tr>\n",
       "    <tr>\n",
       "      <th>June</th>\n",
       "      <td>4562</td>\n",
       "      <td>3863</td>\n",
       "    </tr>\n",
       "  </tbody>\n",
       "</table>\n",
       "</div>"
      ],
      "text/plain": [
       "          Arrests First 6 Months of 2018  Arrests First 6 Months of 2019\n",
       "January                             4193                            4295\n",
       "February                            3868                            3980\n",
       "March                               4585                            4564\n",
       "April                               4250                            4326\n",
       "May                                 4949                            4792\n",
       "June                                4562                            3863"
      ]
     },
     "execution_count": 39,
     "metadata": {},
     "output_type": "execute_result"
    }
   ],
   "source": [
    "arrests_by_month_6mo_2018_df = pd.DataFrame(arrests_6mo_2018_dict, index=[0])\n",
    "arrests_by_month_6mo_2019_df = pd.DataFrame(arrests_6mo_2019_dict, index=[0])\n",
    "abm6mo18_df = arrests_by_month_6mo_2018_df.transpose()\n",
    "abm6mo_df = abm6mo18_df.rename(columns={0: \"Arrests First 6 Months of 2018\"})\n",
    "abm6mo_df[\"Arrests First 6 Months of 2019\"] = arrests_by_month_6mo_2019_df.transpose()\n",
    "abm6mo_df"
   ]
  },
  {
   "cell_type": "code",
   "execution_count": 40,
   "metadata": {},
   "outputs": [
    {
     "data": {
      "image/png": "[encoded data removed]",
      "text/plain": [
       "<Figure size 720x864 with 1 Axes>"
      ]
     },
     "metadata": {
      "needs_background": "light"
     },
     "output_type": "display_data"
    }
   ],
   "source": [
    "# Breakdown of arrests by month for first 6 months:\n",
    "\n",
    "ax = abm6mo_df.plot.bar(rot=90)\n",
    "# Incorporate the other graph properties\n",
    "plt.title(\"Breakdown Chicago Arrests - First 6 Months '18 vs. '19\")\n",
    "plt.ylabel(\"Number of Arrest Cases\")\n",
    "plt.xlabel(\"Month of Arrest\")\n",
    "plt.grid(alpha = 0.25)\n",
    "plt.xticks(rotation=90)\n",
    "plt.legend()\n",
    "fig = plt.gcf()\n",
    "fig.set_size_inches(10, 12)\n",
    "\n",
    "# Save the figure\n",
    "#plt.savefig(\"Images/Breakdown of Chicago Arrests in First Six Months 2018 vs 2019.png\")\n",
    "\n",
    "# Show plot\n",
    "plt.show()"
   ]
  },
  {
   "cell_type": "markdown",
   "metadata": {},
   "source": [
    "This graph indicates that for 3/6 months, arrest rates were higher this year than last year. Perhaps there is a connection between arrests and reduction of crime?"
   ]
  },
  {
   "cell_type": "markdown",
   "metadata": {},
   "source": [
    "ARSON ARREST ANALYSIS:"
   ]
  },
  {
   "cell_type": "code",
   "execution_count": 41,
   "metadata": {},
   "outputs": [],
   "source": [
    "# Creating Monthly DataFrames for specific Crime for 2018 and 2019:\n",
    "arson_jan_2018_df = jan_2018_df.loc[jan_2018_df[\"Primary Description\"] == \"ARSON\"]\n",
    "arson_jan_2018 = len(arson_jan_2018_df)\n",
    "arson_jan_2019_df = jan_2019_df.loc[jan_2019_df[\"Primary Description\"] == \"ARSON\"]\n",
    "arson_jan_2019 = len(arson_jan_2019_df)\n",
    "\n",
    "arson_feb_2018_df = feb_2018_df.loc[feb_2018_df[\"Primary Description\"] == \"ARSON\"]\n",
    "arson_feb_2018 = len(arson_feb_2018_df)\n",
    "arson_feb_2019_df = feb_2019_df.loc[feb_2019_df[\"Primary Description\"] == \"ARSON\"]\n",
    "arson_feb_2019 = len(arson_feb_2019_df)\n",
    "\n",
    "arson_mar_2018_df = mar_2018_df.loc[mar_2018_df[\"Primary Description\"] == \"ARSON\"]\n",
    "arson_mar_2018 = len(arson_mar_2018_df)\n",
    "arson_mar_2019_df = mar_2019_df.loc[mar_2019_df[\"Primary Description\"] == \"ARSON\"]\n",
    "arson_mar_2019 = len(arson_mar_2019_df)\n",
    "\n",
    "arson_apr_2018_df = apr_2018_df.loc[apr_2018_df[\"Primary Description\"] == \"ARSON\"]\n",
    "arson_apr_2018 = len(arson_apr_2018_df)\n",
    "arson_apr_2019_df = apr_2019_df.loc[apr_2019_df[\"Primary Description\"] == \"ARSON\"]\n",
    "arson_apr_2019 = len(arson_apr_2019_df)\n",
    "\n",
    "arson_may_2018_df = may_2018_df.loc[may_2018_df[\"Primary Description\"] == \"ARSON\"]\n",
    "arson_may_2018 = len(arson_may_2018_df)\n",
    "arson_may_2019_df = may_2019_df.loc[may_2019_df[\"Primary Description\"] == \"ARSON\"]\n",
    "arson_may_2019 = len(arson_may_2019_df)\n",
    "\n",
    "arson_jun_2018_df = jun_2018_df.loc[jun_2018_df[\"Primary Description\"] == \"ARSON\"]\n",
    "arson_jun_2018 = len(arson_jun_2018_df)\n",
    "arson_jun_2019_df = jun_2019_df.loc[jun_2019_df[\"Primary Description\"] == \"ARSON\"]\n",
    "arson_jun_2019 = len(arson_jun_2019_df)"
   ]
  },
  {
   "cell_type": "code",
   "execution_count": 42,
   "metadata": {},
   "outputs": [
    {
     "name": "stdout",
     "output_type": "stream",
     "text": [
      "4 0\n",
      "1 2\n",
      "3 2\n",
      "3 1\n",
      "3 1\n",
      "5 1\n"
     ]
    }
   ],
   "source": [
    "# Counting the number of arson arrests for January 2018 and 2019 as an example of what can be done graphically:\n",
    "jan_arson_arrest_count_18 = arson_jan_2018_df['Arrest'].value_counts()\n",
    "jan_arson_arrest_18_tuples = [tuple((x, y)) for x, y in jan_arson_arrest_count_18.items()]\n",
    "jan_arson_arrests_18_df = pd.DataFrame(jan_arson_arrest_18_tuples)\n",
    "jan_arson_arrests_18_df['2']=['N','Y']\n",
    "jan_arson_arrests_18_df = jan_arson_arrests_18_df.rename(columns={0: \"R\"})\n",
    "jan_arson_arrests_18_df = jan_arson_arrests_18_df.drop(columns=\"R\")\n",
    "\n",
    "jan_arson_arr_18_df = jan_arson_arrests_18_df.set_index([\"2\"])\n",
    "jan_arson_arr_18_df = jan_arson_arr_18_df.transpose()\n",
    "count_jan_arson_arrest_6mo_18 = round(jan_arson_arr_18_df[\"Y\"].mean())\n",
    "\n",
    "jan_arson_arrest_6mo_19_df = arson_jan_2019_df.loc[arson_jan_2019_df[\"Arrest\"] == \"Y\"]\n",
    "count_jan_arson_arrest_6mo_19 = len(jan_arson_arrest_6mo_19_df)\n",
    "print(count_jan_arson_arrest_6mo_18, count_jan_arson_arrest_6mo_19)\n",
    "\n",
    "# Counting the number of arson arrests for February 2018 and 2019:\n",
    "feb_arson_arrest_count_18 = arson_feb_2018_df['Arrest'].value_counts()\n",
    "feb_arson_arrest_18_tuples = [tuple((x, y)) for x, y in feb_arson_arrest_count_18.items()]\n",
    "feb_arson_arrests_18_df = pd.DataFrame(feb_arson_arrest_18_tuples)\n",
    "feb_arson_arrests_18_df['2']=['N','Y']\n",
    "feb_arson_arrests_18_df = feb_arson_arrests_18_df.rename(columns={0: \"R\"})\n",
    "feb_arson_arrests_18_df = feb_arson_arrests_18_df.drop(columns=\"R\")\n",
    "\n",
    "feb_arson_arr_18_df = feb_arson_arrests_18_df.set_index([\"2\"])\n",
    "feb_arson_arr_18_df = feb_arson_arr_18_df.transpose()\n",
    "count_feb_arson_arrest_6mo_18 = round(feb_arson_arr_18_df[\"Y\"].mean())\n",
    "\n",
    "feb_arson_arrest_6mo_19_df = arson_feb_2019_df.loc[arson_feb_2019_df[\"Arrest\"] == \"Y\"]\n",
    "count_feb_arson_arrest_6mo_19 = len(feb_arson_arrest_6mo_19_df)\n",
    "print(count_feb_arson_arrest_6mo_18, count_feb_arson_arrest_6mo_19)\n",
    "\n",
    "# Counting the number of arson arrests for March 2018 and 2019:\n",
    "mar_arson_arrest_count_18 = arson_mar_2018_df['Arrest'].value_counts()\n",
    "mar_arson_arrest_18_tuples = [tuple((x, y)) for x, y in mar_arson_arrest_count_18.items()]\n",
    "mar_arson_arrests_18_df = pd.DataFrame(mar_arson_arrest_18_tuples)\n",
    "mar_arson_arrests_18_df['2']=['N','Y']\n",
    "mar_arson_arrests_18_df = mar_arson_arrests_18_df.rename(columns={0: \"R\"})\n",
    "mar_arson_arrests_18_df = mar_arson_arrests_18_df.drop(columns=\"R\")\n",
    "\n",
    "mar_arson_arr_18_df = mar_arson_arrests_18_df.set_index([\"2\"])\n",
    "mar_arson_arr_18_df = mar_arson_arr_18_df.transpose()\n",
    "count_mar_arson_arrest_6mo_18 = round(mar_arson_arr_18_df[\"Y\"].mean())\n",
    "\n",
    "mar_arson_arrest_6mo_19_df = arson_mar_2019_df.loc[arson_mar_2019_df[\"Arrest\"] == \"Y\"]\n",
    "count_mar_arson_arrest_6mo_19 = len(mar_arson_arrest_6mo_19_df)\n",
    "print(count_mar_arson_arrest_6mo_18, count_mar_arson_arrest_6mo_19)\n",
    "\n",
    "# Counting the number of arson arrests for April 2018 and 2019:\n",
    "apr_arson_arrest_count_18 = arson_apr_2018_df['Arrest'].value_counts()\n",
    "apr_arson_arrest_18_tuples = [tuple((x, y)) for x, y in apr_arson_arrest_count_18.items()]\n",
    "apr_arson_arrests_18_df = pd.DataFrame(apr_arson_arrest_18_tuples)\n",
    "apr_arson_arrests_18_df['2']=['N','Y']\n",
    "apr_arson_arrests_18_df = apr_arson_arrests_18_df.rename(columns={0: \"R\"})\n",
    "apr_arson_arrests_18_df = apr_arson_arrests_18_df.drop(columns=\"R\")\n",
    "\n",
    "apr_arson_arr_18_df = apr_arson_arrests_18_df.set_index([\"2\"])\n",
    "apr_arson_arr_18_df = apr_arson_arr_18_df.transpose()\n",
    "count_apr_arson_arrest_6mo_18 = round(apr_arson_arr_18_df[\"Y\"].mean())\n",
    "\n",
    "apr_arson_arrest_6mo_19_df = arson_apr_2019_df.loc[arson_apr_2019_df[\"Arrest\"] == \"Y\"]\n",
    "count_apr_arson_arrest_6mo_19 = len(apr_arson_arrest_6mo_19_df)\n",
    "print(count_apr_arson_arrest_6mo_18, count_apr_arson_arrest_6mo_19)\n",
    "\n",
    "# Counting the number of arson arrests for May 2018 and 2019:\n",
    "may_arson_arrest_count_18 = arson_may_2018_df['Arrest'].value_counts()\n",
    "may_arson_arrest_18_tuples = [tuple((x, y)) for x, y in may_arson_arrest_count_18.items()]\n",
    "may_arson_arrests_18_df = pd.DataFrame(may_arson_arrest_18_tuples)\n",
    "may_arson_arrests_18_df['2']=['N','Y']\n",
    "may_arson_arrests_18_df = may_arson_arrests_18_df.rename(columns={0: \"R\"})\n",
    "may_arson_arrests_18_df = may_arson_arrests_18_df.drop(columns=\"R\")\n",
    "\n",
    "may_arson_arr_18_df = may_arson_arrests_18_df.set_index([\"2\"])\n",
    "may_arson_arr_18_df = may_arson_arr_18_df.transpose()\n",
    "count_may_arson_arrest_6mo_18 = round(may_arson_arr_18_df[\"Y\"].mean())\n",
    "\n",
    "may_arson_arrest_6mo_19_df = arson_may_2019_df.loc[arson_may_2019_df[\"Arrest\"] == \"Y\"]\n",
    "count_may_arson_arrest_6mo_19 = len(may_arson_arrest_6mo_19_df)\n",
    "print(count_may_arson_arrest_6mo_18, count_may_arson_arrest_6mo_19)\n",
    "\n",
    "# Counting the number of arson arrests for June 2018 and 2019:\n",
    "jun_arson_arrest_count_18 = arson_jun_2018_df['Arrest'].value_counts()\n",
    "jun_arson_arrest_18_tuples = [tuple((x, y)) for x, y in jun_arson_arrest_count_18.items()]\n",
    "jun_arson_arrests_18_df = pd.DataFrame(jun_arson_arrest_18_tuples)\n",
    "jun_arson_arrests_18_df['2']=['N','Y']\n",
    "jun_arson_arrests_18_df = jun_arson_arrests_18_df.rename(columns={0: \"R\"})\n",
    "jun_arson_arrests_18_df = jun_arson_arrests_18_df.drop(columns=\"R\")\n",
    "\n",
    "jun_arson_arr_18_df = jun_arson_arrests_18_df.set_index([\"2\"])\n",
    "jun_arson_arr_18_df = jun_arson_arr_18_df.transpose()\n",
    "count_jun_arson_arrest_6mo_18 = round(jun_arson_arr_18_df[\"Y\"].mean())\n",
    "\n",
    "jun_arson_arrest_6mo_19_df = arson_jun_2019_df.loc[arson_jun_2019_df[\"Arrest\"] == \"Y\"]\n",
    "count_jun_arson_arrest_6mo_19 = len(jun_arson_arrest_6mo_19_df)\n",
    "print(count_jun_arson_arrest_6mo_18, count_jun_arson_arrest_6mo_19)\n"
   ]
  },
  {
   "cell_type": "code",
   "execution_count": 43,
   "metadata": {},
   "outputs": [],
   "source": [
    "# Creating 6mo dicts for 2018 and 2019:\n",
    "arson_arrests_6mo_2018_dict = {\n",
    "    'January' : count_jan_arson_arrest_6mo_18,\n",
    "    'February' : count_feb_arson_arrest_6mo_18,\n",
    "    'March' : count_mar_arson_arrest_6mo_18,\n",
    "    'April' : count_apr_arson_arrest_6mo_18,\n",
    "    'May' : count_may_arson_arrest_6mo_18,\n",
    "    'June' : count_jun_arson_arrest_6mo_18,\n",
    "}\n",
    "\n",
    "arson_arrests_6mo_2019_dict = {\n",
    "    'January' : count_jan_arson_arrest_6mo_19,\n",
    "    'February' : count_feb_arson_arrest_6mo_19,\n",
    "    'March' : count_mar_arson_arrest_6mo_19,\n",
    "    'April' : count_apr_arson_arrest_6mo_19,\n",
    "    'May' : count_may_arson_arrest_6mo_19,\n",
    "    'June' : count_jun_arson_arrest_6mo_19,\n",
    "}"
   ]
  },
  {
   "cell_type": "code",
   "execution_count": 44,
   "metadata": {},
   "outputs": [
    {
     "data": {
      "text/html": [
       "<div>\n",
       "<style scoped>\n",
       "    .dataframe tbody tr th:only-of-type {\n",
       "        vertical-align: middle;\n",
       "    }\n",
       "\n",
       "    .dataframe tbody tr th {\n",
       "        vertical-align: top;\n",
       "    }\n",
       "\n",
       "    .dataframe thead th {\n",
       "        text-align: right;\n",
       "    }\n",
       "</style>\n",
       "<table border=\"1\" class=\"dataframe\">\n",
       "  <thead>\n",
       "    <tr style=\"text-align: right;\">\n",
       "      <th></th>\n",
       "      <th>Arson Arrests First 6 Months of 2018</th>\n",
       "      <th>Arson Arrests First 6 Months of 2019</th>\n",
       "    </tr>\n",
       "  </thead>\n",
       "  <tbody>\n",
       "    <tr>\n",
       "      <th>January</th>\n",
       "      <td>4</td>\n",
       "      <td>0</td>\n",
       "    </tr>\n",
       "    <tr>\n",
       "      <th>February</th>\n",
       "      <td>1</td>\n",
       "      <td>2</td>\n",
       "    </tr>\n",
       "    <tr>\n",
       "      <th>March</th>\n",
       "      <td>3</td>\n",
       "      <td>2</td>\n",
       "    </tr>\n",
       "    <tr>\n",
       "      <th>April</th>\n",
       "      <td>3</td>\n",
       "      <td>1</td>\n",
       "    </tr>\n",
       "    <tr>\n",
       "      <th>May</th>\n",
       "      <td>3</td>\n",
       "      <td>1</td>\n",
       "    </tr>\n",
       "    <tr>\n",
       "      <th>June</th>\n",
       "      <td>5</td>\n",
       "      <td>1</td>\n",
       "    </tr>\n",
       "  </tbody>\n",
       "</table>\n",
       "</div>"
      ],
      "text/plain": [
       "          Arson Arrests First 6 Months of 2018  \\\n",
       "January                                      4   \n",
       "February                                     1   \n",
       "March                                        3   \n",
       "April                                        3   \n",
       "May                                          3   \n",
       "June                                         5   \n",
       "\n",
       "          Arson Arrests First 6 Months of 2019  \n",
       "January                                      0  \n",
       "February                                     2  \n",
       "March                                        2  \n",
       "April                                        1  \n",
       "May                                          1  \n",
       "June                                         1  "
      ]
     },
     "execution_count": 44,
     "metadata": {},
     "output_type": "execute_result"
    }
   ],
   "source": [
    "# Creating a single dataframe for graphing:\n",
    "arson_arrests_by_month_6mo_2018_df = pd.DataFrame(arson_arrests_6mo_2018_dict, index=[0])\n",
    "arson_arrests_by_month_6mo_2019_df = pd.DataFrame(arson_arrests_6mo_2019_dict, index=[0])\n",
    "arson_abm6mo18_df = arson_arrests_by_month_6mo_2018_df.transpose()\n",
    "arson_abm6mo_df = arson_abm6mo18_df.rename(columns={0: \"Arson Arrests First 6 Months of 2018\"})\n",
    "arson_abm6mo_df[\"Arson Arrests First 6 Months of 2019\"] = arson_arrests_by_month_6mo_2019_df.transpose()\n",
    "arson_abm6mo_df"
   ]
  },
  {
   "cell_type": "code",
   "execution_count": 45,
   "metadata": {},
   "outputs": [
    {
     "data": {
      "image/png": "[encoded data removed]",
      "text/plain": [
       "<Figure size 720x864 with 1 Axes>"
      ]
     },
     "metadata": {
      "needs_background": "light"
     },
     "output_type": "display_data"
    }
   ],
   "source": [
    "# AS AN EXAMPLE:\n",
    "# Breakdown of arson arrests by month for first 6 months:\n",
    "\n",
    "ax = arson_abm6mo_df.plot.bar(rot=90)\n",
    "# Incorporate the other graph properties\n",
    "plt.title(\"Breakdown Chicago Arson Arrests - First 6 Months '18 vs. '19\")\n",
    "plt.ylabel(\"Number of Arson Arrest Cases\")\n",
    "plt.xlabel(\"Month of Arrest\")\n",
    "plt.grid(alpha = 0.25)\n",
    "plt.xticks(rotation=90)\n",
    "plt.legend()\n",
    "fig = plt.gcf()\n",
    "fig.set_size_inches(10, 12)\n",
    "\n",
    "# Save the figure\n",
    "#plt.savefig(\"Images/Breakdown of Chicago Arson Arrests in First Six Months 2018 vs 2019.png\")\n",
    "\n",
    "# Show plot\n",
    "plt.show()"
   ]
  },
  {
   "cell_type": "markdown",
   "metadata": {},
   "source": [
    "This graph indicates that although there were over 20 arson crimes committed in January 2019, no arrests were made. Also, in February, there were almost 30 arson crimes and only two arrests. Overall it seems that more arrests were made in 2018 than 2019 for arson but by May and June, the arson crime rate looks like it's going down well below 2018 levels. This would suggest that arrests may not so clearly impact the arson crime rates. What about the major crime categories? Do they support the hypothesis that arrests reduce crime over time?"
   ]
  },
  {
   "cell_type": "markdown",
   "metadata": {},
   "source": [
    "THEFT ARREST ANALYSIS:"
   ]
  },
  {
   "cell_type": "code",
   "execution_count": 46,
   "metadata": {},
   "outputs": [
    {
     "name": "stdout",
     "output_type": "stream",
     "text": [
      "501 509\n",
      "478 471\n",
      "529 449\n",
      "528 462\n",
      "540 530\n",
      "545 389\n"
     ]
    },
    {
     "data": {
      "image/png": "[encoded data removed]",
      "text/plain": [
       "<Figure size 720x864 with 1 Axes>"
      ]
     },
     "metadata": {
      "needs_background": "light"
     },
     "output_type": "display_data"
    }
   ],
   "source": [
    "# Creating Monthly DataFrames for specific Crime for 2018 and 2019:\n",
    "theft_jan_2018_df = jan_2018_df.loc[jan_2018_df[\"Primary Description\"] == \"THEFT\"]\n",
    "theft_jan_2018 = len(theft_jan_2018_df)\n",
    "theft_jan_2019_df = jan_2019_df.loc[jan_2019_df[\"Primary Description\"] == \"THEFT\"]\n",
    "theft_jan_2019 = len(theft_jan_2019_df)\n",
    "\n",
    "theft_feb_2018_df = feb_2018_df.loc[feb_2018_df[\"Primary Description\"] == \"THEFT\"]\n",
    "theft_feb_2018 = len(theft_feb_2018_df)\n",
    "theft_feb_2019_df = feb_2019_df.loc[feb_2019_df[\"Primary Description\"] == \"THEFT\"]\n",
    "theft_feb_2019 = len(theft_feb_2019_df)\n",
    "\n",
    "theft_mar_2018_df = mar_2018_df.loc[mar_2018_df[\"Primary Description\"] == \"THEFT\"]\n",
    "theft_mar_2018 = len(theft_mar_2018_df)\n",
    "theft_mar_2019_df = mar_2019_df.loc[mar_2019_df[\"Primary Description\"] == \"THEFT\"]\n",
    "theft_mar_2019 = len(theft_mar_2019_df)\n",
    "\n",
    "theft_apr_2018_df = apr_2018_df.loc[apr_2018_df[\"Primary Description\"] == \"THEFT\"]\n",
    "theft_apr_2018 = len(theft_apr_2018_df)\n",
    "theft_apr_2019_df = apr_2019_df.loc[apr_2019_df[\"Primary Description\"] == \"THEFT\"]\n",
    "theft_apr_2019 = len(theft_apr_2019_df)\n",
    "\n",
    "theft_may_2018_df = may_2018_df.loc[may_2018_df[\"Primary Description\"] == \"THEFT\"]\n",
    "theft_may_2018 = len(theft_may_2018_df)\n",
    "theft_may_2019_df = may_2019_df.loc[may_2019_df[\"Primary Description\"] == \"THEFT\"]\n",
    "theft_may_2019 = len(theft_may_2019_df)\n",
    "\n",
    "theft_jun_2018_df = jun_2018_df.loc[jun_2018_df[\"Primary Description\"] == \"THEFT\"]\n",
    "theft_jun_2018 = len(theft_jun_2018_df)\n",
    "theft_jun_2019_df = jun_2019_df.loc[jun_2019_df[\"Primary Description\"] == \"THEFT\"]\n",
    "theft_jun_2019 = len(theft_jun_2019_df)\n",
    "\n",
    "\n",
    "# Counting the number of theft arrests for January 2018 and 2019 as an example of what can be done graphically:\n",
    "jan_theft_arrest_count_18 = theft_jan_2018_df['Arrest'].value_counts()\n",
    "jan_theft_arrest_18_tuples = [tuple((x, y)) for x, y in jan_theft_arrest_count_18.items()]\n",
    "jan_theft_arrests_18_df = pd.DataFrame(jan_theft_arrest_18_tuples)\n",
    "jan_theft_arrests_18_df['2']=['N','Y']\n",
    "jan_theft_arrests_18_df = jan_theft_arrests_18_df.rename(columns={0: \"R\"})\n",
    "jan_theft_arrests_18_df = jan_theft_arrests_18_df.drop(columns=\"R\")\n",
    "\n",
    "jan_theft_arr_18_df = jan_theft_arrests_18_df.set_index([\"2\"])\n",
    "jan_theft_arr_18_df = jan_theft_arr_18_df.transpose()\n",
    "count_jan_theft_arrest_6mo_18 = round(jan_theft_arr_18_df[\"Y\"].mean())\n",
    "\n",
    "jan_theft_arrest_6mo_19_df = theft_jan_2019_df.loc[theft_jan_2019_df[\"Arrest\"] == \"Y\"]\n",
    "count_jan_theft_arrest_6mo_19 = len(jan_theft_arrest_6mo_19_df)\n",
    "print(count_jan_theft_arrest_6mo_18, count_jan_theft_arrest_6mo_19)\n",
    "\n",
    "# Counting the number of theft arrests for February 2018 and 2019:\n",
    "feb_theft_arrest_count_18 = theft_feb_2018_df['Arrest'].value_counts()\n",
    "feb_theft_arrest_18_tuples = [tuple((x, y)) for x, y in feb_theft_arrest_count_18.items()]\n",
    "feb_theft_arrests_18_df = pd.DataFrame(feb_theft_arrest_18_tuples)\n",
    "feb_theft_arrests_18_df['2']=['N','Y']\n",
    "feb_theft_arrests_18_df = feb_theft_arrests_18_df.rename(columns={0: \"R\"})\n",
    "feb_theft_arrests_18_df = feb_theft_arrests_18_df.drop(columns=\"R\")\n",
    "\n",
    "feb_theft_arr_18_df = feb_theft_arrests_18_df.set_index([\"2\"])\n",
    "feb_theft_arr_18_df = feb_theft_arr_18_df.transpose()\n",
    "count_feb_theft_arrest_6mo_18 = round(feb_theft_arr_18_df[\"Y\"].mean())\n",
    "\n",
    "feb_theft_arrest_6mo_19_df = theft_feb_2019_df.loc[theft_feb_2019_df[\"Arrest\"] == \"Y\"]\n",
    "count_feb_theft_arrest_6mo_19 = len(feb_theft_arrest_6mo_19_df)\n",
    "print(count_feb_theft_arrest_6mo_18, count_feb_theft_arrest_6mo_19)\n",
    "\n",
    "# Counting the number of theft arrests for March 2018 and 2019:\n",
    "mar_theft_arrest_count_18 = theft_mar_2018_df['Arrest'].value_counts()\n",
    "mar_theft_arrest_18_tuples = [tuple((x, y)) for x, y in mar_theft_arrest_count_18.items()]\n",
    "mar_theft_arrests_18_df = pd.DataFrame(mar_theft_arrest_18_tuples)\n",
    "mar_theft_arrests_18_df['2']=['N','Y']\n",
    "mar_theft_arrests_18_df = mar_theft_arrests_18_df.rename(columns={0: \"R\"})\n",
    "mar_theft_arrests_18_df = mar_theft_arrests_18_df.drop(columns=\"R\")\n",
    "\n",
    "mar_theft_arr_18_df = mar_theft_arrests_18_df.set_index([\"2\"])\n",
    "mar_theft_arr_18_df = mar_theft_arr_18_df.transpose()\n",
    "count_mar_theft_arrest_6mo_18 = round(mar_theft_arr_18_df[\"Y\"].mean())\n",
    "\n",
    "mar_theft_arrest_6mo_19_df = theft_mar_2019_df.loc[theft_mar_2019_df[\"Arrest\"] == \"Y\"]\n",
    "count_mar_theft_arrest_6mo_19 = len(mar_theft_arrest_6mo_19_df)\n",
    "print(count_mar_theft_arrest_6mo_18, count_mar_theft_arrest_6mo_19)\n",
    "\n",
    "# Counting the number of theft arrests for April 2018 and 2019:\n",
    "apr_theft_arrest_count_18 = theft_apr_2018_df['Arrest'].value_counts()\n",
    "apr_theft_arrest_18_tuples = [tuple((x, y)) for x, y in apr_theft_arrest_count_18.items()]\n",
    "apr_theft_arrests_18_df = pd.DataFrame(apr_theft_arrest_18_tuples)\n",
    "apr_theft_arrests_18_df['2']=['N','Y']\n",
    "apr_theft_arrests_18_df = apr_theft_arrests_18_df.rename(columns={0: \"R\"})\n",
    "apr_theft_arrests_18_df = apr_theft_arrests_18_df.drop(columns=\"R\")\n",
    "\n",
    "apr_theft_arr_18_df = apr_theft_arrests_18_df.set_index([\"2\"])\n",
    "apr_theft_arr_18_df = apr_theft_arr_18_df.transpose()\n",
    "count_apr_theft_arrest_6mo_18 = round(apr_theft_arr_18_df[\"Y\"].mean())\n",
    "\n",
    "apr_theft_arrest_6mo_19_df = theft_apr_2019_df.loc[theft_apr_2019_df[\"Arrest\"] == \"Y\"]\n",
    "count_apr_theft_arrest_6mo_19 = len(apr_theft_arrest_6mo_19_df)\n",
    "print(count_apr_theft_arrest_6mo_18, count_apr_theft_arrest_6mo_19)\n",
    "\n",
    "# Counting the number of theft arrests for May 2018 and 2019:\n",
    "may_theft_arrest_count_18 = theft_may_2018_df['Arrest'].value_counts()\n",
    "may_theft_arrest_18_tuples = [tuple((x, y)) for x, y in may_theft_arrest_count_18.items()]\n",
    "may_theft_arrests_18_df = pd.DataFrame(may_theft_arrest_18_tuples)\n",
    "may_theft_arrests_18_df['2']=['N','Y']\n",
    "may_theft_arrests_18_df = may_theft_arrests_18_df.rename(columns={0: \"R\"})\n",
    "may_theft_arrests_18_df = may_theft_arrests_18_df.drop(columns=\"R\")\n",
    "\n",
    "may_theft_arr_18_df = may_theft_arrests_18_df.set_index([\"2\"])\n",
    "may_theft_arr_18_df = may_theft_arr_18_df.transpose()\n",
    "count_may_theft_arrest_6mo_18 = round(may_theft_arr_18_df[\"Y\"].mean())\n",
    "\n",
    "may_theft_arrest_6mo_19_df = theft_may_2019_df.loc[theft_may_2019_df[\"Arrest\"] == \"Y\"]\n",
    "count_may_theft_arrest_6mo_19 = len(may_theft_arrest_6mo_19_df)\n",
    "print(count_may_theft_arrest_6mo_18, count_may_theft_arrest_6mo_19)\n",
    "\n",
    "# Counting the number of theft arrests for June 2018 and 2019:\n",
    "jun_theft_arrest_count_18 = theft_jun_2018_df['Arrest'].value_counts()\n",
    "jun_theft_arrest_18_tuples = [tuple((x, y)) for x, y in jun_theft_arrest_count_18.items()]\n",
    "jun_theft_arrests_18_df = pd.DataFrame(jun_theft_arrest_18_tuples)\n",
    "jun_theft_arrests_18_df['2']=['N','Y']\n",
    "jun_theft_arrests_18_df = jun_theft_arrests_18_df.rename(columns={0: \"R\"})\n",
    "jun_theft_arrests_18_df = jun_theft_arrests_18_df.drop(columns=\"R\")\n",
    "\n",
    "jun_theft_arr_18_df = jun_theft_arrests_18_df.set_index([\"2\"])\n",
    "jun_theft_arr_18_df = jun_theft_arr_18_df.transpose()\n",
    "count_jun_theft_arrest_6mo_18 = round(jun_theft_arr_18_df[\"Y\"].mean())\n",
    "\n",
    "jun_theft_arrest_6mo_19_df = theft_jun_2019_df.loc[theft_jun_2019_df[\"Arrest\"] == \"Y\"]\n",
    "count_jun_theft_arrest_6mo_19 = len(jun_theft_arrest_6mo_19_df)\n",
    "print(count_jun_theft_arrest_6mo_18, count_jun_theft_arrest_6mo_19)\n",
    "\n",
    "\n",
    "# Creating 6mo dicts for 2018 and 2019:\n",
    "theft_arrests_6mo_2018_dict = {\n",
    "    'January' : count_jan_theft_arrest_6mo_18,\n",
    "    'February' : count_feb_theft_arrest_6mo_18,\n",
    "    'March' : count_mar_theft_arrest_6mo_18,\n",
    "    'April' : count_apr_theft_arrest_6mo_18,\n",
    "    'May' : count_may_theft_arrest_6mo_18,\n",
    "    'June' : count_jun_theft_arrest_6mo_18,\n",
    "}\n",
    "\n",
    "theft_arrests_6mo_2019_dict = {\n",
    "    'January' : count_jan_theft_arrest_6mo_19,\n",
    "    'February' : count_feb_theft_arrest_6mo_19,\n",
    "    'March' : count_mar_theft_arrest_6mo_19,\n",
    "    'April' : count_apr_theft_arrest_6mo_19,\n",
    "    'May' : count_may_theft_arrest_6mo_19,\n",
    "    'June' : count_jun_theft_arrest_6mo_19,\n",
    "}\n",
    "\n",
    "# Creating a single dataframe for graphing:\n",
    "theft_arrests_by_month_6mo_2018_df = pd.DataFrame(theft_arrests_6mo_2018_dict, index=[0])\n",
    "theft_arrests_by_month_6mo_2019_df = pd.DataFrame(theft_arrests_6mo_2019_dict, index=[0])\n",
    "theft_abm6mo18_df = theft_arrests_by_month_6mo_2018_df.transpose()\n",
    "theft_abm6mo_df = theft_abm6mo18_df.rename(columns={0: \"Theft Arrests First 6 Months of 2018\"})\n",
    "theft_abm6mo_df[\"Theft Arrests First 6 Months of 2019\"] = theft_arrests_by_month_6mo_2019_df.transpose()\n",
    "theft_abm6mo_df\n",
    "\n",
    "# AS AN EXAMPLE:\n",
    "# Breakdown of theft arrests by month for first 6 months:\n",
    "\n",
    "ax = theft_abm6mo_df.plot.bar(rot=90)\n",
    "# Incorporate the other graph properties\n",
    "plt.title(\"Breakdown Chicago Theft Arrests - First 6 Months '18 vs. '19\")\n",
    "plt.ylabel(\"Number of Theft Arrest Cases\")\n",
    "plt.xlabel(\"Month of Arrest\")\n",
    "plt.grid(alpha = 0.25)\n",
    "plt.xticks(rotation=90)\n",
    "plt.legend()\n",
    "fig = plt.gcf()\n",
    "fig.set_size_inches(10, 12)\n",
    "\n",
    "# Save the figure\n",
    "#plt.savefig(\"Images/Breakdown of Chicago Theft Arrests in First Six Months 2018 vs 2019.png\")\n",
    "\n",
    "# Show plot\n",
    "plt.show()\n"
   ]
  },
  {
   "cell_type": "markdown",
   "metadata": {},
   "source": [
    "There doesn't seem to be a clear trend in the theft crime and arrests for 2018 vs 2019 accept that overall, fewer theft crimes were committed in the first 6 months of 2019 than 2018."
   ]
  },
  {
   "cell_type": "markdown",
   "metadata": {},
   "source": [
    "BATTERY ARREST ANALYSIS:"
   ]
  },
  {
   "cell_type": "code",
   "execution_count": 47,
   "metadata": {},
   "outputs": [
    {
     "name": "stdout",
     "output_type": "stream",
     "text": [
      "771 770\n",
      "766 709\n",
      "840 887\n",
      "748 826\n",
      "1036 941\n",
      "896 749\n"
     ]
    },
    {
     "data": {
      "image/png": "[encoded data removed]",
      "text/plain": [
       "<Figure size 720x864 with 1 Axes>"
      ]
     },
     "metadata": {
      "needs_background": "light"
     },
     "output_type": "display_data"
    }
   ],
   "source": [
    "# Creating Monthly DataFrames for specific Crime for 2018 and 2019:\n",
    "battery_jan_2018_df = jan_2018_df.loc[jan_2018_df[\"Primary Description\"] == \"BATTERY\"]\n",
    "battery_jan_2018 = len(battery_jan_2018_df)\n",
    "battery_jan_2019_df = jan_2019_df.loc[jan_2019_df[\"Primary Description\"] == \"BATTERY\"]\n",
    "battery_jan_2019 = len(battery_jan_2019_df)\n",
    "\n",
    "battery_feb_2018_df = feb_2018_df.loc[feb_2018_df[\"Primary Description\"] == \"BATTERY\"]\n",
    "battery_feb_2018 = len(battery_feb_2018_df)\n",
    "battery_feb_2019_df = feb_2019_df.loc[feb_2019_df[\"Primary Description\"] == \"BATTERY\"]\n",
    "battery_feb_2019 = len(battery_feb_2019_df)\n",
    "\n",
    "battery_mar_2018_df = mar_2018_df.loc[mar_2018_df[\"Primary Description\"] == \"BATTERY\"]\n",
    "battery_mar_2018 = len(battery_mar_2018_df)\n",
    "battery_mar_2019_df = mar_2019_df.loc[mar_2019_df[\"Primary Description\"] == \"BATTERY\"]\n",
    "battery_mar_2019 = len(battery_mar_2019_df)\n",
    "\n",
    "battery_apr_2018_df = apr_2018_df.loc[apr_2018_df[\"Primary Description\"] == \"BATTERY\"]\n",
    "battery_apr_2018 = len(battery_apr_2018_df)\n",
    "battery_apr_2019_df = apr_2019_df.loc[apr_2019_df[\"Primary Description\"] == \"BATTERY\"]\n",
    "battery_apr_2019 = len(battery_apr_2019_df)\n",
    "\n",
    "battery_may_2018_df = may_2018_df.loc[may_2018_df[\"Primary Description\"] == \"BATTERY\"]\n",
    "battery_may_2018 = len(battery_may_2018_df)\n",
    "battery_may_2019_df = may_2019_df.loc[may_2019_df[\"Primary Description\"] == \"BATTERY\"]\n",
    "battery_may_2019 = len(battery_may_2019_df)\n",
    "\n",
    "battery_jun_2018_df = jun_2018_df.loc[jun_2018_df[\"Primary Description\"] == \"BATTERY\"]\n",
    "battery_jun_2018 = len(battery_jun_2018_df)\n",
    "battery_jun_2019_df = jun_2019_df.loc[jun_2019_df[\"Primary Description\"] == \"BATTERY\"]\n",
    "battery_jun_2019 = len(battery_jun_2019_df)\n",
    "\n",
    "\n",
    "# Counting the number of battery arrests for January 2018 and 2019 as an example of what can be done graphically:\n",
    "jan_battery_arrest_count_18 = battery_jan_2018_df['Arrest'].value_counts()\n",
    "jan_battery_arrest_18_tuples = [tuple((x, y)) for x, y in jan_battery_arrest_count_18.items()]\n",
    "jan_battery_arrests_18_df = pd.DataFrame(jan_battery_arrest_18_tuples)\n",
    "jan_battery_arrests_18_df['2']=['N','Y']\n",
    "jan_battery_arrests_18_df = jan_battery_arrests_18_df.rename(columns={0: \"R\"})\n",
    "jan_battery_arrests_18_df = jan_battery_arrests_18_df.drop(columns=\"R\")\n",
    "\n",
    "jan_battery_arr_18_df = jan_battery_arrests_18_df.set_index([\"2\"])\n",
    "jan_battery_arr_18_df = jan_battery_arr_18_df.transpose()\n",
    "count_jan_battery_arrest_6mo_18 = round(jan_battery_arr_18_df[\"Y\"].mean())\n",
    "\n",
    "jan_battery_arrest_6mo_19_df = battery_jan_2019_df.loc[battery_jan_2019_df[\"Arrest\"] == \"Y\"]\n",
    "count_jan_battery_arrest_6mo_19 = len(jan_battery_arrest_6mo_19_df)\n",
    "print(count_jan_battery_arrest_6mo_18, count_jan_battery_arrest_6mo_19)\n",
    "\n",
    "# Counting the number of battery arrests for February 2018 and 2019:\n",
    "feb_battery_arrest_count_18 = battery_feb_2018_df['Arrest'].value_counts()\n",
    "feb_battery_arrest_18_tuples = [tuple((x, y)) for x, y in feb_battery_arrest_count_18.items()]\n",
    "feb_battery_arrests_18_df = pd.DataFrame(feb_battery_arrest_18_tuples)\n",
    "feb_battery_arrests_18_df['2']=['N','Y']\n",
    "feb_battery_arrests_18_df = feb_battery_arrests_18_df.rename(columns={0: \"R\"})\n",
    "feb_battery_arrests_18_df = feb_battery_arrests_18_df.drop(columns=\"R\")\n",
    "\n",
    "feb_battery_arr_18_df = feb_battery_arrests_18_df.set_index([\"2\"])\n",
    "feb_battery_arr_18_df = feb_battery_arr_18_df.transpose()\n",
    "count_feb_battery_arrest_6mo_18 = round(feb_battery_arr_18_df[\"Y\"].mean())\n",
    "\n",
    "feb_battery_arrest_6mo_19_df = battery_feb_2019_df.loc[battery_feb_2019_df[\"Arrest\"] == \"Y\"]\n",
    "count_feb_battery_arrest_6mo_19 = len(feb_battery_arrest_6mo_19_df)\n",
    "print(count_feb_battery_arrest_6mo_18, count_feb_battery_arrest_6mo_19)\n",
    "\n",
    "# Counting the number of battery arrests for March 2018 and 2019:\n",
    "mar_battery_arrest_count_18 = battery_mar_2018_df['Arrest'].value_counts()\n",
    "mar_battery_arrest_18_tuples = [tuple((x, y)) for x, y in mar_battery_arrest_count_18.items()]\n",
    "mar_battery_arrests_18_df = pd.DataFrame(mar_battery_arrest_18_tuples)\n",
    "mar_battery_arrests_18_df['2']=['N','Y']\n",
    "mar_battery_arrests_18_df = mar_battery_arrests_18_df.rename(columns={0: \"R\"})\n",
    "mar_battery_arrests_18_df = mar_battery_arrests_18_df.drop(columns=\"R\")\n",
    "\n",
    "mar_battery_arr_18_df = mar_battery_arrests_18_df.set_index([\"2\"])\n",
    "mar_battery_arr_18_df = mar_battery_arr_18_df.transpose()\n",
    "count_mar_battery_arrest_6mo_18 = round(mar_battery_arr_18_df[\"Y\"].mean())\n",
    "\n",
    "mar_battery_arrest_6mo_19_df = battery_mar_2019_df.loc[battery_mar_2019_df[\"Arrest\"] == \"Y\"]\n",
    "count_mar_battery_arrest_6mo_19 = len(mar_battery_arrest_6mo_19_df)\n",
    "print(count_mar_battery_arrest_6mo_18, count_mar_battery_arrest_6mo_19)\n",
    "\n",
    "# Counting the number of battery arrests for April 2018 and 2019:\n",
    "apr_battery_arrest_count_18 = battery_apr_2018_df['Arrest'].value_counts()\n",
    "apr_battery_arrest_18_tuples = [tuple((x, y)) for x, y in apr_battery_arrest_count_18.items()]\n",
    "apr_battery_arrests_18_df = pd.DataFrame(apr_battery_arrest_18_tuples)\n",
    "apr_battery_arrests_18_df['2']=['N','Y']\n",
    "apr_battery_arrests_18_df = apr_battery_arrests_18_df.rename(columns={0: \"R\"})\n",
    "apr_battery_arrests_18_df = apr_battery_arrests_18_df.drop(columns=\"R\")\n",
    "\n",
    "apr_battery_arr_18_df = apr_battery_arrests_18_df.set_index([\"2\"])\n",
    "apr_battery_arr_18_df = apr_battery_arr_18_df.transpose()\n",
    "count_apr_battery_arrest_6mo_18 = round(apr_battery_arr_18_df[\"Y\"].mean())\n",
    "\n",
    "apr_battery_arrest_6mo_19_df = battery_apr_2019_df.loc[battery_apr_2019_df[\"Arrest\"] == \"Y\"]\n",
    "count_apr_battery_arrest_6mo_19 = len(apr_battery_arrest_6mo_19_df)\n",
    "print(count_apr_battery_arrest_6mo_18, count_apr_battery_arrest_6mo_19)\n",
    "\n",
    "# Counting the number of battery arrests for May 2018 and 2019:\n",
    "may_battery_arrest_count_18 = battery_may_2018_df['Arrest'].value_counts()\n",
    "may_battery_arrest_18_tuples = [tuple((x, y)) for x, y in may_battery_arrest_count_18.items()]\n",
    "may_battery_arrests_18_df = pd.DataFrame(may_battery_arrest_18_tuples)\n",
    "may_battery_arrests_18_df['2']=['N','Y']\n",
    "may_battery_arrests_18_df = may_battery_arrests_18_df.rename(columns={0: \"R\"})\n",
    "may_battery_arrests_18_df = may_battery_arrests_18_df.drop(columns=\"R\")\n",
    "\n",
    "may_battery_arr_18_df = may_battery_arrests_18_df.set_index([\"2\"])\n",
    "may_battery_arr_18_df = may_battery_arr_18_df.transpose()\n",
    "count_may_battery_arrest_6mo_18 = round(may_battery_arr_18_df[\"Y\"].mean())\n",
    "\n",
    "may_battery_arrest_6mo_19_df = battery_may_2019_df.loc[battery_may_2019_df[\"Arrest\"] == \"Y\"]\n",
    "count_may_battery_arrest_6mo_19 = len(may_battery_arrest_6mo_19_df)\n",
    "print(count_may_battery_arrest_6mo_18, count_may_battery_arrest_6mo_19)\n",
    "\n",
    "# Counting the number of battery arrests for June 2018 and 2019:\n",
    "jun_battery_arrest_count_18 = battery_jun_2018_df['Arrest'].value_counts()\n",
    "jun_battery_arrest_18_tuples = [tuple((x, y)) for x, y in jun_battery_arrest_count_18.items()]\n",
    "jun_battery_arrests_18_df = pd.DataFrame(jun_battery_arrest_18_tuples)\n",
    "jun_battery_arrests_18_df['2']=['N','Y']\n",
    "jun_battery_arrests_18_df = jun_battery_arrests_18_df.rename(columns={0: \"R\"})\n",
    "jun_battery_arrests_18_df = jun_battery_arrests_18_df.drop(columns=\"R\")\n",
    "\n",
    "jun_battery_arr_18_df = jun_battery_arrests_18_df.set_index([\"2\"])\n",
    "jun_battery_arr_18_df = jun_battery_arr_18_df.transpose()\n",
    "count_jun_battery_arrest_6mo_18 = round(jun_battery_arr_18_df[\"Y\"].mean())\n",
    "\n",
    "jun_battery_arrest_6mo_19_df = battery_jun_2019_df.loc[battery_jun_2019_df[\"Arrest\"] == \"Y\"]\n",
    "count_jun_battery_arrest_6mo_19 = len(jun_battery_arrest_6mo_19_df)\n",
    "print(count_jun_battery_arrest_6mo_18, count_jun_battery_arrest_6mo_19)\n",
    "\n",
    "\n",
    "# Creating 6mo dicts for 2018 and 2019:\n",
    "battery_arrests_6mo_2018_dict = {\n",
    "    'January' : count_jan_battery_arrest_6mo_18,\n",
    "    'February' : count_feb_battery_arrest_6mo_18,\n",
    "    'March' : count_mar_battery_arrest_6mo_18,\n",
    "    'April' : count_apr_battery_arrest_6mo_18,\n",
    "    'May' : count_may_battery_arrest_6mo_18,\n",
    "    'June' : count_jun_battery_arrest_6mo_18,\n",
    "}\n",
    "\n",
    "battery_arrests_6mo_2019_dict = {\n",
    "    'January' : count_jan_battery_arrest_6mo_19,\n",
    "    'February' : count_feb_battery_arrest_6mo_19,\n",
    "    'March' : count_mar_battery_arrest_6mo_19,\n",
    "    'April' : count_apr_battery_arrest_6mo_19,\n",
    "    'May' : count_may_battery_arrest_6mo_19,\n",
    "    'June' : count_jun_battery_arrest_6mo_19,\n",
    "}\n",
    "\n",
    "# Creating a single dataframe for graphing:\n",
    "battery_arrests_by_month_6mo_2018_df = pd.DataFrame(battery_arrests_6mo_2018_dict, index=[0])\n",
    "battery_arrests_by_month_6mo_2019_df = pd.DataFrame(battery_arrests_6mo_2019_dict, index=[0])\n",
    "battery_abm6mo18_df = battery_arrests_by_month_6mo_2018_df.transpose()\n",
    "battery_abm6mo_df = battery_abm6mo18_df.rename(columns={0: \"Battery Arrests First 6 Months of 2018\"})\n",
    "battery_abm6mo_df[\"Battery Arrests First 6 Months of 2019\"] = battery_arrests_by_month_6mo_2019_df.transpose()\n",
    "battery_abm6mo_df\n",
    "\n",
    "# AS AN EXAMPLE:\n",
    "# Breakdown of battery arrests by month for first 6 months:\n",
    "\n",
    "ax = battery_abm6mo_df.plot.bar(rot=90)\n",
    "# Incorporate the other graph properties\n",
    "plt.title(\"Breakdown Chicago Battery Arrests - First 6 Months '18 vs. '19\")\n",
    "plt.ylabel(\"Number of Battery Arrest Cases\")\n",
    "plt.xlabel(\"Month of Arrest\")\n",
    "plt.grid(alpha = 0.25)\n",
    "plt.xticks(rotation=90)\n",
    "plt.legend()\n",
    "fig = plt.gcf()\n",
    "fig.set_size_inches(10, 12)\n",
    "\n",
    "# Save the figure\n",
    "#plt.savefig(\"Images/Breakdown of Chicago Battery Arrests in First Six Months 2018 vs 2019.png\")\n",
    "\n",
    "# Show plot\n",
    "plt.show()\n"
   ]
  },
  {
   "cell_type": "markdown",
   "metadata": {},
   "source": [
    "There were fewer battery crimes committed in the first four months of 2019 than were committed in those months in 2018, however, there weren't consistently more arrests made in those months during 2019. What about criminal damage crimes? Thus far there doesn't appear to be any significance between arrests increasing and crime decreasing in the major crime categories..."
   ]
  },
  {
   "cell_type": "markdown",
   "metadata": {},
   "source": [
    "CRIMINAL DAMAGE ARREST ANALYSIS:"
   ]
  },
  {
   "cell_type": "code",
   "execution_count": 48,
   "metadata": {},
   "outputs": [
    {
     "name": "stdout",
     "output_type": "stream",
     "text": [
      "125 99\n",
      "115 111\n",
      "150 117\n",
      "123 139\n",
      "182 159\n",
      "150 126\n"
     ]
    },
    {
     "data": {
      "image/png": "[encoded data removed]",
      "text/plain": [
       "<Figure size 720x864 with 1 Axes>"
      ]
     },
     "metadata": {
      "needs_background": "light"
     },
     "output_type": "display_data"
    }
   ],
   "source": [
    "# Creating Monthly DataFrames for specific Crime for 2018 and 2019:\n",
    "criminal_damage_jan_2018_df = jan_2018_df.loc[jan_2018_df[\"Primary Description\"] == \"CRIMINAL DAMAGE\"]\n",
    "criminal_damage_jan_2018 = len(criminal_damage_jan_2018_df)\n",
    "criminal_damage_jan_2019_df = jan_2019_df.loc[jan_2019_df[\"Primary Description\"] == \"CRIMINAL DAMAGE\"]\n",
    "criminal_damage_jan_2019 = len(criminal_damage_jan_2019_df)\n",
    "\n",
    "criminal_damage_feb_2018_df = feb_2018_df.loc[feb_2018_df[\"Primary Description\"] == \"CRIMINAL DAMAGE\"]\n",
    "criminal_damage_feb_2018 = len(criminal_damage_feb_2018_df)\n",
    "criminal_damage_feb_2019_df = feb_2019_df.loc[feb_2019_df[\"Primary Description\"] == \"CRIMINAL DAMAGE\"]\n",
    "criminal_damage_feb_2019 = len(criminal_damage_feb_2019_df)\n",
    "\n",
    "criminal_damage_mar_2018_df = mar_2018_df.loc[mar_2018_df[\"Primary Description\"] == \"CRIMINAL DAMAGE\"]\n",
    "criminal_damage_mar_2018 = len(criminal_damage_mar_2018_df)\n",
    "criminal_damage_mar_2019_df = mar_2019_df.loc[mar_2019_df[\"Primary Description\"] == \"CRIMINAL DAMAGE\"]\n",
    "criminal_damage_mar_2019 = len(criminal_damage_mar_2019_df)\n",
    "\n",
    "criminal_damage_apr_2018_df = apr_2018_df.loc[apr_2018_df[\"Primary Description\"] == \"CRIMINAL DAMAGE\"]\n",
    "criminal_damage_apr_2018 = len(criminal_damage_apr_2018_df)\n",
    "criminal_damage_apr_2019_df = apr_2019_df.loc[apr_2019_df[\"Primary Description\"] == \"CRIMINAL DAMAGE\"]\n",
    "criminal_damage_apr_2019 = len(criminal_damage_apr_2019_df)\n",
    "\n",
    "criminal_damage_may_2018_df = may_2018_df.loc[may_2018_df[\"Primary Description\"] == \"CRIMINAL DAMAGE\"]\n",
    "criminal_damage_may_2018 = len(criminal_damage_may_2018_df)\n",
    "criminal_damage_may_2019_df = may_2019_df.loc[may_2019_df[\"Primary Description\"] == \"CRIMINAL DAMAGE\"]\n",
    "criminal_damage_may_2019 = len(criminal_damage_may_2019_df)\n",
    "\n",
    "criminal_damage_jun_2018_df = jun_2018_df.loc[jun_2018_df[\"Primary Description\"] == \"CRIMINAL DAMAGE\"]\n",
    "criminal_damage_jun_2018 = len(criminal_damage_jun_2018_df)\n",
    "criminal_damage_jun_2019_df = jun_2019_df.loc[jun_2019_df[\"Primary Description\"] == \"CRIMINAL DAMAGE\"]\n",
    "criminal_damage_jun_2019 = len(criminal_damage_jun_2019_df)\n",
    "\n",
    "\n",
    "# Counting the number of criminal_damage arrests for January 2018 and 2019 as an example of what can be done graphically:\n",
    "jan_criminal_damage_arrest_count_18 = criminal_damage_jan_2018_df['Arrest'].value_counts()\n",
    "jan_criminal_damage_arrest_18_tuples = [tuple((x, y)) for x, y in jan_criminal_damage_arrest_count_18.items()]\n",
    "jan_criminal_damage_arrests_18_df = pd.DataFrame(jan_criminal_damage_arrest_18_tuples)\n",
    "jan_criminal_damage_arrests_18_df['2']=['N','Y']\n",
    "jan_criminal_damage_arrests_18_df = jan_criminal_damage_arrests_18_df.rename(columns={0: \"R\"})\n",
    "jan_criminal_damage_arrests_18_df = jan_criminal_damage_arrests_18_df.drop(columns=\"R\")\n",
    "\n",
    "jan_criminal_damage_arr_18_df = jan_criminal_damage_arrests_18_df.set_index([\"2\"])\n",
    "jan_criminal_damage_arr_18_df = jan_criminal_damage_arr_18_df.transpose()\n",
    "count_jan_criminal_damage_arrest_6mo_18 = round(jan_criminal_damage_arr_18_df[\"Y\"].mean())\n",
    "\n",
    "jan_criminal_damage_arrest_6mo_19_df = criminal_damage_jan_2019_df.loc[criminal_damage_jan_2019_df[\"Arrest\"] == \"Y\"]\n",
    "count_jan_criminal_damage_arrest_6mo_19 = len(jan_criminal_damage_arrest_6mo_19_df)\n",
    "print(count_jan_criminal_damage_arrest_6mo_18, count_jan_criminal_damage_arrest_6mo_19)\n",
    "\n",
    "# Counting the number of criminal_damage arrests for February 2018 and 2019:\n",
    "feb_criminal_damage_arrest_count_18 = criminal_damage_feb_2018_df['Arrest'].value_counts()\n",
    "feb_criminal_damage_arrest_18_tuples = [tuple((x, y)) for x, y in feb_criminal_damage_arrest_count_18.items()]\n",
    "feb_criminal_damage_arrests_18_df = pd.DataFrame(feb_criminal_damage_arrest_18_tuples)\n",
    "feb_criminal_damage_arrests_18_df['2']=['N','Y']\n",
    "feb_criminal_damage_arrests_18_df = feb_criminal_damage_arrests_18_df.rename(columns={0: \"R\"})\n",
    "feb_criminal_damage_arrests_18_df = feb_criminal_damage_arrests_18_df.drop(columns=\"R\")\n",
    "\n",
    "feb_criminal_damage_arr_18_df = feb_criminal_damage_arrests_18_df.set_index([\"2\"])\n",
    "feb_criminal_damage_arr_18_df = feb_criminal_damage_arr_18_df.transpose()\n",
    "count_feb_criminal_damage_arrest_6mo_18 = round(feb_criminal_damage_arr_18_df[\"Y\"].mean())\n",
    "\n",
    "feb_criminal_damage_arrest_6mo_19_df = criminal_damage_feb_2019_df.loc[criminal_damage_feb_2019_df[\"Arrest\"] == \"Y\"]\n",
    "count_feb_criminal_damage_arrest_6mo_19 = len(feb_criminal_damage_arrest_6mo_19_df)\n",
    "print(count_feb_criminal_damage_arrest_6mo_18, count_feb_criminal_damage_arrest_6mo_19)\n",
    "\n",
    "# Counting the number of criminal_damage arrests for March 2018 and 2019:\n",
    "mar_criminal_damage_arrest_count_18 = criminal_damage_mar_2018_df['Arrest'].value_counts()\n",
    "mar_criminal_damage_arrest_18_tuples = [tuple((x, y)) for x, y in mar_criminal_damage_arrest_count_18.items()]\n",
    "mar_criminal_damage_arrests_18_df = pd.DataFrame(mar_criminal_damage_arrest_18_tuples)\n",
    "mar_criminal_damage_arrests_18_df['2']=['N','Y']\n",
    "mar_criminal_damage_arrests_18_df = mar_criminal_damage_arrests_18_df.rename(columns={0: \"R\"})\n",
    "mar_criminal_damage_arrests_18_df = mar_criminal_damage_arrests_18_df.drop(columns=\"R\")\n",
    "\n",
    "mar_criminal_damage_arr_18_df = mar_criminal_damage_arrests_18_df.set_index([\"2\"])\n",
    "mar_criminal_damage_arr_18_df = mar_criminal_damage_arr_18_df.transpose()\n",
    "count_mar_criminal_damage_arrest_6mo_18 = round(mar_criminal_damage_arr_18_df[\"Y\"].mean())\n",
    "\n",
    "mar_criminal_damage_arrest_6mo_19_df = criminal_damage_mar_2019_df.loc[criminal_damage_mar_2019_df[\"Arrest\"] == \"Y\"]\n",
    "count_mar_criminal_damage_arrest_6mo_19 = len(mar_criminal_damage_arrest_6mo_19_df)\n",
    "print(count_mar_criminal_damage_arrest_6mo_18, count_mar_criminal_damage_arrest_6mo_19)\n",
    "\n",
    "# Counting the number of criminal_damage arrests for April 2018 and 2019:\n",
    "apr_criminal_damage_arrest_count_18 = criminal_damage_apr_2018_df['Arrest'].value_counts()\n",
    "apr_criminal_damage_arrest_18_tuples = [tuple((x, y)) for x, y in apr_criminal_damage_arrest_count_18.items()]\n",
    "apr_criminal_damage_arrests_18_df = pd.DataFrame(apr_criminal_damage_arrest_18_tuples)\n",
    "apr_criminal_damage_arrests_18_df['2']=['N','Y']\n",
    "apr_criminal_damage_arrests_18_df = apr_criminal_damage_arrests_18_df.rename(columns={0: \"R\"})\n",
    "apr_criminal_damage_arrests_18_df = apr_criminal_damage_arrests_18_df.drop(columns=\"R\")\n",
    "\n",
    "apr_criminal_damage_arr_18_df = apr_criminal_damage_arrests_18_df.set_index([\"2\"])\n",
    "apr_criminal_damage_arr_18_df = apr_criminal_damage_arr_18_df.transpose()\n",
    "count_apr_criminal_damage_arrest_6mo_18 = round(apr_criminal_damage_arr_18_df[\"Y\"].mean())\n",
    "\n",
    "apr_criminal_damage_arrest_6mo_19_df = criminal_damage_apr_2019_df.loc[criminal_damage_apr_2019_df[\"Arrest\"] == \"Y\"]\n",
    "count_apr_criminal_damage_arrest_6mo_19 = len(apr_criminal_damage_arrest_6mo_19_df)\n",
    "print(count_apr_criminal_damage_arrest_6mo_18, count_apr_criminal_damage_arrest_6mo_19)\n",
    "\n",
    "# Counting the number of criminal_damage arrests for May 2018 and 2019:\n",
    "may_criminal_damage_arrest_count_18 = criminal_damage_may_2018_df['Arrest'].value_counts()\n",
    "may_criminal_damage_arrest_18_tuples = [tuple((x, y)) for x, y in may_criminal_damage_arrest_count_18.items()]\n",
    "may_criminal_damage_arrests_18_df = pd.DataFrame(may_criminal_damage_arrest_18_tuples)\n",
    "may_criminal_damage_arrests_18_df['2']=['N','Y']\n",
    "may_criminal_damage_arrests_18_df = may_criminal_damage_arrests_18_df.rename(columns={0: \"R\"})\n",
    "may_criminal_damage_arrests_18_df = may_criminal_damage_arrests_18_df.drop(columns=\"R\")\n",
    "\n",
    "may_criminal_damage_arr_18_df = may_criminal_damage_arrests_18_df.set_index([\"2\"])\n",
    "may_criminal_damage_arr_18_df = may_criminal_damage_arr_18_df.transpose()\n",
    "count_may_criminal_damage_arrest_6mo_18 = round(may_criminal_damage_arr_18_df[\"Y\"].mean())\n",
    "\n",
    "may_criminal_damage_arrest_6mo_19_df = criminal_damage_may_2019_df.loc[criminal_damage_may_2019_df[\"Arrest\"] == \"Y\"]\n",
    "count_may_criminal_damage_arrest_6mo_19 = len(may_criminal_damage_arrest_6mo_19_df)\n",
    "print(count_may_criminal_damage_arrest_6mo_18, count_may_criminal_damage_arrest_6mo_19)\n",
    "\n",
    "# Counting the number of criminal_damage arrests for June 2018 and 2019:\n",
    "jun_criminal_damage_arrest_count_18 = criminal_damage_jun_2018_df['Arrest'].value_counts()\n",
    "jun_criminal_damage_arrest_18_tuples = [tuple((x, y)) for x, y in jun_criminal_damage_arrest_count_18.items()]\n",
    "jun_criminal_damage_arrests_18_df = pd.DataFrame(jun_criminal_damage_arrest_18_tuples)\n",
    "jun_criminal_damage_arrests_18_df['2']=['N','Y']\n",
    "jun_criminal_damage_arrests_18_df = jun_criminal_damage_arrests_18_df.rename(columns={0: \"R\"})\n",
    "jun_criminal_damage_arrests_18_df = jun_criminal_damage_arrests_18_df.drop(columns=\"R\")\n",
    "\n",
    "jun_criminal_damage_arr_18_df = jun_criminal_damage_arrests_18_df.set_index([\"2\"])\n",
    "jun_criminal_damage_arr_18_df = jun_criminal_damage_arr_18_df.transpose()\n",
    "count_jun_criminal_damage_arrest_6mo_18 = round(jun_criminal_damage_arr_18_df[\"Y\"].mean())\n",
    "\n",
    "jun_criminal_damage_arrest_6mo_19_df = criminal_damage_jun_2019_df.loc[criminal_damage_jun_2019_df[\"Arrest\"] == \"Y\"]\n",
    "count_jun_criminal_damage_arrest_6mo_19 = len(jun_criminal_damage_arrest_6mo_19_df)\n",
    "print(count_jun_criminal_damage_arrest_6mo_18, count_jun_criminal_damage_arrest_6mo_19)\n",
    "\n",
    "\n",
    "# Creating 6mo dicts for 2018 and 2019:\n",
    "criminal_damage_arrests_6mo_2018_dict = {\n",
    "    'January' : count_jan_criminal_damage_arrest_6mo_18,\n",
    "    'February' : count_feb_criminal_damage_arrest_6mo_18,\n",
    "    'March' : count_mar_criminal_damage_arrest_6mo_18,\n",
    "    'April' : count_apr_criminal_damage_arrest_6mo_18,\n",
    "    'May' : count_may_criminal_damage_arrest_6mo_18,\n",
    "    'June' : count_jun_criminal_damage_arrest_6mo_18,\n",
    "}\n",
    "\n",
    "criminal_damage_arrests_6mo_2019_dict = {\n",
    "    'January' : count_jan_criminal_damage_arrest_6mo_19,\n",
    "    'February' : count_feb_criminal_damage_arrest_6mo_19,\n",
    "    'March' : count_mar_criminal_damage_arrest_6mo_19,\n",
    "    'April' : count_apr_criminal_damage_arrest_6mo_19,\n",
    "    'May' : count_may_criminal_damage_arrest_6mo_19,\n",
    "    'June' : count_jun_criminal_damage_arrest_6mo_19,\n",
    "}\n",
    "\n",
    "# Creating a single dataframe for graphing:\n",
    "criminal_damage_arrests_by_month_6mo_2018_df = pd.DataFrame(criminal_damage_arrests_6mo_2018_dict, index=[0])\n",
    "criminal_damage_arrests_by_month_6mo_2019_df = pd.DataFrame(criminal_damage_arrests_6mo_2019_dict, index=[0])\n",
    "criminal_damage_abm6mo18_df = criminal_damage_arrests_by_month_6mo_2018_df.transpose()\n",
    "criminal_damage_abm6mo_df = criminal_damage_abm6mo18_df.rename(columns={0: \"Criminal Damage Arrests First 6 Months of 2018\"})\n",
    "criminal_damage_abm6mo_df[\"Criminal Damage Arrests First 6 Months of 2019\"] = criminal_damage_arrests_by_month_6mo_2019_df.transpose()\n",
    "criminal_damage_abm6mo_df\n",
    "\n",
    "# AS AN EXAMPLE:\n",
    "# Breakdown of criminal_damage arrests by month for first 6 months:\n",
    "\n",
    "ax = criminal_damage_abm6mo_df.plot.bar(rot=90)\n",
    "# Incorporate the other graph properties\n",
    "plt.title(\"Breakdown Chicago Criminal Damage Arrests - First 6 Months '18 vs. '19\")\n",
    "plt.ylabel(\"Number of Criminal Damage Arrest Cases\")\n",
    "plt.xlabel(\"Month of Arrest\")\n",
    "plt.grid(alpha = 0.25)\n",
    "plt.xticks(rotation=90)\n",
    "plt.legend()\n",
    "fig = plt.gcf()\n",
    "fig.set_size_inches(10, 12)\n",
    "\n",
    "# Save the figure\n",
    "#plt.savefig(\"Images/Breakdown of Chicago Criminal Damage Arrests in First Six Months 2018 vs 2019.png\")\n",
    "\n",
    "# Show plot\n",
    "plt.show()\n"
   ]
  },
  {
   "cell_type": "markdown",
   "metadata": {},
   "source": [
    "Comparing the graphs of criminal damage crimes and criminal damage arrests, there doesn't seems to be any significant findings. Crime was overall about the same or a little less in 2019 and arrests were less on average. The reduction in arrests could be due to the reduction of crime, nothing more."
   ]
  },
  {
   "cell_type": "code",
   "execution_count": 49,
   "metadata": {},
   "outputs": [
    {
     "data": {
      "text/html": [
       "<div>\n",
       "<style scoped>\n",
       "    .dataframe tbody tr th:only-of-type {\n",
       "        vertical-align: middle;\n",
       "    }\n",
       "\n",
       "    .dataframe tbody tr th {\n",
       "        vertical-align: top;\n",
       "    }\n",
       "\n",
       "    .dataframe thead th {\n",
       "        text-align: right;\n",
       "    }\n",
       "</style>\n",
       "<table border=\"1\" class=\"dataframe\">\n",
       "  <thead>\n",
       "    <tr style=\"text-align: right;\">\n",
       "      <th></th>\n",
       "      <th>January</th>\n",
       "      <th>February</th>\n",
       "      <th>March</th>\n",
       "      <th>April</th>\n",
       "      <th>May</th>\n",
       "      <th>June</th>\n",
       "    </tr>\n",
       "  </thead>\n",
       "  <tbody>\n",
       "    <tr>\n",
       "      <th>Theft 2018</th>\n",
       "      <td>501</td>\n",
       "      <td>478</td>\n",
       "      <td>529</td>\n",
       "      <td>528</td>\n",
       "      <td>540</td>\n",
       "      <td>545</td>\n",
       "    </tr>\n",
       "    <tr>\n",
       "      <th>Theft 2019</th>\n",
       "      <td>509</td>\n",
       "      <td>471</td>\n",
       "      <td>449</td>\n",
       "      <td>462</td>\n",
       "      <td>530</td>\n",
       "      <td>389</td>\n",
       "    </tr>\n",
       "    <tr>\n",
       "      <th>Battery 2018</th>\n",
       "      <td>771</td>\n",
       "      <td>766</td>\n",
       "      <td>840</td>\n",
       "      <td>748</td>\n",
       "      <td>1036</td>\n",
       "      <td>896</td>\n",
       "    </tr>\n",
       "    <tr>\n",
       "      <th>Battery 2019</th>\n",
       "      <td>770</td>\n",
       "      <td>709</td>\n",
       "      <td>887</td>\n",
       "      <td>826</td>\n",
       "      <td>941</td>\n",
       "      <td>749</td>\n",
       "    </tr>\n",
       "    <tr>\n",
       "      <th>Criminal Damage 2018</th>\n",
       "      <td>125</td>\n",
       "      <td>115</td>\n",
       "      <td>150</td>\n",
       "      <td>123</td>\n",
       "      <td>182</td>\n",
       "      <td>150</td>\n",
       "    </tr>\n",
       "    <tr>\n",
       "      <th>Criminal Damage 2019</th>\n",
       "      <td>99</td>\n",
       "      <td>111</td>\n",
       "      <td>117</td>\n",
       "      <td>139</td>\n",
       "      <td>159</td>\n",
       "      <td>126</td>\n",
       "    </tr>\n",
       "  </tbody>\n",
       "</table>\n",
       "</div>"
      ],
      "text/plain": [
       "                      January  February  March  April   May  June\n",
       "Theft 2018                501       478    529    528   540   545\n",
       "Theft 2019                509       471    449    462   530   389\n",
       "Battery 2018              771       766    840    748  1036   896\n",
       "Battery 2019              770       709    887    826   941   749\n",
       "Criminal Damage 2018      125       115    150    123   182   150\n",
       "Criminal Damage 2019       99       111    117    139   159   126"
      ]
     },
     "execution_count": 49,
     "metadata": {},
     "output_type": "execute_result"
    }
   ],
   "source": [
    "arrests_cc_by_type_6mo_df = pd.DataFrame()\n",
    "arrests_cc_by_type_6mo_df = theft_abm6mo_df.merge(battery_abm6mo_df, how='outer', left_index=True, right_index=True)\n",
    "arrests_cc_by_type_6mo_df = arrests_cc_by_type_6mo_df.merge(criminal_damage_abm6mo_df, how='outer', left_index=True, right_index=True)\n",
    "arrests_cc_by_type_6mo_df = arrests_cc_by_type_6mo_df.rename(columns={\"Criminal Damage Arrests First 6 Months of 2018\": \"Criminal Damage 2018\", \"Criminal Damage Arrests First 6 Months of 2019\": \"Criminal Damage 2019\", \"Theft Arrests First 6 Months of 2018\": \"Theft 2018\",\"Theft Arrests First 6 Months of 2019\": \"Theft 2019\",\"Battery Arrests First 6 Months of 2018\": \"Battery 2018\", \"Battery Arrests First 6 Months of 2019\": \"Battery 2019\"})\n",
    "accbt6mo_df = arrests_cc_by_type_6mo_df.transpose()\n",
    "accbt6mo_df"
   ]
  },
  {
   "cell_type": "code",
   "execution_count": 50,
   "metadata": {},
   "outputs": [
    {
     "data": {
      "text/html": [
       "<div>\n",
       "<style scoped>\n",
       "    .dataframe tbody tr th:only-of-type {\n",
       "        vertical-align: middle;\n",
       "    }\n",
       "\n",
       "    .dataframe tbody tr th {\n",
       "        vertical-align: top;\n",
       "    }\n",
       "\n",
       "    .dataframe thead th {\n",
       "        text-align: right;\n",
       "    }\n",
       "</style>\n",
       "<table border=\"1\" class=\"dataframe\">\n",
       "  <thead>\n",
       "    <tr style=\"text-align: right;\">\n",
       "      <th></th>\n",
       "      <th>2018 Six Month Totals</th>\n",
       "      <th>2019 Six Month Totals</th>\n",
       "    </tr>\n",
       "  </thead>\n",
       "  <tbody>\n",
       "    <tr>\n",
       "      <th>Criminal Damage Arrests</th>\n",
       "      <td>845</td>\n",
       "      <td>751</td>\n",
       "    </tr>\n",
       "    <tr>\n",
       "      <th>Battery Arrests</th>\n",
       "      <td>5057</td>\n",
       "      <td>4882</td>\n",
       "    </tr>\n",
       "    <tr>\n",
       "      <th>Theft Arrests</th>\n",
       "      <td>3121</td>\n",
       "      <td>2810</td>\n",
       "    </tr>\n",
       "  </tbody>\n",
       "</table>\n",
       "</div>"
      ],
      "text/plain": [
       "                         2018 Six Month Totals  2019 Six Month Totals\n",
       "Criminal Damage Arrests                    845                    751\n",
       "Battery Arrests                           5057                   4882\n",
       "Theft Arrests                             3121                   2810"
      ]
     },
     "execution_count": 50,
     "metadata": {},
     "output_type": "execute_result"
    }
   ],
   "source": [
    "# Summing the total arrests for the three primary categories '18 & '19:\n",
    "\n",
    "cd_a_6mo_tot_18 = arrests_cc_by_type_6mo_df[\"Criminal Damage 2018\"].sum()\n",
    "cd_a_6mo_tot_19 = arrests_cc_by_type_6mo_df[\"Criminal Damage 2019\"].sum()\n",
    "\n",
    "b_a_6mo_tot_18 = arrests_cc_by_type_6mo_df[\"Battery 2018\"].sum()\n",
    "b_a_6mo_tot_19 = arrests_cc_by_type_6mo_df[\"Battery 2019\"].sum()\n",
    "\n",
    "t_a_6mo_tot_18 = arrests_cc_by_type_6mo_df[\"Theft 2018\"].sum()\n",
    "t_a_6mo_tot_19 = arrests_cc_by_type_6mo_df[\"Theft 2019\"].sum()\n",
    "\n",
    "# Merging into a singl DataFrame for graphing:\n",
    "greatest_crime_arrests_18_dict = {\n",
    "    \"Criminal Damage Arrests\" : cd_a_6mo_tot_18,\n",
    "    \"Battery Arrests\" : b_a_6mo_tot_18,\n",
    "    \"Theft Arrests\" : t_a_6mo_tot_18\n",
    "}\n",
    "greatest_crime_arrests_19_dict = {\n",
    "    \"Criminal Damage Arrests\" : cd_a_6mo_tot_19,\n",
    "    \"Battery Arrests\" : b_a_6mo_tot_19,\n",
    "    \"Theft Arrests\" : t_a_6mo_tot_19\n",
    "}\n",
    "\n",
    "cd_b_t_arrests_6mo_2018_df = pd.DataFrame(greatest_crime_arrests_18_dict, index=[0])\n",
    "cd_b_t_arrests_6mo_2019_df = pd.DataFrame(greatest_crime_arrests_19_dict, index=[0])\n",
    "\n",
    "cc_cd_b_t_arrests_6mo_2018_df = cd_b_t_arrests_6mo_2018_df.transpose()\n",
    "ab6mo_df = cc_cd_b_t_arrests_6mo_2018_df.rename(columns={0: \"2018 Six Month Totals\"})\n",
    "ab6mo_df[\"2019 Six Month Totals\"] = cd_b_t_arrests_6mo_2019_df.transpose()\n",
    "ab6mo_df"
   ]
  },
  {
   "cell_type": "code",
   "execution_count": 51,
   "metadata": {},
   "outputs": [
    {
     "data": {
      "image/png": "[encoded data removed]",
      "text/plain": [
       "<Figure size 720x1224 with 1 Axes>"
      ]
     },
     "metadata": {
      "needs_background": "light"
     },
     "output_type": "display_data"
    }
   ],
   "source": [
    "# Breakdown of arrests by 3 most common crime types for first 6 months:\n",
    "# (Each crime type had at least 10,000 filed cases in 2018 & 2019)\n",
    "\n",
    "ax = ab6mo_df.plot.bar(rot=90)\n",
    "# Incorporate the other graph properties\n",
    "plt.title(\"Total Chicago Arrests In Three Major Crime Categories - First 6 Months '18 vs. '19\")\n",
    "plt.ylabel(\"Number of Arrest Cases\")\n",
    "plt.xlabel(\"Category and Year\")\n",
    "plt.grid(alpha = 0.25)\n",
    "plt.xticks(rotation=70)\n",
    "plt.legend()\n",
    "fig = plt.gcf()\n",
    "fig.set_size_inches(10, 17)\n",
    "\n",
    "# Save the figure\n",
    "#plt.savefig(\"Images/Total Chicago Arrests In Three Major Crime Categories First 6 Months 18 vs 19.png\")\n",
    "\n",
    "# Show plot\n",
    "plt.show()"
   ]
  },
  {
   "cell_type": "markdown",
   "metadata": {},
   "source": [
    "So how do the three main crime categories compare in terms of arrest? Although theft crimes are most prevelant, battery arrests are more common than theft arrests. (Criminal damage had the fewest crimes comparitively and the fewest arrests.) Perhaps it is harder to catch theives than violent individuals."
   ]
  },
  {
   "cell_type": "code",
   "execution_count": 52,
   "metadata": {},
   "outputs": [
    {
     "data": {
      "image/png": "[encoded data removed]",
      "text/plain": [
       "<Figure size 720x1080 with 1 Axes>"
      ]
     },
     "metadata": {
      "needs_background": "light"
     },
     "output_type": "display_data"
    }
   ],
   "source": [
    "# Breakdown of arrests by 3 most common crime types for first 6 months:\n",
    "# (Each crime type had at least 10,000 filed cases in 2018 & 2019)\n",
    "\n",
    "ax = accbt6mo_df.plot.bar(rot=90)\n",
    "# Incorporate the other graph properties\n",
    "plt.title(\"Breakdown Chicago Arrests In Three Major Crime Categories - First 6 Months '18 vs. '19\")\n",
    "plt.ylabel(\"Number of Arrest Cases\")\n",
    "plt.xlabel(\"Months\")\n",
    "plt.grid(alpha = 0.25)\n",
    "plt.xticks(rotation=70)\n",
    "\n",
    "fig = plt.gcf()\n",
    "fig.set_size_inches(10, 15)\n",
    "\n",
    "# Save the figure\n",
    "#plt.savefig(\"Images/Breakdown Chicago Arrests In Three Major Crime Categories First 6 Months 18 vs 19.png\")\n",
    "\n",
    "# Show plot\n",
    "plt.show()"
   ]
  },
  {
   "cell_type": "markdown",
   "metadata": {},
   "source": [
    "It is interesting to note that between theft, battery, and criminal damage crimes, that although theft crimes were the most common crimes commited in this time frame, battery crimes have the highest arrest rates. It seems that arrests for crimes are highest in each of the major categories, in May. Are crime and arrest rates influenced by the good weather? Such an investigation may be worth further consideration. After no significant findings between arrests and crime committed have been shown definitively."
   ]
  },
  {
   "cell_type": "code",
   "execution_count": null,
   "metadata": {},
   "outputs": [],
   "source": []
  },
  {
   "cell_type": "code",
   "execution_count": null,
   "metadata": {},
   "outputs": [],
   "source": []
  },
  {
   "cell_type": "code",
   "execution_count": null,
   "metadata": {},
   "outputs": [],
   "source": []
  },
  {
   "cell_type": "code",
   "execution_count": null,
   "metadata": {},
   "outputs": [],
   "source": []
  },
  {
   "cell_type": "code",
   "execution_count": null,
   "metadata": {},
   "outputs": [],
   "source": []
  },
  {
   "cell_type": "code",
   "execution_count": null,
   "metadata": {},
   "outputs": [],
   "source": []
  }
 ],
 "metadata": {
  "kernelspec": {
   "display_name": "Python 3",
   "language": "python",
   "name": "python3"
  },
  "language_info": {
   "codemirror_mode": {
    "name": "ipython",
    "version": 3
   },
   "file_extension": ".py",
   "mimetype": "text/x-python",
   "name": "python",
   "nbconvert_exporter": "python",
   "pygments_lexer": "ipython3",
   "version": "3.7.1"
  }
 },
 "nbformat": 4,
 "nbformat_minor": 2
}
