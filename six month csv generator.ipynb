{
 "cells": [
  {
   "cell_type": "code",
   "execution_count": 1,
   "metadata": {},
   "outputs": [],
   "source": [
    "################################################################################################\n",
    "# Esther Lowe - Create CSV files that contain the first 6 months of crime in 2018 and 2019     #\n",
    "# Also cleaned up 2018 csv                                                                     #\n",
    "# 06/29/2019                                                                                   #\n",
    "################################################################################################"
   ]
  },
  {
   "cell_type": "code",
   "execution_count": 2,
   "metadata": {},
   "outputs": [],
   "source": [
    "import csv\n",
    "import os\n",
    "import pandas as pd\n",
    "\n",
    "# Load in crime csvs:\n",
    "crimes_2018_csv = \"csvs/Crimes_-_2018.csv\"\n",
    "crimes_to_present_csv = \"csvs/Crimes_-_One_year_prior_to_present.csv\"\n",
    "\n",
    "crimes_2018_df = pd.read_csv(crimes_2018_csv)\n",
    "crimes_to_present_df = pd.read_csv(crimes_to_present_csv)"
   ]
  },
  {
   "cell_type": "code",
   "execution_count": 3,
   "metadata": {},
   "outputs": [
    {
     "data": {
      "text/plain": [
       "Index(['ID', 'Case Number', 'Date', 'Block', 'IUCR', 'Primary Type',\n",
       "       'Description', 'Location Description', 'Arrest', 'Domestic', 'Beat',\n",
       "       'District', 'Ward', 'Community Area', 'FBI Code', 'X Coordinate',\n",
       "       'Y Coordinate', 'Year', 'Updated On', 'Latitude', 'Longitude',\n",
       "       'Location'],\n",
       "      dtype='object')"
      ]
     },
     "execution_count": 3,
     "metadata": {},
     "output_type": "execute_result"
    }
   ],
   "source": [
    "# Create a list of columns to determine what columns to keep and how to rename them:\n",
    "crimes_2018_df.columns"
   ]
  },
  {
   "cell_type": "code",
   "execution_count": 4,
   "metadata": {},
   "outputs": [],
   "source": [
    "# Make new columns in the 2018 Crimes DataFrame by splitting values for year, month, day, and time:\n",
    "crimes_2018_df[[\"Month\", \"Day\", \"Year\"]] = crimes_2018_df[\"Date\"].str.split(\"/\", n=2, expand=True,)\n",
    "crimes_2018_df[[\"Year\",\"Time\"]] = crimes_2018_df[\"Year\"].str.split(\" \", n=1, expand=True,)"
   ]
  },
  {
   "cell_type": "code",
   "execution_count": 5,
   "metadata": {},
   "outputs": [],
   "source": [
    "# Get rid of unnecessary columns, keeping only \"Case Number\", \"Month\",\"Day\",\"Year\", \"Time\", \"Beat\", \"Location Description\",\"Primary Type\",\"Description\",\"ARREST\", \"Domestic\",\"Latitude\", \"Longitude\":\n",
    "crimes_18_df = crimes_2018_df[[\"Case Number\", \"Month\",\"Day\",\"Year\", \"Time\", \"Beat\",\"Location Description\",\"Primary Type\",\"Description\",\"Arrest\", \"Domestic\",\"Latitude\", \"Longitude\"]]"
   ]
  },
  {
   "cell_type": "code",
   "execution_count": 6,
   "metadata": {},
   "outputs": [],
   "source": [
    "# Rename columns for ease of read and use:\n",
    "c_2018_df = crimes_18_df.rename(columns={\"Primary Type\" : \"Primary Description\", \"Description\" : \"Secondary Description\"})"
   ]
  },
  {
   "cell_type": "code",
   "execution_count": 7,
   "metadata": {},
   "outputs": [],
   "source": [
    "# Convert the months column to integers in order to sort the dataframe and pull out the first 6 months:\n",
    "c_2018_df['Month'] = c_2018_df['Month'].astype(int)\n",
    "c_2018_df['Day'] = c_2018_df['Day'].astype(int)\n",
    "c_2018_df['Year'] = c_2018_df['Year'].astype(int)"
   ]
  },
  {
   "cell_type": "code",
   "execution_count": 8,
   "metadata": {},
   "outputs": [],
   "source": [
    "# Save DataFrame to CSV file for further analysis:\n",
    "c_2018_df.to_csv(\"csvschicago_crime_2018.csv\", encoding=\"utf-8\", index=False)"
   ]
  },
  {
   "cell_type": "code",
   "execution_count": 9,
   "metadata": {},
   "outputs": [
    {
     "data": {
      "text/plain": [
       "5    24640\n",
       "6    24127\n",
       "3    21163\n",
       "4    21073\n",
       "1    20358\n",
       "2    17274\n",
       "Name: Month, dtype: int64"
      ]
     },
     "execution_count": 9,
     "metadata": {},
     "output_type": "execute_result"
    }
   ],
   "source": [
    "# Create dataframe for the first 6 months of 2018 and leave everything else:\n",
    "# Verify the data was pulled properly by obtaining numbers of rows per month:\n",
    "df_2018 = c_2018_df.loc[c_2018_df['Month']<=6,:].reset_index(drop=True)\n",
    "df_2018['Month'].value_counts()"
   ]
  },
  {
   "cell_type": "code",
   "execution_count": 18,
   "metadata": {},
   "outputs": [
    {
     "data": {
      "text/html": [
       "<div>\n",
       "<style scoped>\n",
       "    .dataframe tbody tr th:only-of-type {\n",
       "        vertical-align: middle;\n",
       "    }\n",
       "\n",
       "    .dataframe tbody tr th {\n",
       "        vertical-align: top;\n",
       "    }\n",
       "\n",
       "    .dataframe thead th {\n",
       "        text-align: right;\n",
       "    }\n",
       "</style>\n",
       "<table border=\"1\" class=\"dataframe\">\n",
       "  <thead>\n",
       "    <tr style=\"text-align: right;\">\n",
       "      <th></th>\n",
       "      <th>Case Number</th>\n",
       "      <th>Month</th>\n",
       "      <th>Day</th>\n",
       "      <th>Year</th>\n",
       "      <th>Time</th>\n",
       "      <th>Beat</th>\n",
       "      <th>Location Description</th>\n",
       "      <th>Primary Description</th>\n",
       "      <th>Secondary Description</th>\n",
       "      <th>Arrest</th>\n",
       "      <th>Domestic</th>\n",
       "      <th>Latitude</th>\n",
       "      <th>Longitude</th>\n",
       "    </tr>\n",
       "  </thead>\n",
       "  <tbody>\n",
       "    <tr>\n",
       "      <th>0</th>\n",
       "      <td>JB329337</td>\n",
       "      <td>1</td>\n",
       "      <td>1</td>\n",
       "      <td>2018</td>\n",
       "      <td>12:00:00 AM</td>\n",
       "      <td>411</td>\n",
       "      <td>RESIDENCE</td>\n",
       "      <td>BATTERY</td>\n",
       "      <td>DOMESTIC BATTERY SIMPLE</td>\n",
       "      <td>False</td>\n",
       "      <td>False</td>\n",
       "      <td>41.756331</td>\n",
       "      <td>-87.588307</td>\n",
       "    </tr>\n",
       "    <tr>\n",
       "      <th>1</th>\n",
       "      <td>JB195601</td>\n",
       "      <td>1</td>\n",
       "      <td>1</td>\n",
       "      <td>2018</td>\n",
       "      <td>12:00:00 AM</td>\n",
       "      <td>1632</td>\n",
       "      <td>RESIDENCE</td>\n",
       "      <td>SEX OFFENSE</td>\n",
       "      <td>CRIMINAL SEXUAL ABUSE</td>\n",
       "      <td>False</td>\n",
       "      <td>False</td>\n",
       "      <td>41.951698</td>\n",
       "      <td>-87.802333</td>\n",
       "    </tr>\n",
       "    <tr>\n",
       "      <th>2</th>\n",
       "      <td>JB331992</td>\n",
       "      <td>1</td>\n",
       "      <td>1</td>\n",
       "      <td>2018</td>\n",
       "      <td>12:00:00 AM</td>\n",
       "      <td>1711</td>\n",
       "      <td>RESIDENCE</td>\n",
       "      <td>CRIM SEXUAL ASSAULT</td>\n",
       "      <td>PREDATORY</td>\n",
       "      <td>False</td>\n",
       "      <td>False</td>\n",
       "      <td>41.983850</td>\n",
       "      <td>-87.713782</td>\n",
       "    </tr>\n",
       "    <tr>\n",
       "      <th>3</th>\n",
       "      <td>JB194381</td>\n",
       "      <td>1</td>\n",
       "      <td>1</td>\n",
       "      <td>2018</td>\n",
       "      <td>12:00:00 AM</td>\n",
       "      <td>2213</td>\n",
       "      <td>RESIDENCE</td>\n",
       "      <td>OTHER OFFENSE</td>\n",
       "      <td>HARASSMENT BY TELEPHONE</td>\n",
       "      <td>True</td>\n",
       "      <td>True</td>\n",
       "      <td>41.720328</td>\n",
       "      <td>-87.651891</td>\n",
       "    </tr>\n",
       "    <tr>\n",
       "      <th>4</th>\n",
       "      <td>JB367921</td>\n",
       "      <td>1</td>\n",
       "      <td>1</td>\n",
       "      <td>2018</td>\n",
       "      <td>12:00:00 AM</td>\n",
       "      <td>1913</td>\n",
       "      <td>RESIDENCE</td>\n",
       "      <td>OFFENSE INVOLVING CHILDREN</td>\n",
       "      <td>AGG CRIM SEX ABUSE FAM MEMBER</td>\n",
       "      <td>False</td>\n",
       "      <td>True</td>\n",
       "      <td>41.962282</td>\n",
       "      <td>-87.662339</td>\n",
       "    </tr>\n",
       "  </tbody>\n",
       "</table>\n",
       "</div>"
      ],
      "text/plain": [
       "  Case Number  Month  Day  Year         Time  Beat Location Description  \\\n",
       "0    JB329337      1    1  2018  12:00:00 AM   411            RESIDENCE   \n",
       "1    JB195601      1    1  2018  12:00:00 AM  1632            RESIDENCE   \n",
       "2    JB331992      1    1  2018  12:00:00 AM  1711            RESIDENCE   \n",
       "3    JB194381      1    1  2018  12:00:00 AM  2213            RESIDENCE   \n",
       "4    JB367921      1    1  2018  12:00:00 AM  1913            RESIDENCE   \n",
       "\n",
       "          Primary Description          Secondary Description  Arrest  \\\n",
       "0                     BATTERY        DOMESTIC BATTERY SIMPLE   False   \n",
       "1                 SEX OFFENSE          CRIMINAL SEXUAL ABUSE   False   \n",
       "2         CRIM SEXUAL ASSAULT                      PREDATORY   False   \n",
       "3               OTHER OFFENSE        HARASSMENT BY TELEPHONE    True   \n",
       "4  OFFENSE INVOLVING CHILDREN  AGG CRIM SEX ABUSE FAM MEMBER   False   \n",
       "\n",
       "   Domestic   Latitude  Longitude  \n",
       "0     False  41.756331 -87.588307  \n",
       "1     False  41.951698 -87.802333  \n",
       "2     False  41.983850 -87.713782  \n",
       "3      True  41.720328 -87.651891  \n",
       "4      True  41.962282 -87.662339  "
      ]
     },
     "execution_count": 18,
     "metadata": {},
     "output_type": "execute_result"
    }
   ],
   "source": [
    "# Save DataFrame to CSV file for further analysis:\n",
    "df_2018.to_csv(\"csvs/chicago_crime_6mo_2018.csv\", encoding=\"utf-8\", index=False)\n",
    "df_2018.head()"
   ]
  },
  {
   "cell_type": "code",
   "execution_count": 11,
   "metadata": {},
   "outputs": [
    {
     "data": {
      "text/plain": [
       "Index(['CASE#', 'DATE  OF OCCURRENCE', 'BLOCK', ' IUCR',\n",
       "       ' PRIMARY DESCRIPTION', ' SECONDARY DESCRIPTION',\n",
       "       ' LOCATION DESCRIPTION', 'ARREST', 'DOMESTIC', 'BEAT', 'WARD', 'FBI CD',\n",
       "       'X COORDINATE', 'Y COORDINATE', 'LATITUDE', 'LONGITUDE', 'LOCATION',\n",
       "       'Historical Wards 2003-2015', 'Zip Codes', 'Community Areas',\n",
       "       'Census Tracts', 'Wards'],\n",
       "      dtype='object')"
      ]
     },
     "execution_count": 11,
     "metadata": {},
     "output_type": "execute_result"
    }
   ],
   "source": [
    "# Create a list of columns to determine what columns to keep and how to rename them:\n",
    "crimes_to_present_df.columns"
   ]
  },
  {
   "cell_type": "code",
   "execution_count": 12,
   "metadata": {},
   "outputs": [],
   "source": [
    "# Create new columns in Crimes_to_Present data frame by splitting values for year, month, day, and time:\n",
    "crimes_to_present_df[[\"Month\", \"Day\", \"Year\"]] = crimes_to_present_df[\"DATE  OF OCCURRENCE\"].str.split(\"/\", n=2, expand=True,)\n",
    "crimes_to_present_df[[\"Year\",\"Time\"]] = crimes_to_present_df[\"Year\"].str.split(\" \", n=1, expand=True,)"
   ]
  },
  {
   "cell_type": "code",
   "execution_count": 13,
   "metadata": {},
   "outputs": [],
   "source": [
    "#get rid of unnecessary columns, keeping only \"CASE#\", \"Month\",\"Day\",\"Year\", \"Time\", \"Beat\", \" LOCATION DESCRIPTION\",\" PRIMARY DESCRIPTION\",\" SECONDARY DESCRIPTION\",\"ARREST\", \"DOMESTIC\",\"LATITUDE\", \"LONGITUDE\",\"BEAT\":\n",
    "c_t_present_df = crimes_to_present_df[[\"CASE#\", \"Month\",\"Day\",\"Year\", \"Time\", \"BEAT\", \" LOCATION DESCRIPTION\",\" PRIMARY DESCRIPTION\",\" SECONDARY DESCRIPTION\",\"ARREST\", \"DOMESTIC\",\"LATITUDE\", \"LONGITUDE\"]]"
   ]
  },
  {
   "cell_type": "code",
   "execution_count": 14,
   "metadata": {},
   "outputs": [],
   "source": [
    "# Rename columns for ease of read and use by giving the columns the same names for both data sets:\n",
    "c_t_present_df = c_t_present_df.rename( columns={\"CASE#\" : \"Case Number\", \" LOCATION DESCRIPTION\" : \"Location Description\",\" PRIMARY DESCRIPTION\" : \"Primary Description\",\" SECONDARY DESCRIPTION\" : \"Secondary Description\",\"ARREST\" : \"Arrest\", \"DOMESTIC\" : \"Domestic\",\"LATITUDE\" : \"Latitude\", \"LONGITUDE\" : \"Longitude\", \"BEAT\" : \"Beat\"} )"
   ]
  },
  {
   "cell_type": "code",
   "execution_count": 15,
   "metadata": {},
   "outputs": [],
   "source": [
    "# Convert date columns to integers for ease of computation:\n",
    "c_t_present_df['Month'] = c_t_present_df['Month'].astype(int)\n",
    "c_t_present_df['Day'] = c_t_present_df['Day'].astype(int)\n",
    "c_t_present_df['Year'] = c_t_present_df['Year'].astype(int)"
   ]
  },
  {
   "cell_type": "code",
   "execution_count": 16,
   "metadata": {},
   "outputs": [
    {
     "data": {
      "text/plain": [
       "5    23156\n",
       "4    20581\n",
       "3    20090\n",
       "1    19258\n",
       "2    18076\n",
       "6    17866\n",
       "Name: Month, dtype: int64"
      ]
     },
     "execution_count": 16,
     "metadata": {},
     "output_type": "execute_result"
    }
   ],
   "source": [
    "# Create dataframe for the first 6 months of 2018 and leave everything else:\n",
    "# Verify the data was pulled properly by obtaining numbers of rows per month:\n",
    "df_2019 = c_t_present_df.loc[c_t_present_df['Year']== 2019,:].reset_index(drop=True)\n",
    "df_2019['Month'].value_counts()"
   ]
  },
  {
   "cell_type": "code",
   "execution_count": 19,
   "metadata": {},
   "outputs": [
    {
     "data": {
      "text/html": [
       "<div>\n",
       "<style scoped>\n",
       "    .dataframe tbody tr th:only-of-type {\n",
       "        vertical-align: middle;\n",
       "    }\n",
       "\n",
       "    .dataframe tbody tr th {\n",
       "        vertical-align: top;\n",
       "    }\n",
       "\n",
       "    .dataframe thead th {\n",
       "        text-align: right;\n",
       "    }\n",
       "</style>\n",
       "<table border=\"1\" class=\"dataframe\">\n",
       "  <thead>\n",
       "    <tr style=\"text-align: right;\">\n",
       "      <th></th>\n",
       "      <th>Case Number</th>\n",
       "      <th>Month</th>\n",
       "      <th>Day</th>\n",
       "      <th>Year</th>\n",
       "      <th>Time</th>\n",
       "      <th>Beat</th>\n",
       "      <th>Location Description</th>\n",
       "      <th>Primary Description</th>\n",
       "      <th>Secondary Description</th>\n",
       "      <th>Arrest</th>\n",
       "      <th>Domestic</th>\n",
       "      <th>Latitude</th>\n",
       "      <th>Longitude</th>\n",
       "    </tr>\n",
       "  </thead>\n",
       "  <tbody>\n",
       "    <tr>\n",
       "      <th>0</th>\n",
       "      <td>JC300596</td>\n",
       "      <td>1</td>\n",
       "      <td>1</td>\n",
       "      <td>2019</td>\n",
       "      <td>12:00:00 AM</td>\n",
       "      <td>1654</td>\n",
       "      <td>PARKING LOT/GARAGE(NON.RESID.)</td>\n",
       "      <td>MOTOR VEHICLE THEFT</td>\n",
       "      <td>AUTOMOBILE</td>\n",
       "      <td>N</td>\n",
       "      <td>N</td>\n",
       "      <td>41.994914</td>\n",
       "      <td>-87.881938</td>\n",
       "    </tr>\n",
       "    <tr>\n",
       "      <th>1</th>\n",
       "      <td>JC323994</td>\n",
       "      <td>1</td>\n",
       "      <td>1</td>\n",
       "      <td>2019</td>\n",
       "      <td>12:00:00 AM</td>\n",
       "      <td>1122</td>\n",
       "      <td>APARTMENT</td>\n",
       "      <td>SEX OFFENSE</td>\n",
       "      <td>OTHER</td>\n",
       "      <td>N</td>\n",
       "      <td>N</td>\n",
       "      <td>41.890587</td>\n",
       "      <td>-87.723502</td>\n",
       "    </tr>\n",
       "    <tr>\n",
       "      <th>2</th>\n",
       "      <td>JC323472</td>\n",
       "      <td>1</td>\n",
       "      <td>1</td>\n",
       "      <td>2019</td>\n",
       "      <td>12:00:00 AM</td>\n",
       "      <td>1234</td>\n",
       "      <td>APARTMENT</td>\n",
       "      <td>OFFENSE INVOLVING CHILDREN</td>\n",
       "      <td>AGG CRIM SEX ABUSE FAM MEMBER</td>\n",
       "      <td>N</td>\n",
       "      <td>N</td>\n",
       "      <td>41.853080</td>\n",
       "      <td>-87.676857</td>\n",
       "    </tr>\n",
       "    <tr>\n",
       "      <th>3</th>\n",
       "      <td>JC315506</td>\n",
       "      <td>1</td>\n",
       "      <td>1</td>\n",
       "      <td>2019</td>\n",
       "      <td>12:00:00 AM</td>\n",
       "      <td>633</td>\n",
       "      <td>DAY CARE CENTER</td>\n",
       "      <td>SEX OFFENSE</td>\n",
       "      <td>CRIMINAL SEXUAL ABUSE</td>\n",
       "      <td>N</td>\n",
       "      <td>N</td>\n",
       "      <td>41.722030</td>\n",
       "      <td>-87.605997</td>\n",
       "    </tr>\n",
       "    <tr>\n",
       "      <th>4</th>\n",
       "      <td>JC286255</td>\n",
       "      <td>1</td>\n",
       "      <td>1</td>\n",
       "      <td>2019</td>\n",
       "      <td>12:00:00 AM</td>\n",
       "      <td>524</td>\n",
       "      <td>RESIDENCE</td>\n",
       "      <td>SEX OFFENSE</td>\n",
       "      <td>SEXUAL EXPLOITATION OF A CHILD</td>\n",
       "      <td>N</td>\n",
       "      <td>N</td>\n",
       "      <td>41.682482</td>\n",
       "      <td>-87.655454</td>\n",
       "    </tr>\n",
       "  </tbody>\n",
       "</table>\n",
       "</div>"
      ],
      "text/plain": [
       "  Case Number  Month  Day  Year         Time  Beat  \\\n",
       "0    JC300596      1    1  2019  12:00:00 AM  1654   \n",
       "1    JC323994      1    1  2019  12:00:00 AM  1122   \n",
       "2    JC323472      1    1  2019  12:00:00 AM  1234   \n",
       "3    JC315506      1    1  2019  12:00:00 AM   633   \n",
       "4    JC286255      1    1  2019  12:00:00 AM   524   \n",
       "\n",
       "             Location Description         Primary Description  \\\n",
       "0  PARKING LOT/GARAGE(NON.RESID.)         MOTOR VEHICLE THEFT   \n",
       "1                       APARTMENT                 SEX OFFENSE   \n",
       "2                       APARTMENT  OFFENSE INVOLVING CHILDREN   \n",
       "3                 DAY CARE CENTER                 SEX OFFENSE   \n",
       "4                       RESIDENCE                 SEX OFFENSE   \n",
       "\n",
       "            Secondary Description Arrest Domestic   Latitude  Longitude  \n",
       "0                      AUTOMOBILE      N        N  41.994914 -87.881938  \n",
       "1                           OTHER      N        N  41.890587 -87.723502  \n",
       "2   AGG CRIM SEX ABUSE FAM MEMBER      N        N  41.853080 -87.676857  \n",
       "3           CRIMINAL SEXUAL ABUSE      N        N  41.722030 -87.605997  \n",
       "4  SEXUAL EXPLOITATION OF A CHILD      N        N  41.682482 -87.655454  "
      ]
     },
     "execution_count": 19,
     "metadata": {},
     "output_type": "execute_result"
    }
   ],
   "source": [
    "# Save DataFrame to CSV file for further computation\n",
    "df_2019.to_csv(\"csvs/chicago_crime_6mo_2019.csv\", encoding=\"utf-8\", index=False)\n",
    "df_2019.head()"
   ]
  },
  {
   "cell_type": "code",
   "execution_count": null,
   "metadata": {},
   "outputs": [],
   "source": []
  }
 ],
 "metadata": {
  "kernelspec": {
   "display_name": "Python 3",
   "language": "python",
   "name": "python3"
  },
  "language_info": {
   "codemirror_mode": {
    "name": "ipython",
    "version": 3
   },
   "file_extension": ".py",
   "mimetype": "text/x-python",
   "name": "python",
   "nbconvert_exporter": "python",
   "pygments_lexer": "ipython3",
   "version": "3.7.1"
  }
 },
 "nbformat": 4,
 "nbformat_minor": 2
}
